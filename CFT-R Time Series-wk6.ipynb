{
 "cells": [
  {
   "cell_type": "markdown",
   "metadata": {},
   "source": [
    "<div class=\"alert alert-warning\"></i><strong>CFT Data Science With R Tutorials</strong><br>By: Seiya David \n",
    " </div>"
   ]
  },
  {
   "cell_type": "markdown",
   "metadata": {},
   "source": [
    "# Time Series Analyis"
   ]
  },
  {
   "cell_type": "markdown",
   "metadata": {},
   "source": [
    "### What is Time Series Analyis:\n",
    "Time series analysis is the analysis of time-dependent data.Time series could be a discrete or **continuous sequence** of observations that depend on time.When data or records are collected in an equal space of time, such data is refrered to as a ***Time Series Data***. Serial dependence is a very important characteristics of a time series, this implies that an observation considered today is strongly influenced by previous observations. This process is refered to as ***auto-correlation***."
   ]
  },
  {
   "cell_type": "markdown",
   "metadata": {},
   "source": [
    "### Identifying a Time Series Data\n",
    "> All the tables in Figure 1 are Time Series data. Do you know why?\n",
    "![](image2.png)\n",
    "Well, if you observed carefully, you would notice that the first table does hold daily data, the second table does hold monthly records, while the third does hold yearly data. If the records are collected in **equal time intervals**, such data is a Time Series Data. It's very important to note that Time in this context could be minutes, hourly, daily, weekly, monthly quaterly annually, etc.<br> Now let's see few examples of records though with time stamp but are **NOT** Time Series Data. Can you tell why?\n",
    "![](image3.png)\n",
    "***The records were not collected/recorded in equally spaced dates/time.*** "
   ]
  },
  {
   "cell_type": "markdown",
   "metadata": {},
   "source": [
    "### ARIMA (Auto-Regressive Integrated Moving Average)"
   ]
  },
  {
   "cell_type": "markdown",
   "metadata": {},
   "source": [
    "> ARIMA models are the most widely-used time-series methods found in business, health services, industry and economics. ARIMA stands for Auto- **R*egressive **I**ntegrated **M**oving **A**verage and is specified by two sets of three parameters: $(p, d, q)(P,D,Q)_m$.<br>\n",
    "\n",
    "> The parameters $p$ refers to the order of AR component, $d$ to the number of times the data was differenced to make it stationary, and $q$ refers to the order of the MA component.<br>\n",
    "\n",
    ">The capital $P,$ $D$ and $Q$ are the seasonal components of the AR, differencing and MA components.<br>\n",
    "\n",
    "Note:<br>\n",
    ">If a time series is non-stationary you can make it stationary by differencing it. For example, if the time series $y_t$ is observed to have a trend then you would use the difference:\n",
    "\n"
   ]
  },
  {
   "cell_type": "markdown",
   "metadata": {},
   "source": [
    "### Techniques for predicting future values\n",
    "#### Autoregressive process **AR(1)**\n",
    "Let's now look at a component of the ARIMA model **AR** which is the first two letters in **AR**IMA and called ***auto-regressive***. The general auto-regressive component is defined as:<br><br>\n",
    "$${y}_t = c + \\phi_1 y_{t-1} + \\phi_2 y_{t-2} + \\phi_3 y_{t-3} + ... + \\phi_p y_{t-p} + \\epsilon_t$$\n",
    "\n",
    "The autoregressive model of ***order one*** specifies that the output variable (${y}_t$) depends linearly on its own previous values ($y_{t-1}$) and on a stochastic term ($\\epsilon_t$). This model can be expressed mathematically as:<br><br>\n",
    "$${y}_t = \\phi y_{t-1} + c + \\epsilon_t$$<br><br>\n",
    "The term $\\epsilon_t$ (called random noise) is normally distributed with mean zero and varience $\\sigma^2$.\n",
    "The most important element of this model is the value $\\phi$ . There are three cases that the value could take<br>\n",
    "\n",
    "- $|\\phi| = 1$ this is refered to as a case of unit root and would require special treatment\n",
    "- $|\\phi| < 1$ the series is staid to be covariance stationary<br>\n",
    "A stationary time series is one whose statistical properties such as mean, variance, and autocorrelation, are all constant over time.<br>\n",
    "\n",
    "- $|\\phi| > 1$ the process is said to have no bounds, i.e it's value run from $+ \\infty$ to $- \\infty$.<br> \n",
    "To solve the AR(1) problem mathematically, we compute the expectation and variance of ${y}_t = \\phi y_{t-1} + c + \\epsilon_t$ which results to:<br><br>\n",
    "$\\mu = E[y_t] = \\frac {c}{1 - \\phi}$<br><br>\n",
    "Let's see a very simple way to prove the expectation above<br><br>\n",
    "$E({y}_t) = E(\\phi y_{t-1}) + E(c) + E(\\epsilon_t$)<br><br>\n",
    "$E({y}_t) = \\phi E(y_{t-1}) + c + 0$<br><br> \n",
    "since we assume the expectation of $\\epsilon_t = 0$ and E of a constant is the constant<br><br>\n",
    "$E({y}_t) = \\phi E(y_{t-1}) + c$<br><br> \n",
    "$E({y}_t) = \\phi E(y_{t-1}) + c$<br><br>\n",
    "subtract $\\phi E(y_{t-1})$ from both sides of the above equation<br><br>\n",
    "$E({y}_t) - \\phi E(y_{t-1}) = \\phi E(y_{t-1}) -\\phi E(y_{t-1}) + c$<br><br>\n",
    "$E({y}_t) - \\phi E(y_{t-1}) = c$<br><br>\n",
    "factor common terms<br><br>\n",
    "$E({y}_t)(1 - \\phi) = c, set  E({y}_t) = E(y_{t-1})$<br><br>\n",
    "Divide both sides by $E({y}_t)$<br><br>\n",
    "**$\\mu = E[y_t] = \\frac {c}{1 - \\phi}$**<br><br>\n",
    "\n",
    "Now let's do one more, the variance<br>\n",
    "$\\gamma_0 = E[(y_t - \\mu)^2] = \\frac {\\sigma^2}{1 - \\phi^2}$<br><br>\n",
    "To prove the above equation we take the variance of as follows<br><br>\n",
    "\n",
    "$var({y}_t) = var(\\phi y_{t-1}) + var(c) + var(\\epsilon_t$)<br><br>\n",
    "$var({y}_t) = \\phi^2 var(y_{t-1}) + 0 + \\sigma^2$<br><br>\n",
    "subtract $\\phi^2 var(y_{t-1})$ from both sides of the above equation<br><br>\n",
    "$var({y}_t) - \\phi^2 var(y_{t-1}) = \\sigma^2$<br><br>\n",
    "factor common terms<br><br>\n",
    "$var({y}_t)[1 - \\phi^2] = \\sigma^2$<br><br>\n",
    "Divide both sides by $var({y}_t)$<br><br>\n",
    "$\\gamma_0 = E[(y_t - \\mu)^2] = \\frac {\\sigma^2}{1 - \\phi^2}$<br><br>\n",
    "\n",
    "$\\gamma_i = E[(y_t - \\mu)(y_{t-1} - \\mu)] = \\sigma^2\\frac{\\phi^i}{1 - \\phi^2}$<br><br>\n",
    "Since the mean and varience do not depend on time we say the series is covariance stationary."
   ]
  },
  {
   "cell_type": "markdown",
   "metadata": {},
   "source": [
    "**AR(2)**<br><br>\n",
    "${y}_t = c + \\phi_1 y_{t-1} + \\phi_2 y_{t-2} + \\epsilon_t$<br><br>\n",
    "Let us consider the AR(2) process above, this tells us that the present value of ${y}_t$ is dependent on the previous two values $\\phi_1 y_{t-1}$ and $\\phi_2 y_{t-1}$ weighted by $\\phi_1$, and  $\\phi_2$ plus a random error. For example, suppose that ${y}_t$ is the stock market price of Apple. Equation 1.2 tells us that today’s price is dependent on the price yesterday, and also the price the day before that, plus a random error."
   ]
  },
  {
   "cell_type": "markdown",
   "metadata": {},
   "source": [
    "**Example 1.0**\n",
    "Let us generate a simulated AR(1) series to demonstrate it's properties<br><br>\n",
    "$y_t = 0.5y_{t-1} + \\epsilon_t$"
   ]
  },
  {
   "cell_type": "code",
   "execution_count": 5,
   "metadata": {},
   "outputs": [],
   "source": [
    "y <- arima.sim(n=900, list(ar=0.5), innov=rnorm(900))\n",
    "# This syntax explanation\n",
    "# y as you all know by now is the object\n",
    "# arima.sim is a function to simulate a time series with 900 observations (n=900),\n",
    "# with ar=0.5, remember the coefficient of an AR(1) must be less that one to \n",
    "# be stationary\n",
    "# innov=rnorm(900), states that the error term should be 900 randomlt \n",
    "# distributed with \n",
    "# mean 0 and variance sigma squared"
   ]
  },
  {
   "cell_type": "code",
   "execution_count": 6,
   "metadata": {},
   "outputs": [
    {
     "data": {
      "image/png": "[encoded data removed]",
      "text/plain": [
       "Plot with title \"Partial autocorrelation\""
      ]
     },
     "metadata": {},
     "output_type": "display_data"
    }
   ],
   "source": [
    "# The Partial autocorrelation function (Partial ACF) is useful for telling the \n",
    "# maximum order of an AR process\n",
    "par(mfrow=c(1,2)) # lists how many chart you wish to diplay at once\n",
    "acf(y, main=\"Auto-correlation\")\n",
    "pacf(y, main=\"Partial autocorrelation\")\n",
    "# The partial autocorrelation function (PACF) is useful for telling the maximum \n",
    "# order of an AR process\n",
    "# The partial autocorrelation function (PACF) measures directly how an observation \n",
    "# is correlated with an \n",
    "# observation n time steps apart."
   ]
  },
  {
   "cell_type": "markdown",
   "metadata": {},
   "source": [
    "We can see from the  outputs that Partial autocorrelation chat gives us hints of how many lags or \n",
    "order an AR process has.\n",
    "From the chat on your right hand above, we can see that there is a significant spike on the first \n",
    "bar and the rest bars are not\n",
    "statistically significant (they all lie within the dotted blue lines.)"
   ]
  },
  {
   "cell_type": "markdown",
   "metadata": {},
   "source": [
    "**Example 2.0**<br>\n",
    "Let us generate a simulated AR(2) series<br>The condition of $\\phi < 1$ to be stationary does not apply for AR(2) models<br>\n",
    "$y_t = 0.79y_{t-1} - 0.32y_{t-2} + \\epsilon_t$"
   ]
  },
  {
   "cell_type": "code",
   "execution_count": 7,
   "metadata": {},
   "outputs": [],
   "source": [
    "y <- arima.sim(n=700, list(ar= c(0.79,-0.32)), innov=rnorm(700))"
   ]
  },
  {
   "cell_type": "code",
   "execution_count": 8,
   "metadata": {},
   "outputs": [
    {
     "data": {
      "image/png": "[encoded data removed]",
      "text/plain": [
       "Plot with title \"Partial autocorrelation\""
      ]
     },
     "metadata": {},
     "output_type": "display_data"
    }
   ],
   "source": [
    "# The Partial autocorrelation function (Partial ACF or PACF) is \n",
    "# useful for telling the maximum order of an AR process\n",
    "par(mfrow=c(1,2))\n",
    "acf(y, main=\"Auto-correlation\")\n",
    "pacf(y, main=\"Partial autocorrelation\")\n",
    "# The partial autocorrelation function (PACF) is useful for \n",
    "# telling the maximum order of an AR process\n",
    "\n",
    "# The partial autocorrelation function (PACF) measures directly \n",
    "# how an observation is correlated with an observation n time steps apart."
   ]
  },
  {
   "cell_type": "code",
   "execution_count": null,
   "metadata": {},
   "outputs": [],
   "source": [
    "# Do you understand the interpretaion of the chart on your right?"
   ]
  },
  {
   "cell_type": "markdown",
   "metadata": {},
   "source": [
    "#### Moving Average **MA(1)**\n",
    "The moving average component uses past errors as explanatory variables. The observed series $y_t$ is represented as a linear combination of previous error terms defined by:"
   ]
  },
  {
   "cell_type": "markdown",
   "metadata": {},
   "source": [
    "${y}_t = k + \\epsilon_t + \\theta\\epsilon_{t-1}$<br><br>\n",
    "\n",
    "The Expectation and variance of the MA(1) process is given below\n",
    "$E[y_t] = k$<br><br>\n",
    "$\\gamma_0 = E[(y_t - k)^2] = (1 + \\theta^2)\\sigma^2$<br><br>"
   ]
  },
  {
   "cell_type": "markdown",
   "metadata": {},
   "source": [
    "**Example 3.0**\n",
    "Let's generate a simulated MA(1) process<br><br>\n",
    "${y}_t = k + \\epsilon_t + 0.9\\epsilon_{t-1}$"
   ]
  },
  {
   "cell_type": "code",
   "execution_count": null,
   "metadata": {},
   "outputs": [],
   "source": [
    "z <- arima.sim(n=900, list(ma= c(0.9)), innov=rnorm(900))\n",
    "# Compare this syntax with that of the AR(1) process above, what do you think changed?"
   ]
  },
  {
   "cell_type": "code",
   "execution_count": null,
   "metadata": {
    "scrolled": false
   },
   "outputs": [],
   "source": [
    "# The Autocorrelation function (ACF) is useful for telling the maximum order of an MA process\n",
    "par(mfrow=c(1,2))\n",
    "acf(z, main=\"Auto-correlation\")\n",
    "pacf(z, main=\"Partial autocorrelation\")\n",
    "# The Autocorrelation function (ACF) is useful for telling the maximum order of an MA process\n",
    "# The Autocorrelation function (ACF) measures directly how an observation is correlated with an \n",
    "# observation n time steps apart."
   ]
  },
  {
   "cell_type": "code",
   "execution_count": null,
   "metadata": {},
   "outputs": [],
   "source": [
    "# Compare this chart with that of AR(1), what did you notice?\n",
    "# while the on the AR chart, PACF section was used to identify the order of the process,\n",
    "# MA uses the ACF(i.e, the first chart)\n",
    "# This very important to note, the first bar on the ACF DOES NOT COUNT as that is a correlation. \n",
    "# hence we watch out for any other\n",
    "# significant spikes"
   ]
  },
  {
   "cell_type": "markdown",
   "metadata": {},
   "source": [
    "### Important Points to Note"
   ]
  },
  {
   "cell_type": "markdown",
   "metadata": {},
   "source": [
    "**Every time series consists of two parts.**\n",
    "- Deterministic Part:\n",
    "This could exist as a result of trend or seasonality and can be modeled with regression\n",
    "\n",
    "- Stochastic Part: This is the part that is very relevant for time series.<br>\n",
    "\n",
    "**Seasonal differencing**\n",
    "- If seasonality is observed in $y_t$ we choose an integer such that D >0, to use seasonal differencing. This involves computing the difference between an observation and the corresponding observation in the previous season."
   ]
  },
  {
   "cell_type": "markdown",
   "metadata": {},
   "source": [
    "**Time Series Decomposition**\n",
    "> Decomposition procedures are used in time series to explain the trend and seasonal effects in a time series.\n",
    "\n",
    "**Components of Time Series decomposition**\n",
    "\n",
    "1. Additive Model:\n",
    "> If the seasonal variation around the trend cycle ***does not vary*** with the level of the time series, such series is know as an additive model. This can be expressed as:<br><br>\n",
    "$Y_t$ = Trend + Seasonal + Random<br>\n",
    "**OR**<br>\n",
    " $y_t = S_t + T_t + \\epsilon_t$\n",
    "![](image4.png)\n",
    "<br><br>\n",
    "2. Multiplicative:\n",
    "> If the seasonal variation around the trend cycle ***varies*** with the level of the time series, such series is know as a\n",
    "Multiplicative model and can be expressed as:<br><br>\n",
    "$Y_t$ = Trend * Seasonal * Random<br>\n",
    "**OR**<br>\n",
    "$y_t = S_t * T_t * \\epsilon_t$\n",
    "![](image5.png)\n",
    "\n",
    "> The model considered have two main elements of time-based prediction. These are:\n",
    " - Seasonality:\n",
    "This is when the data series exhibits regular pattern in a particlar point in time. i.e Number of flight are more during every summer, restaurant sales are more on Fridays than on Tuesdays.\n",
    " - Trend:\n",
    "Trend simply indicates the overall direction of the series."
   ]
  },
  {
   "cell_type": "markdown",
   "metadata": {},
   "source": [
    "**Example 4.0**<br>\n",
    "Real world case "
   ]
  },
  {
   "cell_type": "markdown",
   "metadata": {},
   "source": [
    "#### Steps to Build Good ARIMA Models\n",
    "> - Identification of an appropriate ARIMA model.\n",
    "- Estimation of model parameters.\n",
    "- Investigates the model residuals."
   ]
  },
  {
   "cell_type": "markdown",
   "metadata": {},
   "source": [
    "### Lab Session\n",
    "Okay, let's do some real world analysis. This will be the technique you will use in your respective places of work and businesses.\n",
    "We will now apply the ARIMA Model to predict the monthly total of gun sales in USA. The data was collected between 2000 and 2016"
   ]
  },
  {
   "cell_type": "code",
   "execution_count": null,
   "metadata": {},
   "outputs": [],
   "source": [
    "# for This project, you would need to install the gunsales package. \n",
    "# I guess you all still remember how.\n",
    "# install.packages(\"gunsales\")\n",
    "\n",
    "library(gunsales)     # Load the gunsales packages which has the data we require \n",
    "gunsales<- analysis() # Next run this line of code to load the gunsales dataset"
   ]
  },
  {
   "cell_type": "code",
   "execution_count": null,
   "metadata": {},
   "outputs": [],
   "source": [
    "head(gunsales)  # View the first few rows of the gunsales dataset. In this dataset, \n",
    "                # we are only intrested in extracting the \n",
    "                # year, month and gunsales fields/columns for this analysis"
   ]
  },
  {
   "cell_type": "code",
   "execution_count": null,
   "metadata": {},
   "outputs": [],
   "source": [
    "# For a dataset to be fit for time series analysis, it's class must be in a time series format. \n",
    "# (i.e xts or ts or zoo)\n",
    "# To check if the dataset class is in a xts or ts or zoo format, run the code below.\n",
    "class(gunsales)"
   ]
  },
  {
   "cell_type": "markdown",
   "metadata": {},
   "source": [
    "From the output above, we see that the data is in a 'data.frame' format and not in a time series format. The 'data.frame' is most useful for most machine learning methods like Linear and multivariate analysis, knn etc."
   ]
  },
  {
   "cell_type": "code",
   "execution_count": null,
   "metadata": {},
   "outputs": [],
   "source": [
    "names(gunsales) # Use the 'names()' function with dataset object as argument would return all the \n",
    "                # column names of the data set"
   ]
  },
  {
   "cell_type": "code",
   "execution_count": null,
   "metadata": {},
   "outputs": [],
   "source": [
    "total_gunsales <- ts(gunsales[, \"guns_total\"], start = c (2001 ,1), frequency =12)"
   ]
  },
  {
   "cell_type": "markdown",
   "metadata": {},
   "source": [
    "I will now explain each part of the syntax above\n",
    "- total_gunsales, This is the name we call the object holding the data\n",
    "- ts, Remember that our data is in a data.frame format, to be able to do time series analysis, we convert it using ts function\n",
    "- gunsales[,\"guns_total\"] ,This part of the sub-code is refering to the section of the data to extract, in this case gunsales_total\n",
    "- start = c (2001 ,1), This states the starting year and month of the gunsales_total (i.e, year 2001, month = 1 or January\n",
    "- frequency =12 , From obsevation of the original data, we could see that the obsevations are in a monthly format, hence the 12<br>\n",
    "***Note:*** \n",
    "- If the obsevations were collected quaterly then frequency would have been set as 4"
   ]
  },
  {
   "cell_type": "code",
   "execution_count": null,
   "metadata": {},
   "outputs": [],
   "source": [
    "# plot the guns_total time series chart\n",
    "plot(total_gunsales, main = \"Total gun sales plot across the US (2001 - 2016)\") "
   ]
  },
  {
   "cell_type": "code",
   "execution_count": null,
   "metadata": {},
   "outputs": [],
   "source": [
    "# The plot above shows sign of multiplicative model, which we looked at earlier\n",
    "\n",
    "# Break the series into components\n",
    "total_gunsales_Decop <- decompose(total_gunsales, type = \"multiplicative\") \n",
    "\n",
    "# plot the broken series\n",
    "plot(total_gunsales_Decop) "
   ]
  },
  {
   "cell_type": "code",
   "execution_count": null,
   "metadata": {},
   "outputs": [],
   "source": [
    "# The length() returns the number of rows in the total_gunsales object\n",
    "n_Row <- length(total_gunsales)\n",
    "\n",
    "# define the number of months we wish to reserve for testing\n",
    "n_test <- 12 \n",
    "n_train <- n_Row - n_test # use the remainder for training "
   ]
  },
  {
   "cell_type": "code",
   "execution_count": null,
   "metadata": {},
   "outputs": [],
   "source": [
    "cat(\"Number of rows/months in the total_gunsales object :\", n_Row, \"\\n\")\n",
    "cat(\"Number of rows/months reserved for testing :\", n_test, \"\\n\")\n",
    "cat(\"Number of rows/months reserved for testing :\", n_train, \"\\n\")"
   ]
  },
  {
   "cell_type": "markdown",
   "metadata": {},
   "source": [
    "Did you spot a new function I used on the last three lines of code?"
   ]
  },
  {
   "cell_type": "code",
   "execution_count": null,
   "metadata": {},
   "outputs": [],
   "source": [
    "# This code would extract 182 observations for the test dataset\n",
    "train_data <- ts(total_gunsales[1: n_train], frequency = 12, start=c(2001, 1))"
   ]
  },
  {
   "cell_type": "code",
   "execution_count": null,
   "metadata": {},
   "outputs": [],
   "source": [
    "# We now build the actual model with the auto.arima function below\n",
    "library(forecast)\n",
    "good_fit <- auto.arima(log(train_data), stationary = TRUE, approximation=T)"
   ]
  },
  {
   "cell_type": "markdown",
   "metadata": {},
   "source": [
    ">We pass the data to the auto.arima function. However, First, we set the stationary argument to TRUE to restrict the algorithm to search only for models which are stationary. Second, the approximation argument is set equal to TRUE to speed up calculation. Finally, you may have noticed that we take the logarithm of data_train, this sometimes helps with the normalization and linearization of the observations."
   ]
  },
  {
   "cell_type": "code",
   "execution_count": null,
   "metadata": {},
   "outputs": [],
   "source": [
    "# Let's now view the model\n",
    "# does the output look familiar with what we had done, when we looked at AR and MA models?\n",
    "good_fit"
   ]
  },
  {
   "cell_type": "markdown",
   "metadata": {},
   "source": [
    "> We can see from the output that the model has an AR (1) component, and an MA(2) seasonal component. The estimated value of $\\phi_1$ for the AR component is 0.8131, with the MA component $\\theta_1$ = 0.7894, and θ2 =0.5950. The output also reports the standard errors of the estimates (s.e.), alongside the log likelihood value and the AIC, AICc and BIC scores."
   ]
  },
  {
   "cell_type": "code",
   "execution_count": null,
   "metadata": {},
   "outputs": [],
   "source": [
    "names(good_fit) # list all the attributes of the good_fit object"
   ]
  },
  {
   "cell_type": "code",
   "execution_count": null,
   "metadata": {},
   "outputs": [],
   "source": [
    "# lets view some of the forecast values\n",
    "# the round() function was used to limit the output to 2 decimal places\n",
    "# for experimental purpose, change the 2 in the code to say 3, what did you observe in the outpu\n",
    "head (round(good_fit$fitted ,2))"
   ]
  },
  {
   "cell_type": "code",
   "execution_count": null,
   "metadata": {},
   "outputs": [],
   "source": [
    "# What just happened with our predicted values, are we saying the total gun sales \n",
    "# in US for January was just 13.38? Or is our model wrong?\n",
    "# OK, do you remember we took the logorithm or simply log of the train_data when we \n",
    "# applied the auto.arima() function?\n",
    "\n",
    "# Yes we did, to revert the log we now use the exponential or exp function to convert the log\n",
    "\n",
    "actual_forcast <- exp(good_fit$fitted)\n",
    "head(round(actual_forcast,0))\n",
    "# Now the results look more like it."
   ]
  },
  {
   "cell_type": "code",
   "execution_count": null,
   "metadata": {},
   "outputs": [],
   "source": [
    "# but wait! how good is this model, lets have a plot of the original time series(black) \n",
    "# and the forecast (in red)\n",
    "plot(total_gunsales, main = \"Second Model (good_fit)\")\n",
    "lines(actual_forcast, col = \"red\")\n",
    "\n",
    "# Did you see that! how close the original and forecast are.The point were the \n",
    "# red stopped is the 12 observation we reserved for test."
   ]
  },
  {
   "cell_type": "code",
   "execution_count": null,
   "metadata": {},
   "outputs": [],
   "source": [
    "# For a model to be good,two conditions must be met\n",
    "# 1, residuals must be random\n",
    "# 2, the residual must be normally distributed\n",
    "\n",
    "# To check for these, run the checkresiduals() function with the good_fit object as argument\n",
    "checkresiduals(good_fit)"
   ]
  },
  {
   "cell_type": "markdown",
   "metadata": {},
   "source": [
    "> the autocorrelation function indicates significant autocorrelation at twelve, twenty-four, and thirty-six months. This suggest there may be some residual seasonality not picked up by the model. We will look at how to improve this model"
   ]
  },
  {
   "cell_type": "code",
   "execution_count": null,
   "metadata": {},
   "outputs": [],
   "source": [
    "# let forecast (h = 12) 12 months ahead, with 95% confidence\n",
    "pred<- forecast(good_fit, h=12, level=0.95)\n",
    "pred # View the forecast."
   ]
  },
  {
   "cell_type": "code",
   "execution_count": null,
   "metadata": {},
   "outputs": [],
   "source": [
    "# How well did the model fit the data, let's bring back our test dataest\n",
    "data_test <- ts (total_gunsales [(n_train +1): n_Row], frequency =12, end = c (2017, 2))"
   ]
  },
  {
   "cell_type": "code",
   "execution_count": null,
   "metadata": {},
   "outputs": [],
   "source": [
    "require(Metrics) # Load this library to make use of the rmsle(): root mean squared log error\n",
    "forecast_mean<- exp(pred$mean)\n",
    "round(rmsle(forecast_mean, data_test) ,4) # use this number as a benchmark to compare against other models"
   ]
  },
  {
   "cell_type": "markdown",
   "metadata": {},
   "source": [
    "#### Can we improve this model?"
   ]
  },
  {
   "cell_type": "markdown",
   "metadata": {},
   "source": [
    "Since ARIMA models are fit for analysis only when the data is stationary. From the bottom let chart above, we observe that the data is not sationary or that there exists a trend. To remove such trend, we do what is called _differencing_. But how do we know how many times to do this differencing. Well **R** has a function to help us identify just that."
   ]
  },
  {
   "cell_type": "code",
   "execution_count": null,
   "metadata": {},
   "outputs": [],
   "source": [
    "# This function uses what is called a unit root test to determine \n",
    "# the number of differencing required. Let's start our model building process \n",
    "# all over again, the output indicates we difference just once\n",
    "\n",
    "# This number will be required in the d part of ARIMA(p,d,q)(P, D,Q)m the final model\n",
    "ndiffs(train_data) "
   ]
  },
  {
   "cell_type": "code",
   "execution_count": null,
   "metadata": {},
   "outputs": [],
   "source": [
    "# Lets difference the train data\n",
    "train_data_diff <- diff(train_data, differences=1)"
   ]
  },
  {
   "cell_type": "code",
   "execution_count": null,
   "metadata": {},
   "outputs": [],
   "source": [
    "# Let's plot the differenced data\n",
    "plot(train_data_diff)\n",
    "# From the chart we can see that there seems to be no trend again, \n",
    "# we can still confirm this with a decompose plot"
   ]
  },
  {
   "cell_type": "code",
   "execution_count": null,
   "metadata": {},
   "outputs": [],
   "source": [
    "# Plot a decomposed plot to check if there exists a clear trend\n",
    "plot(decompose(train_data_diff)) \n",
    "\n",
    "# we see there is no clear trend on the Trend section of the chart. however, \n",
    "# there seems to be seasonality, but for now \n",
    "# this data is fit for ARIMA"
   ]
  },
  {
   "cell_type": "code",
   "execution_count": null,
   "metadata": {},
   "outputs": [],
   "source": [
    "# At this point we resolve to use a manual process to select the model with the least AIC value, \n",
    "# a bit of trial by error choose small order values\n",
    "# include.constant = TRUE requests the model to include constant\n",
    "\n",
    "fit1 <- Arima (log(train_data), order = c (1 ,0 ,1), seasonal = c (0 ,0 ,1), include.constant = TRUE)\n",
    "fit2 <- Arima (log(train_data), order = c (0 ,1 ,1), seasonal = c (1 ,0 ,0), include.constant = TRUE)\n",
    "fit3 <- Arima (log(train_data), order = c (0 ,0 ,1), seasonal = c (1 ,0 ,1), include.constant = TRUE)\n",
    "fit4 <- Arima (log(train_data), order = c (1 ,1 ,1), seasonal = c (1 ,0 ,1), include.constant = TRUE)\n",
    "fit5 <- Arima (log(train_data), order = c (1 ,1 ,1), seasonal = c (1 ,1 ,1), include.constant = TRUE)"
   ]
  },
  {
   "cell_type": "code",
   "execution_count": null,
   "metadata": {},
   "outputs": [],
   "source": [
    "cat(\"AIC for fit1 is \", fit1$aic, \"\\n\")\n",
    "cat(\"AIC for fit2 is \", fit2$aic, \"\\n\")\n",
    "cat(\"AIC for fit3 is \", fit3$aic, \"\\n\")\n",
    "cat(\"AIC for fit4 is \", fit4$aic, \"\\n\")\n",
    "cat(\"AIC for fit5 is \", fit5$aic, \"\\n\")\n",
    "cat(\"Minimum AIC: \", min(fit1$aic,fit2$aic,fit3$aic,fit4$aic))"
   ]
  },
  {
   "cell_type": "code",
   "execution_count": null,
   "metadata": {},
   "outputs": [],
   "source": [
    "# So we see that model 4 has the least AIC value and the diagostic plot below shows that \n",
    "# everything thing seems to \n",
    "# be normal except a spike on the lower left plot, which we could attribute to random error\n",
    "checkresiduals(fit4)"
   ]
  },
  {
   "cell_type": "code",
   "execution_count": null,
   "metadata": {},
   "outputs": [],
   "source": [
    "# How good is this model, lets have a plot of the original time series(black) \n",
    "# and the forecast (in red)\n",
    "plot(total_gunsales, main = \"Second Model (fit4)\")\n",
    "estimate_fit4 <- exp(fit4$fitted)\n",
    "lines(estimate_fit4, col = \"red\")\n",
    "\n",
    "# what do you think in terms of accuracy about this chart and a similar \n",
    "# one we had plotted earlier. \n",
    "# I would like to here your thoughts"
   ]
  },
  {
   "cell_type": "code",
   "execution_count": null,
   "metadata": {},
   "outputs": [],
   "source": [
    "# let forecast (h = 12) 12 months ahead, with 95% confidence with the \n",
    "# best model we got (i.e fit4)\n",
    "pred_2<- forecast(fit4, h=12, level=0.95)\n",
    "\n",
    "# View the forecast. Note this forecast is still in log form, we will \n",
    "# convert to it original later\n",
    "pred_2 "
   ]
  },
  {
   "cell_type": "code",
   "execution_count": null,
   "metadata": {},
   "outputs": [],
   "source": [
    "forecast_mean_2<- exp(pred_2$mean)\n",
    "\n",
    "# We see that our new error for the best model (fit4) is less than the number \n",
    "# set as benchmark (0.319).\n",
    "round(rmsle(forecast_mean_2, data_test) ,4) "
   ]
  },
  {
   "cell_type": "markdown",
   "metadata": {},
   "source": [
    "### Project One\n",
    "Develop a time series model to predict AirPassengers. To access the required data for this project, run the code below<br>\n",
    "data(\"AirPassengers\", package=\"datasets\")"
   ]
  },
  {
   "cell_type": "markdown",
   "metadata": {},
   "source": [
    "References to Time Series Analysis<br>\n",
    "[Time Series 1](http://a-little-book-of-r-for-time-series.readthedocs.io/en/latest/src/timeseries.html)"
   ]
  }
 ],
 "metadata": {
  "kernelspec": {
   "display_name": "R 3.5",
   "language": "R",
   "name": "ir35"
  },
  "language_info": {
   "codemirror_mode": "r",
   "file_extension": ".r",
   "mimetype": "text/x-r-source",
   "name": "R",
   "pygments_lexer": "r",
   "version": "3.5.1"
  }
 },
 "nbformat": 4,
 "nbformat_minor": 2
}
