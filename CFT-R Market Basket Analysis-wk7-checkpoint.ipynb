{
 "cells": [
  {
   "cell_type": "markdown",
   "metadata": {},
   "source": [
    "# Market Basket Analysis(MBA) / Association Rule"
   ]
  },
  {
   "cell_type": "markdown",
   "metadata": {},
   "source": [
    "**Market basket analysis** is the study of relationships between various products and products that are purchased together in a series of transactions or discover actionable insight in transaction datasets.  Association rules or just rules are statements which have a left-hand side (LHS) and a right-hand side (RHS), which indicates that if we purchase items on the LHS, we are likely to be interested in purchasing the RHS items too. This implies that the itemsets are associated with each other. <br>Association rule can be denoted by using the notation, { beans, Milk } -> { tea } which would indicate that if I am buying beans and Milk together, I am most likely to also purchase tea along. There are three common ways to measure association, these are Support, Confidence and Lift.\n",
    "\n",
    "Before we proceed,an itemset in the context of MBA is defined as a collection of items bought together.\n",
    "\n",
    "**Support** of an association rule of an itemset is defined as the number of times an itemset was purchased divided by the total number of transaction in the dataset. It is measured by the proportion of transactions in which an itemset appears or the number of times an item appeared in a transaction set divided by the total number of transactions<br><br>\n",
    "\n",
    "**Confidence** of an association rule of an itemset is defined as the probability that for a new transaction containing the an itemset on the LHS of the rule, the transaction also contains the itemset on the RHS of the rule or simply put, how likely item Y is bought when item X is bought. This is expressed as the support of items X and Y divided by the support of item X<br>\n",
    ">**Note:** One very big drawback of this measure is that Confidence{X -> Y} is not equal Confidence{Y -> X}<br><br>\n",
    "\n",
    "**Lift** of  an association rule is defined as the ratio of the support of the combination of two itemset on the RHS and LHS together divided by the product of the support of each of the itemset.<br><br>\n",
    "\n",
    "\n",
    ">**Lift > 1** indicates the presence of the itemset in the LHS is responsible for the increase in the probability that the customer is also going to buy the itemset on the RHS.<br><br>\n",
    "\n",
    "\n",
    ">**Lift = 1** indicates that the itemset on the LHS and RHS are independent<br><br>\n",
    "\n",
    "\n",
    ">**Lift < 1** indicates that a customer having an itemset on the LHS has a very low probability that they will buy itemset on the RHS<br><br>\n",
    "\n",
    "Note: The higher the support value the better<br>\n",
    "Note: support is more about measuring the quality of rules detecting what has already happened from the past transactions.<br>\n",
    "Note: confidence is all about detecting the quality of rules predicting the future.<br>\n",
    "Note: Lift is a metric to evaluate the quality of a rule."
   ]
  },
  {
   "cell_type": "markdown",
   "metadata": {},
   "source": [
    "#### Various Application"
   ]
  },
  {
   "cell_type": "markdown",
   "metadata": {},
   "source": [
    "- Health Care Sector\n",
    "- Retail and E-commerce\n",
    "- Banking and Finacial services, etc"
   ]
  },
  {
   "cell_type": "markdown",
   "metadata": {},
   "source": [
    "#### Data Requirements\n",
    "In real world cases, dataset would need to be converted to a transactional format for MBA to be applied. The arules library provides functions to read transaction from a dataframe, this function provides two options, **Single** and **Basket**.<br>\n",
    "\n",
    ">In single format, each line represents a singlr item while in basket format each line is made up of item levels and separated by comma, tab or space. I would now demonstrate how to transform raw dataset using the both format to be in transactional form"
   ]
  },
  {
   "cell_type": "markdown",
   "metadata": {},
   "source": [
    "#### Create a Basket format transaction data"
   ]
  },
  {
   "cell_type": "code",
   "execution_count": 1,
   "metadata": {},
   "outputs": [
    {
     "name": "stdout",
     "output_type": "stream",
     "text": [
      "Milk,Beans,Bread\n",
      "Soda,Bread\n",
      "Bread, jam\n",
      "Bread\n",
      "Butter,Orange,Banana"
     ]
    }
   ],
   "source": [
    "# Let's create a fake transaction with five baskets.\n",
    "# each line represents what a person had picked in\n",
    "# a shop, for instance, the first basket does imply the person\n",
    "# bought Milk, Beans and Bread. The second person bought Soda and Bread, etc.\n",
    "raw_data <- paste(\n",
    "    \"Milk,Beans,Bread\",\n",
    "    \"Soda,Bread\",\n",
    "    \"Bread, jam\",\n",
    "    \"Bread\",\n",
    "    \"Butter,Orange,Banana\", sep=\"\\n\")\n",
    "\n",
    "# lets view the data. In real world, this is the format you might find your data, may be with\n",
    "# some additional fields/columns. But importanly, the basket content session is what you would\n",
    "# need for MBA\n",
    "cat(raw_data)"
   ]
  },
  {
   "cell_type": "code",
   "execution_count": 2,
   "metadata": {},
   "outputs": [],
   "source": [
    "# let use write this file and import\n",
    "# Did you notice something different from the usual way of writing data to file?\n",
    "# What we did in the code below is just fine as well.\n",
    "write(raw_data, file = \"basket_formated_file\")"
   ]
  },
  {
   "cell_type": "code",
   "execution_count": 3,
   "metadata": {},
   "outputs": [
    {
     "name": "stderr",
     "output_type": "stream",
     "text": [
      "Loading required package: Matrix\n",
      "\n",
      "Attaching package: 'arules'\n",
      "\n",
      "The following objects are masked from 'package:base':\n",
      "\n",
      "    abbreviate, write\n",
      "\n"
     ]
    },
    {
     "name": "stdout",
     "output_type": "stream",
     "text": [
      "    items                 \n",
      "[1] {Beans,Bread,Milk}    \n",
      "[2] {Bread,Soda}          \n",
      "[3] {Bread,jam}           \n",
      "[4] {Bread}               \n",
      "[5] {Banana,Butter,Orange}\n"
     ]
    }
   ],
   "source": [
    "# You would need to install the arules package to run the code below\n",
    "# install.packages(\"arules\")\n",
    "library(arules) # this package is required for the read.transactions() function\n",
    "# as well as the apriori function which will be required later for building the \n",
    "# transaction rules\n",
    "\n",
    "# read in the raw dataset and convert to appropirate format\n",
    "transaction_data <- read.transactions(\"basket_formated_file\", format = \"basket\", sep=\",\")\n",
    "\n",
    "# to view a transaction data, the head() function would not return the desired output\n",
    "# instead, use inspect() function\n",
    "inspect(transaction_data)"
   ]
  },
  {
   "cell_type": "code",
   "execution_count": null,
   "metadata": {},
   "outputs": [],
   "source": [
    "# Note how the respective item in the baskets are \n",
    "# wrapped with curly brackets. This is the format a transaction dataset \n",
    "# should be in for use in the apriori function."
   ]
  },
  {
   "cell_type": "markdown",
   "metadata": {},
   "source": [
    "#### create a Single format transaction data"
   ]
  },
  {
   "cell_type": "code",
   "execution_count": 4,
   "metadata": {},
   "outputs": [
    {
     "name": "stdout",
     "output_type": "stream",
     "text": [
      "transaction1 Milk\n",
      "transaction1 Beans\n",
      "transaction1 Bread\n",
      "transaction2 Soda\n",
      "transaction2 Bread\n",
      "transaction3 Bread\n",
      "transaction3 jam\n",
      "transaction4 Bread\n",
      "transaction5 Butter\n",
      "transaction5 Orange\n",
      "transaction5 Banana"
     ]
    }
   ],
   "source": [
    "# We repeat the the same process as above but this time\n",
    "# the items are split per row?\n",
    "# Did you spot the difference between the set of data and the one just created above?\n",
    "raw_data0 <- paste(\n",
    "    \"transaction1 Milk\",\n",
    "    \"transaction1 Beans\",\n",
    "    \"transaction1 Bread\",\n",
    "    \"transaction2 Soda\",\n",
    "    \"transaction2 Bread\",\n",
    "    \"transaction3 Bread\",\n",
    "    \"transaction3 jam\",\n",
    "    \"transaction4 Bread\",\n",
    "    \"transaction5 Butter\",\n",
    "    \"transaction5 Orange\",\n",
    "    \"transaction5 Banana\", sep=\"\\n\")\n",
    "\n",
    "# lets view the data\n",
    "cat(raw_data0)"
   ]
  },
  {
   "cell_type": "code",
   "execution_count": 5,
   "metadata": {},
   "outputs": [],
   "source": [
    "# lets write this file and import\n",
    "write(raw_data0, file = \"single_formated_file\")"
   ]
  },
  {
   "cell_type": "code",
   "execution_count": 6,
   "metadata": {},
   "outputs": [
    {
     "name": "stdout",
     "output_type": "stream",
     "text": [
      "    items                  transactionID\n",
      "[1] {Beans,Bread,Milk}     transaction1 \n",
      "[2] {Bread,Soda}           transaction2 \n",
      "[3] {Bread,jam}            transaction3 \n",
      "[4] {Bread}                transaction4 \n",
      "[5] {Banana,Butter,Orange} transaction5 \n"
     ]
    }
   ],
   "source": [
    "# just as before, this library is required for the read.transactions() function\n",
    "library(arules) \n",
    "\n",
    "# we convert the dataset to a transaction one. what is the difference between this line \n",
    "# of code and the one we used above? to start with, the format changed from braket to single\n",
    "# and it does have an extra argument (cols), which tells the function to split the dataset into\n",
    "# two columns\n",
    "transaction_data0 <- read.transactions(\"single_formated_file\", \n",
    "                                       format = \"single\", cols = c(1,2))\n",
    "\n",
    "inspect(transaction_data0)"
   ]
  },
  {
   "cell_type": "code",
   "execution_count": null,
   "metadata": {},
   "outputs": [],
   "source": [
    "# This output is almost exact with the one earlier created except that this one does \n",
    "# have an extra field called TransactionID. This can be removed as it's not required for MBA"
   ]
  },
  {
   "cell_type": "markdown",
   "metadata": {},
   "source": [
    "### Hands-On\n",
    "We will be working with an inbult R trandasction dataset called Groceries\n",
    "We would investigate what products to recommend to shopper give what they have \n",
    "already put in their shopping carts. This sounds more like a process for only E-commerce\n",
    "but the concept can be applied in various sectors"
   ]
  },
  {
   "cell_type": "markdown",
   "metadata": {},
   "source": [
    "#### Load the required packages"
   ]
  },
  {
   "cell_type": "code",
   "execution_count": 1,
   "metadata": {},
   "outputs": [
    {
     "ename": "ERROR",
     "evalue": "Error in library(arules): there is no package called 'arules'\n",
     "output_type": "error",
     "traceback": [
      "Error in library(arules): there is no package called 'arules'\nTraceback:\n",
      "1. library(arules)",
      "2. stop(txt, domain = NA)"
     ]
    }
   ],
   "source": [
    "library(arules) # use for apriori algorithms\n",
    "library(arulesViz) # use for visualization\n",
    "data(Groceries) # required dataset\n",
    "\n",
    "# to view a transaction table always use inspect function and NOT the head() function\n",
    "# inspecting the first 5 transactions\n",
    "inspect(Groceries[1:5])"
   ]
  },
  {
   "cell_type": "markdown",
   "metadata": {},
   "source": [
    "#### Contigency matrix Analysis"
   ]
  },
  {
   "cell_type": "code",
   "execution_count": 9,
   "metadata": {},
   "outputs": [
    {
     "data": {
      "text/html": [
       "<table>\n",
       "<thead><tr><th></th><th scope=col>whole milk</th><th scope=col>other vegetables</th><th scope=col>rolls/buns</th><th scope=col>soda</th><th scope=col>yogurt</th></tr></thead>\n",
       "<tbody>\n",
       "\t<tr><th scope=row>whole milk</th><td>2513</td><td> 736</td><td> 557</td><td> 394</td><td> 551</td></tr>\n",
       "\t<tr><th scope=row>other vegetables</th><td> 736</td><td>1903</td><td> 419</td><td> 322</td><td> 427</td></tr>\n",
       "\t<tr><th scope=row>rolls/buns</th><td> 557</td><td> 419</td><td>1809</td><td> 377</td><td> 338</td></tr>\n",
       "\t<tr><th scope=row>soda</th><td> 394</td><td> 322</td><td> 377</td><td>1715</td><td> 269</td></tr>\n",
       "\t<tr><th scope=row>yogurt</th><td> 551</td><td> 427</td><td> 338</td><td> 269</td><td>1372</td></tr>\n",
       "</tbody>\n",
       "</table>\n"
      ],
      "text/latex": [
       "\\begin{tabular}{r|lllll}\n",
       "  & whole milk & other vegetables & rolls/buns & soda & yogurt\\\\\n",
       "\\hline\n",
       "\twhole milk & 2513 &  736 &  557 &  394 &  551\\\\\n",
       "\tother vegetables &  736 & 1903 &  419 &  322 &  427\\\\\n",
       "\trolls/buns &  557 &  419 & 1809 &  377 &  338\\\\\n",
       "\tsoda &  394 &  322 &  377 & 1715 &  269\\\\\n",
       "\tyogurt &  551 &  427 &  338 &  269 & 1372\\\\\n",
       "\\end{tabular}\n"
      ],
      "text/markdown": [
       "\n",
       "| <!--/--> | whole milk | other vegetables | rolls/buns | soda | yogurt | \n",
       "|---|---|---|---|---|\n",
       "| whole milk | 2513 |  736 |  557 |  394 |  551 | \n",
       "| other vegetables |  736 | 1903 |  419 |  322 |  427 | \n",
       "| rolls/buns |  557 |  419 | 1809 |  377 |  338 | \n",
       "| soda |  394 |  322 |  377 | 1715 |  269 | \n",
       "| yogurt |  551 |  427 |  338 |  269 | 1372 | \n",
       "\n",
       "\n"
      ],
      "text/plain": [
       "                 whole milk other vegetables rolls/buns soda yogurt\n",
       "whole milk       2513        736              557        394  551  \n",
       "other vegetables  736       1903              419        322  427  \n",
       "rolls/buns        557        419             1809        377  338  \n",
       "soda              394        322              377       1715  269  \n",
       "yogurt            551        427              338        269 1372  "
      ]
     },
     "metadata": {},
     "output_type": "display_data"
    }
   ],
   "source": [
    "# lets count based how often product were bought together(contigency matrix)\n",
    "basket <- crossTable(Groceries, measure = \"count\", sort =T)\n",
    "\n",
    "# view the contigency table\n",
    "basket[1:5, 1:5]"
   ]
  },
  {
   "cell_type": "markdown",
   "metadata": {},
   "source": [
    "#### What does this table say?\n",
    "The way to read this table is as follows.\n",
    "From the transactions under review, Customers bought only Whole Milk 2513 times, Whole Milk and soda 394 times, etc. I have limited how much data is displayed for just demonstaration supposes\n",
    "you could view more data by changing the values in next to the basket to any number, but would suggest to limit this number"
   ]
  },
  {
   "cell_type": "code",
   "execution_count": 11,
   "metadata": {},
   "outputs": [
    {
     "data": {
      "text/html": [
       "<table>\n",
       "<thead><tr><th></th><th scope=col>whole milk</th><th scope=col>other vegetables</th><th scope=col>rolls/buns</th><th scope=col>soda</th><th scope=col>yogurt</th></tr></thead>\n",
       "<tbody>\n",
       "\t<tr><th scope=row>whole milk</th><td>0.25551601</td><td>0.07483477</td><td>0.05663447</td><td>0.04006101</td><td>0.05602440</td></tr>\n",
       "\t<tr><th scope=row>other vegetables</th><td>0.07483477</td><td>0.19349263</td><td>0.04260295</td><td>0.03274021</td><td>0.04341637</td></tr>\n",
       "\t<tr><th scope=row>rolls/buns</th><td>0.05663447</td><td>0.04260295</td><td>0.18393493</td><td>0.03833249</td><td>0.03436706</td></tr>\n",
       "\t<tr><th scope=row>soda</th><td>0.04006101</td><td>0.03274021</td><td>0.03833249</td><td>0.17437722</td><td>0.02735130</td></tr>\n",
       "\t<tr><th scope=row>yogurt</th><td>0.05602440</td><td>0.04341637</td><td>0.03436706</td><td>0.02735130</td><td>0.13950178</td></tr>\n",
       "</tbody>\n",
       "</table>\n"
      ],
      "text/latex": [
       "\\begin{tabular}{r|lllll}\n",
       "  & whole milk & other vegetables & rolls/buns & soda & yogurt\\\\\n",
       "\\hline\n",
       "\twhole milk & 0.25551601 & 0.07483477 & 0.05663447 & 0.04006101 & 0.05602440\\\\\n",
       "\tother vegetables & 0.07483477 & 0.19349263 & 0.04260295 & 0.03274021 & 0.04341637\\\\\n",
       "\trolls/buns & 0.05663447 & 0.04260295 & 0.18393493 & 0.03833249 & 0.03436706\\\\\n",
       "\tsoda & 0.04006101 & 0.03274021 & 0.03833249 & 0.17437722 & 0.02735130\\\\\n",
       "\tyogurt & 0.05602440 & 0.04341637 & 0.03436706 & 0.02735130 & 0.13950178\\\\\n",
       "\\end{tabular}\n"
      ],
      "text/markdown": [
       "\n",
       "| <!--/--> | whole milk | other vegetables | rolls/buns | soda | yogurt | \n",
       "|---|---|---|---|---|\n",
       "| whole milk | 0.25551601 | 0.07483477 | 0.05663447 | 0.04006101 | 0.05602440 | \n",
       "| other vegetables | 0.07483477 | 0.19349263 | 0.04260295 | 0.03274021 | 0.04341637 | \n",
       "| rolls/buns | 0.05663447 | 0.04260295 | 0.18393493 | 0.03833249 | 0.03436706 | \n",
       "| soda | 0.04006101 | 0.03274021 | 0.03833249 | 0.17437722 | 0.02735130 | \n",
       "| yogurt | 0.05602440 | 0.04341637 | 0.03436706 | 0.02735130 | 0.13950178 | \n",
       "\n",
       "\n"
      ],
      "text/plain": [
       "                 whole milk other vegetables rolls/buns soda       yogurt    \n",
       "whole milk       0.25551601 0.07483477       0.05663447 0.04006101 0.05602440\n",
       "other vegetables 0.07483477 0.19349263       0.04260295 0.03274021 0.04341637\n",
       "rolls/buns       0.05663447 0.04260295       0.18393493 0.03833249 0.03436706\n",
       "soda             0.04006101 0.03274021       0.03833249 0.17437722 0.02735130\n",
       "yogurt           0.05602440 0.04341637       0.03436706 0.02735130 0.13950178"
      ]
     },
     "metadata": {},
     "output_type": "display_data"
    }
   ],
   "source": [
    "# create a support based product contingency matrix, i.e, what is the proportion of items being bought together\n",
    "basket <- crossTable(Groceries, measure=\"support\", sort=T)\n",
    "\n",
    "# view the data\n",
    "basket[1:5, 1:5]"
   ]
  },
  {
   "cell_type": "markdown",
   "metadata": {},
   "source": [
    "#### What does this table imply?\n",
    "It simply means that only Whole Milk make up approximately 26% (0.25551601 x 100) of the entire transactions, Whole Milk and Soda combined make approximately 4% of the entire transactions, etc."
   ]
  },
  {
   "cell_type": "code",
   "execution_count": 15,
   "metadata": {},
   "outputs": [
    {
     "data": {
      "text/html": [
       "<table>\n",
       "<thead><tr><th></th><th scope=col>whole milk</th><th scope=col>other vegetables</th><th scope=col>rolls/buns</th><th scope=col>soda</th><th scope=col>yogurt</th></tr></thead>\n",
       "<tbody>\n",
       "\t<tr><th scope=row>whole milk</th><td>       NA</td><td>1.5136341</td><td>1.205032 </td><td>0.8991124</td><td>1.571735 </td></tr>\n",
       "\t<tr><th scope=row>other vegetables</th><td>1.5136341</td><td>       NA</td><td>1.197047 </td><td>0.9703476</td><td>1.608457 </td></tr>\n",
       "\t<tr><th scope=row>rolls/buns</th><td>1.2050318</td><td>1.1970465</td><td>      NA </td><td>1.1951242</td><td>1.339363 </td></tr>\n",
       "\t<tr><th scope=row>soda</th><td>0.8991124</td><td>0.9703476</td><td>1.195124 </td><td>       NA</td><td>1.124368 </td></tr>\n",
       "\t<tr><th scope=row>yogurt</th><td>1.5717351</td><td>1.6084566</td><td>1.339363 </td><td>1.1243678</td><td>      NA </td></tr>\n",
       "</tbody>\n",
       "</table>\n"
      ],
      "text/latex": [
       "\\begin{tabular}{r|lllll}\n",
       "  & whole milk & other vegetables & rolls/buns & soda & yogurt\\\\\n",
       "\\hline\n",
       "\twhole milk &        NA & 1.5136341 & 1.205032  & 0.8991124 & 1.571735 \\\\\n",
       "\tother vegetables & 1.5136341 &        NA & 1.197047  & 0.9703476 & 1.608457 \\\\\n",
       "\trolls/buns & 1.2050318 & 1.1970465 &       NA  & 1.1951242 & 1.339363 \\\\\n",
       "\tsoda & 0.8991124 & 0.9703476 & 1.195124  &        NA & 1.124368 \\\\\n",
       "\tyogurt & 1.5717351 & 1.6084566 & 1.339363  & 1.1243678 &       NA \\\\\n",
       "\\end{tabular}\n"
      ],
      "text/markdown": [
       "\n",
       "| <!--/--> | whole milk | other vegetables | rolls/buns | soda | yogurt | \n",
       "|---|---|---|---|---|\n",
       "| whole milk |        NA | 1.5136341 | 1.205032  | 0.8991124 | 1.571735  | \n",
       "| other vegetables | 1.5136341 |        NA | 1.197047  | 0.9703476 | 1.608457  | \n",
       "| rolls/buns | 1.2050318 | 1.1970465 |       NA  | 1.1951242 | 1.339363  | \n",
       "| soda | 0.8991124 | 0.9703476 | 1.195124  |        NA | 1.124368  | \n",
       "| yogurt | 1.5717351 | 1.6084566 | 1.339363  | 1.1243678 |       NA  | \n",
       "\n",
       "\n"
      ],
      "text/plain": [
       "                 whole milk other vegetables rolls/buns soda      yogurt  \n",
       "whole milk              NA  1.5136341        1.205032   0.8991124 1.571735\n",
       "other vegetables 1.5136341         NA        1.197047   0.9703476 1.608457\n",
       "rolls/buns       1.2050318  1.1970465              NA   1.1951242 1.339363\n",
       "soda             0.8991124  0.9703476        1.195124          NA 1.124368\n",
       "yogurt           1.5717351  1.6084566        1.339363   1.1243678       NA"
      ]
     },
     "metadata": {},
     "output_type": "display_data"
    }
   ],
   "source": [
    "# let us see what product are strongly likely to be bought together\n",
    "# if lift is > 1 the stronger the chance of both product being bought together\n",
    "basket <- crossTable(Groceries, measure = \"lift\", sort = T)\n",
    "\n",
    "# view the datas\n",
    "basket[1:5, 1:5]"
   ]
  },
  {
   "cell_type": "markdown",
   "metadata": {},
   "source": [
    "#### What does the contigency table for Lift imply?"
   ]
  },
  {
   "cell_type": "markdown",
   "metadata": {},
   "source": [
    "#### What do you think about the contigency tables?\n",
    "\n",
    "**Pros:**<br>\n",
    "- It gives a very quick overview of the transactions<br>\n",
    "\n",
    "**cons:**<br>\n",
    "- Matrix is too large and difficult to work.<br>\n",
    "- Faces the cold start problem"
   ]
  },
  {
   "cell_type": "markdown",
   "metadata": {},
   "source": [
    "#### Apriori Method"
   ]
  },
  {
   "cell_type": "code",
   "execution_count": 18,
   "metadata": {},
   "outputs": [
    {
     "data": {
      "text/html": [
       "<dl class=dl-horizontal>\n",
       "\t<dt>whole milk</dt>\n",
       "\t\t<dd>2513</dd>\n",
       "\t<dt>other vegetables</dt>\n",
       "\t\t<dd>1903</dd>\n",
       "\t<dt>rolls/buns</dt>\n",
       "\t\t<dd>1809</dd>\n",
       "\t<dt>soda</dt>\n",
       "\t\t<dd>1715</dd>\n",
       "\t<dt>yogurt</dt>\n",
       "\t\t<dd>1372</dd>\n",
       "\t<dt>bottled water</dt>\n",
       "\t\t<dd>1087</dd>\n",
       "\t<dt>root vegetables</dt>\n",
       "\t\t<dd>1072</dd>\n",
       "\t<dt>tropical fruit</dt>\n",
       "\t\t<dd>1032</dd>\n",
       "\t<dt>shopping bags</dt>\n",
       "\t\t<dd>969</dd>\n",
       "\t<dt>sausage</dt>\n",
       "\t\t<dd>924</dd>\n",
       "</dl>\n"
      ],
      "text/latex": [
       "\\begin{description*}\n",
       "\\item[whole milk] 2513\n",
       "\\item[other vegetables] 1903\n",
       "\\item[rolls/buns] 1809\n",
       "\\item[soda] 1715\n",
       "\\item[yogurt] 1372\n",
       "\\item[bottled water] 1087\n",
       "\\item[root vegetables] 1072\n",
       "\\item[tropical fruit] 1032\n",
       "\\item[shopping bags] 969\n",
       "\\item[sausage] 924\n",
       "\\end{description*}\n"
      ],
      "text/markdown": [
       "whole milk\n",
       ":   2513other vegetables\n",
       ":   1903rolls/buns\n",
       ":   1809soda\n",
       ":   1715yogurt\n",
       ":   1372bottled water\n",
       ":   1087root vegetables\n",
       ":   1072tropical fruit\n",
       ":   1032shopping bags\n",
       ":   969sausage\n",
       ":   924\n",
       "\n"
      ],
      "text/plain": [
       "      whole milk other vegetables       rolls/buns             soda \n",
       "            2513             1903             1809             1715 \n",
       "          yogurt    bottled water  root vegetables   tropical fruit \n",
       "            1372             1087             1072             1032 \n",
       "   shopping bags          sausage \n",
       "             969              924 "
      ]
     },
     "metadata": {},
     "output_type": "display_data"
    }
   ],
   "source": [
    "# view the top ten purchased products\n",
    "freq_items <- sort(itemFrequency(Groceries, type=\"absolute\"), decreasing=T)\n",
    "freq_items[1:10]"
   ]
  },
  {
   "cell_type": "code",
   "execution_count": 19,
   "metadata": {},
   "outputs": [
    {
     "data": {
      "image/png": "[encoded data removed]",
      "text/plain": [
       "Plot with title \"Top: 10 Products\""
      ]
     },
     "metadata": {},
     "output_type": "display_data"
    }
   ],
   "source": [
    "# visualizing the top ten purchased products\n",
    "top <- 10\n",
    "itemFrequencyPlot(Groceries, topN = top, type=\"absolute\", main = paste(\"Top:\",top, \"Products\"), col=\"red\")"
   ]
  },
  {
   "cell_type": "markdown",
   "metadata": {},
   "source": [
    "#### Normal workflow for generating association rules"
   ]
  },
  {
   "cell_type": "code",
   "execution_count": 20,
   "metadata": {},
   "outputs": [
    {
     "name": "stdout",
     "output_type": "stream",
     "text": [
      "Apriori\n",
      "\n",
      "Parameter specification:\n",
      " confidence minval smax arem  aval originalSupport maxtime support minlen\n",
      "        0.5    0.1    1 none FALSE            TRUE       5   0.001      2\n",
      " maxlen target   ext\n",
      "     10  rules FALSE\n",
      "\n",
      "Algorithmic control:\n",
      " filter tree heap memopt load sort verbose\n",
      "    0.1 TRUE TRUE  FALSE TRUE    2    TRUE\n",
      "\n",
      "Absolute minimum support count: 9 \n",
      "\n",
      "set item appearances ...[0 item(s)] done [0.00s].\n",
      "set transactions ...[169 item(s), 9835 transaction(s)] done [0.00s].\n",
      "sorting and recoding items ... [157 item(s)] done [0.00s].\n",
      "creating transaction tree ... done [0.00s].\n",
      "checking subsets of size 1 2 3 4 5 6 done [0.01s].\n",
      "writing ... [5668 rule(s)] done [0.00s].\n",
      "creating S4 object  ... done [0.00s].\n",
      "     lhs                    rhs                support     confidence lift    \n",
      "[1]  {honey}             => {whole milk}       0.001118454 0.7333333  2.870009\n",
      "[2]  {tidbits}           => {rolls/buns}       0.001220132 0.5217391  2.836542\n",
      "[3]  {cocoa drinks}      => {whole milk}       0.001321810 0.5909091  2.312611\n",
      "[4]  {pudding powder}    => {whole milk}       0.001321810 0.5652174  2.212062\n",
      "[5]  {cooking chocolate} => {whole milk}       0.001321810 0.5200000  2.035097\n",
      "[6]  {cereals}           => {whole milk}       0.003660397 0.6428571  2.515917\n",
      "[7]  {jam}               => {whole milk}       0.002948653 0.5471698  2.141431\n",
      "[8]  {specialty cheese}  => {other vegetables} 0.004270463 0.5000000  2.584078\n",
      "[9]  {rice}              => {other vegetables} 0.003965430 0.5200000  2.687441\n",
      "[10] {rice}              => {whole milk}       0.004677173 0.6133333  2.400371\n",
      "     count\n",
      "[1]  11   \n",
      "[2]  12   \n",
      "[3]  13   \n",
      "[4]  13   \n",
      "[5]  13   \n",
      "[6]  36   \n",
      "[7]  29   \n",
      "[8]  42   \n",
      "[9]  39   \n",
      "[10] 46   \n"
     ]
    }
   ],
   "source": [
    "# detecting and predicting shopping trends\n",
    "param <- list(supp = 0.001, conf = 0.5, minlen=2)\n",
    "\n",
    "rules<- apriori(Groceries, parameter = param)\n",
    "inspect(rules[1:10])"
   ]
  },
  {
   "cell_type": "markdown",
   "metadata": {},
   "source": [
    "#### How to interpret the above output"
   ]
  },
  {
   "cell_type": "markdown",
   "metadata": {},
   "source": [
    "Firstly observe the items on the LHS and the items on the RHS, and conclude that if a customer has added the item(s) from the LHS in his shopping cart, there is a chance of him also adding the item(s) on the RHS. \n",
    "\n",
    "From the first line, we can say that there is a 73.3% confidence that if a customer buys honey, he will also buy whole milk, though I do not recommend using just Confidence values to interpret how good the rules are, I had used this for this instance because it does have a **Lift value greater than 1**"
   ]
  },
  {
   "cell_type": "code",
   "execution_count": 21,
   "metadata": {},
   "outputs": [],
   "source": [
    "# remove duplicates in the transactions using this helper function\n",
    "remove.dup.rules <- function(rules){\n",
    "    rules.subset.matrix<- is.subset(rules, rules)\n",
    "    rules.subset.matrix[lower.tri(rules.subset.matrix, diag=T)]<- NA\n",
    "    dup.rules <- colSums(rules.subset.matrix, na.rm=T) >= 1\n",
    "    pruned.rules <- rules[!dup.rules]\n",
    "    return(pruned.rules)\n",
    "}"
   ]
  },
  {
   "cell_type": "code",
   "execution_count": 22,
   "metadata": {},
   "outputs": [
    {
     "name": "stderr",
     "output_type": "stream",
     "text": [
      "Warning message in `[<-`(`*tmp*`, as.vector(i), value = NA):\n",
      "\"x[.] <- val: x is \"ngTMatrix\", val not in {TRUE, FALSE} is coerced; NA |--> TRUE.\""
     ]
    },
    {
     "data": {
      "text/plain": [
       "set of 0 rules "
      ]
     },
     "metadata": {},
     "output_type": "display_data"
    },
    {
     "name": "stdout",
     "output_type": "stream",
     "text": [
      "    lhs                     rhs              support confidence     lift count\n",
      "[1] {rice,                                                                    \n",
      "     sugar}              => {whole milk} 0.001220132          1 3.913649    12\n",
      "[2] {canned fish,                                                             \n",
      "     hygiene articles}   => {whole milk} 0.001118454          1 3.913649    11\n",
      "[3] {root vegetables,                                                         \n",
      "     butter,                                                                  \n",
      "     rice}               => {whole milk} 0.001016777          1 3.913649    10\n",
      "[4] {root vegetables,                                                         \n",
      "     whipped/sour cream,                                                      \n",
      "     flour}              => {whole milk} 0.001728521          1 3.913649    17\n",
      "[5] {butter,                                                                  \n",
      "     soft cheese,                                                             \n",
      "     domestic eggs}      => {whole milk} 0.001016777          1 3.913649    10\n"
     ]
    }
   ],
   "source": [
    "# now sort rules based on confidence\n",
    "rules<- sort(rules, by=\"confidence\", decreasing=T)\n",
    "remove.dup.rules(rules)\n",
    "inspect(rules[1:5])"
   ]
  },
  {
   "cell_type": "code",
   "execution_count": 23,
   "metadata": {},
   "outputs": [
    {
     "name": "stderr",
     "output_type": "stream",
     "text": [
      "Warning message in `[<-`(`*tmp*`, as.vector(i), value = NA):\n",
      "\"x[.] <- val: x is \"ngTMatrix\", val not in {TRUE, FALSE} is coerced; NA |--> TRUE.\""
     ]
    },
    {
     "data": {
      "text/plain": [
       "set of 0 rules "
      ]
     },
     "metadata": {},
     "output_type": "display_data"
    },
    {
     "name": "stdout",
     "output_type": "stream",
     "text": [
      "    lhs                                   rhs              support    \n",
      "[1] {Instant food products,soda}       => {hamburger meat} 0.001220132\n",
      "[2] {soda,popcorn}                     => {salty snack}    0.001220132\n",
      "[3] {flour,baking powder}              => {sugar}          0.001016777\n",
      "[4] {ham,processed cheese}             => {white bread}    0.001931876\n",
      "[5] {whole milk,Instant food products} => {hamburger meat} 0.001525165\n",
      "    confidence lift     count\n",
      "[1] 0.6315789  18.99565 12   \n",
      "[2] 0.6315789  16.69779 12   \n",
      "[3] 0.5555556  16.40807 10   \n",
      "[4] 0.6333333  15.04549 19   \n",
      "[5] 0.5000000  15.03823 15   \n"
     ]
    }
   ],
   "source": [
    "# now sort rules based on lift\n",
    "rules<- sort(rules, by=\"lift\", decreasing=T)\n",
    "remove.dup.rules(rules)\n",
    "inspect(rules[1:5])"
   ]
  },
  {
   "cell_type": "markdown",
   "metadata": {},
   "source": [
    "####  Detecting specific shopping patterns "
   ]
  },
  {
   "cell_type": "code",
   "execution_count": 24,
   "metadata": {},
   "outputs": [],
   "source": [
    "# Now we find itemset which lead to buying of an item on the RHS, we consider \"soda\"\n",
    "param2 <- list(supp = 0.001, conf = 0.5, minlen=2)\n",
    "rules <- apriori(Groceries, parameter = param2, \n",
    "                appearance = list(default=\"lhs\", rhs=\"soda\"),\n",
    "                control = list(verbose=F))"
   ]
  },
  {
   "cell_type": "code",
   "execution_count": 25,
   "metadata": {},
   "outputs": [
    {
     "name": "stderr",
     "output_type": "stream",
     "text": [
      "Warning message in `[<-`(`*tmp*`, as.vector(i), value = NA):\n",
      "\"x[.] <- val: x is \"ngTMatrix\", val not in {TRUE, FALSE} is coerced; NA |--> TRUE.\""
     ]
    },
    {
     "data": {
      "text/plain": [
       "set of 0 rules "
      ]
     },
     "metadata": {},
     "output_type": "display_data"
    },
    {
     "name": "stdout",
     "output_type": "stream",
     "text": [
      "    lhs                                             rhs    support    \n",
      "[1] {coffee,misc. beverages}                     => {soda} 0.001016777\n",
      "[2] {yogurt,rolls/buns,bottled water,newspapers} => {soda} 0.001016777\n",
      "[3] {sausage,bottled water,bottled beer}         => {soda} 0.001118454\n",
      "[4] {sausage,white bread,shopping bags}          => {soda} 0.001016777\n",
      "[5] {rolls/buns,bottled water,chocolate}         => {soda} 0.001321810\n",
      "    confidence lift     count\n",
      "[1] 0.7692308  4.411303 10   \n",
      "[2] 0.7692308  4.411303 10   \n",
      "[3] 0.7333333  4.205442 11   \n",
      "[4] 0.6666667  3.823129 10   \n",
      "[5] 0.6500000  3.727551 13   \n"
     ]
    }
   ],
   "source": [
    "# The output shows that people who purchased soda will most likely buy the items on the LHS\n",
    "remove.dup.rules(rules)\n",
    "rules<- sort(rules, by=\"lift\", decreasing=T)\n",
    "inspect(rules[1:5])"
   ]
  },
  {
   "cell_type": "code",
   "execution_count": 26,
   "metadata": {},
   "outputs": [],
   "source": [
    "# finding items which are bought when we have an itemset on LHS\n",
    "metric_params<- list(supp = 0.001, conf = 0.3, minlen=2)\n",
    "rules<- apriori(Groceries, parameter = metric_params, \n",
    "                appearance = list(default=\"rhs\", lhs= c(\"chocolate\",\"rolls/buns\")),\n",
    "                control = list(verbose=F))"
   ]
  },
  {
   "cell_type": "code",
   "execution_count": 27,
   "metadata": {},
   "outputs": [
    {
     "name": "stderr",
     "output_type": "stream",
     "text": [
      "Warning message in `[<-`(`*tmp*`, as.vector(i), value = NA):\n",
      "\"x[.] <- val: x is \"ngTMatrix\", val not in {TRUE, FALSE} is coerced; NA |--> TRUE.\""
     ]
    },
    {
     "data": {
      "text/plain": [
       "set of 0 rules "
      ]
     },
     "metadata": {},
     "output_type": "display_data"
    },
    {
     "name": "stdout",
     "output_type": "stream",
     "text": [
      "    lhs                       rhs                support     confidence\n",
      "[1] {rolls/buns,chocolate} => {soda}             0.004067107 0.3448276 \n",
      "[2] {rolls/buns,chocolate} => {other vegetables} 0.003863752 0.3275862 \n",
      "[3] {rolls/buns,chocolate} => {whole milk}       0.004982206 0.4224138 \n",
      "[4] {chocolate}            => {whole milk}       0.016675140 0.3360656 \n",
      "[5] {rolls/buns}           => {whole milk}       0.056634469 0.3079049 \n",
      "    lift     count\n",
      "[1] 1.977481  40  \n",
      "[2] 1.693016  38  \n",
      "[3] 1.653179  49  \n",
      "[4] 1.315243 164  \n",
      "[5] 1.205032 557  \n"
     ]
    }
   ],
   "source": [
    "# THE output shows that people who purchased rolls/buns and chocolate will most likely buy the items on the RHS\n",
    "remove.dup.rules(rules)\n",
    "rules<- sort(rules, by=\"lift\", decreasing=T)\n",
    "inspect(rules[1:5])"
   ]
  },
  {
   "cell_type": "code",
   "execution_count": 1,
   "metadata": {},
   "outputs": [],
   "source": [
    "# visualizing association rules using arulesViz package\n",
    "plot(rules, method=\"graph\",  interactive= TRUE)"
   ]
  },
  {
   "cell_type": "markdown",
   "metadata": {},
   "source": [
    "# The End"
   ]
  }
 ],
 "metadata": {
  "kernelspec": {
   "display_name": "R 3.5",
   "language": "R",
   "name": "ir35"
  },
  "language_info": {
   "codemirror_mode": "r",
   "file_extension": ".r",
   "mimetype": "text/x-r-source",
   "name": "R",
   "pygments_lexer": "r",
   "version": "3.5.1"
  }
 },
 "nbformat": 4,
 "nbformat_minor": 2
}
