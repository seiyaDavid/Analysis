{
 "cells": [
  {
   "cell_type": "markdown",
   "metadata": {},
   "source": [
    "<div class=\"alert alert-warning\"></i><strong>CFT Data Science With R Tutorials</strong><br>By: Seiya David \n",
    " </div>"
   ]
  },
  {
   "cell_type": "markdown",
   "metadata": {},
   "source": [
    " <div class=\"alert alert-success\"></i><strong>1.0 R dplyr package</strong>\n",
    " </div>\n",
    " Now that we have seen how to slice datasets using base R, we would now look at a very nice package called dplyr.<br>\n",
    "dplyr is a package that can help query data sets much faster to derive insight. It has five data manipulation functions (also known as dplyr grammar of data manipulation). These are:\n",
    "<ul>\n",
    "<li>select()     - extracts columns from a dataset</li>\n",
    "<li>mutate()     - builds new columns in the dataset</li>\n",
    "<li> filter()    - extracts rows from a dataset</li>\n",
    "<li> arrange()    - re-orders rows in a dataset</li>\n",
    "<li>summarize()  - calculates summary statistics</li>\n",
    "\n",
    "<li> %>%: the “pipe” operator is used to connect multiple verb actions together into a pipeline</li>\n",
    "\n",
    "<li> group_by : for grouping summaries</li>\n",
    "</ul>"
   ]
  },
  {
   "cell_type": "markdown",
   "metadata": {},
   "source": [
    " <div class=\"alert alert-success\"></i><strong>1.1 logical operators</strong>\n",
    " </div>\n",
    " <ul>\n",
    "<li>x < y, TRUE if x is less than y</li>\n",
    "<li>x <= y, TRUE if x is less than or equal to y</li>\n",
    "<li>x == y, TRUE if x equals y</li>\n",
    "<li>x != y, TRUE if x does not equal y</li>\n",
    "<li>x >= y, TRUE if x is greater than or equal to y</li>\n",
    "<li>x > y, TRUE if x is greater than y</li>\n",
    "<li>x %in% c(a, b, c), TRUE if x is in the vector c(a, b, c)</li>\n",
    "<li> x %in% c(a, b, c), TRUE if x is in the vector c(a, b, c)</li>\n",
    " </ul>\n",
    "\n",
    "<div class=\"alert alert-success\"></i><strong>1.1 logical operators</strong>\n",
    " </div>\n",
    " <ul> \n",
    "<strong>boolean operators</strong>\n",
    "<li> & (and), | (or), and ! (not)</li>\n",
    " </ul>"
   ]
  },
  {
   "cell_type": "markdown",
   "metadata": {},
   "source": [
    " <div class=\"alert alert-success\"></i><strong>1.2 select()</strong>\n",
    " </div>\n",
    "The select() function can be used to select fields/columns of a data frame."
   ]
  },
  {
   "cell_type": "markdown",
   "metadata": {},
   "source": [
    "<strong>dplyr</strong> also comes with a set of helper functions that can assist in selecting groups of variables inside the select() function.\n",
    "<ul>\n",
    "<li>starts_with(\"X\"): every name that starts with \"X\"</li>\n",
    "<li>ends_with(\"X\"): every name that ends with \"X\"</li>\n",
    "<li>contains(\"X\"): every name that contains \"X\"</li>\n",
    "<li>matches(\"X\"): every name that matches \"X\", where \"X\" can be a regular expression</li>\n",
    "<li>num_range(\"x\", 1:5): the variables named x01, x02, x03, x04 and x05</li>\n",
    "<li>one_of(x): every name that appears in x, which should be a character vector.</li>\n",
    "</ul>"
   ]
  },
  {
   "cell_type": "code",
   "execution_count": 5,
   "metadata": {},
   "outputs": [
    {
     "data": {
      "text/html": [
       "<table>\n",
       "<thead><tr><th scope=col>Age</th><th scope=col>workclass</th><th scope=col>fnlwgt</th><th scope=col>education</th><th scope=col>education-num</th><th scope=col>marital-status</th><th scope=col>occupation</th><th scope=col>relationship</th><th scope=col>race</th><th scope=col>sex</th><th scope=col>capital-gain</th><th scope=col>capital-loss</th><th scope=col>hours-per-week</th><th scope=col>native-country</th><th scope=col>eaning</th></tr></thead>\n",
       "<tbody>\n",
       "\t<tr><td>39                                                         </td><td><span style=white-space:pre-wrap> State-gov       </span>  </td><td> 77516                                                     </td><td> Bachelors                                                 </td><td>13                                                         </td><td><span style=white-space:pre-wrap> Never-married     </span></td><td><span style=white-space:pre-wrap> Adm-clerical     </span> </td><td> Not-in-family                                             </td><td> White                                                     </td><td> Male                                                      </td><td>2174                                                       </td><td>0                                                          </td><td>40                                                         </td><td> United-States                                             </td><td> &lt;=50K                                                  </td></tr>\n",
       "\t<tr><td>50                                                        </td><td> Self-emp-not-inc                                         </td><td> 83311                                                    </td><td> Bachelors                                                </td><td>13                                                        </td><td> Married-civ-spouse                                       </td><td><span style=white-space:pre-wrap> Exec-managerial  </span></td><td><span style=white-space:pre-wrap> Husband      </span>    </td><td> White                                                    </td><td> Male                                                     </td><td><span style=white-space:pre-wrap>   0</span>              </td><td>0                                                         </td><td>13                                                        </td><td> United-States                                            </td><td> &lt;=50K                                                 </td></tr>\n",
       "\t<tr><td>38                                                         </td><td><span style=white-space:pre-wrap> Private         </span>  </td><td>215646                                                     </td><td><span style=white-space:pre-wrap> HS-grad  </span>         </td><td> 9                                                         </td><td><span style=white-space:pre-wrap> Divorced          </span></td><td> Handlers-cleaners                                         </td><td> Not-in-family                                             </td><td> White                                                     </td><td> Male                                                      </td><td><span style=white-space:pre-wrap>   0</span>               </td><td>0                                                          </td><td>40                                                         </td><td> United-States                                             </td><td> &lt;=50K                                                  </td></tr>\n",
       "</tbody>\n",
       "</table>\n"
      ],
      "text/latex": [
       "\\begin{tabular}{r|lllllllllllllll}\n",
       " Age & workclass & fnlwgt & education & education-num & marital-status & occupation & relationship & race & sex & capital-gain & capital-loss & hours-per-week & native-country & eaning\\\\\n",
       "\\hline\n",
       "\t 39                  &  State-gov          &  77516              &  Bachelors          & 13                  &  Never-married      &  Adm-clerical       &  Not-in-family      &  White              &  Male               & 2174                & 0                   & 40                  &  United-States      &  <=50K             \\\\\n",
       "\t 50                  &  Self-emp-not-inc   &  83311              &  Bachelors          & 13                  &  Married-civ-spouse &  Exec-managerial    &  Husband            &  White              &  Male               &    0                & 0                   & 13                  &  United-States      &  <=50K             \\\\\n",
       "\t 38                  &  Private            & 215646              &  HS-grad            &  9                  &  Divorced           &  Handlers-cleaners  &  Not-in-family      &  White              &  Male               &    0                & 0                   & 40                  &  United-States      &  <=50K             \\\\\n",
       "\\end{tabular}\n"
      ],
      "text/markdown": [
       "\n",
       "Age | workclass | fnlwgt | education | education-num | marital-status | occupation | relationship | race | sex | capital-gain | capital-loss | hours-per-week | native-country | eaning | \n",
       "|---|---|---|\n",
       "| 39                  |  State-gov          |  77516              |  Bachelors          | 13                  |  Never-married      |  Adm-clerical       |  Not-in-family      |  White              |  Male               | 2174                | 0                   | 40                  |  United-States      |  <=50K              | \n",
       "| 50                  |  Self-emp-not-inc   |  83311              |  Bachelors          | 13                  |  Married-civ-spouse |  Exec-managerial    |  Husband            |  White              |  Male               |    0                | 0                   | 13                  |  United-States      |  <=50K              | \n",
       "| 38                  |  Private            | 215646              |  HS-grad            |  9                  |  Divorced           |  Handlers-cleaners  |  Not-in-family      |  White              |  Male               |    0                | 0                   | 40                  |  United-States      |  <=50K              | \n",
       "\n",
       "\n"
      ],
      "text/plain": [
       "  Age workclass         fnlwgt education  education-num marital-status     \n",
       "1 39   State-gov         77516  Bachelors 13             Never-married     \n",
       "2 50   Self-emp-not-inc  83311  Bachelors 13             Married-civ-spouse\n",
       "3 38   Private          215646  HS-grad    9             Divorced          \n",
       "  occupation         relationship   race   sex   capital-gain capital-loss\n",
       "1  Adm-clerical       Not-in-family  White  Male 2174         0           \n",
       "2  Exec-managerial    Husband        White  Male    0         0           \n",
       "3  Handlers-cleaners  Not-in-family  White  Male    0         0           \n",
       "  hours-per-week native-country eaning\n",
       "1 40              United-States  <=50K\n",
       "2 13              United-States  <=50K\n",
       "3 40              United-States  <=50K"
      ]
     },
     "metadata": {},
     "output_type": "display_data"
    }
   ],
   "source": [
    "# Load the dplyr package\n",
    "library(dplyr)\n",
    "\n",
    "# import dataset required for this session\n",
    "txtData <- read.table(\"D:/CFT DataScienceHub/makeOver50K.txt\",sep = \",\", \n",
    "                     header = F)\n",
    "\n",
    "# insert column names to the imported table\n",
    "colnames(txtData) <- c(\"Age\",\"workclass\",\"fnlwgt\",\"education\",\n",
    "                       \"education-num\",\"marital-status\",\n",
    "                       \"occupation\",\"relationship\",\n",
    "                       \"race\",\"sex\",\"capital-gain\",\n",
    "                       \"capital-loss\",\"hours-per-week\",\n",
    "                       \"native-country\",\"eaning\")\n",
    "head(txtData, 3)"
   ]
  },
  {
   "cell_type": "code",
   "execution_count": 8,
   "metadata": {},
   "outputs": [],
   "source": [
    "# Select sub column\n",
    "age_race_sex <- select(txtData, c(Age, race, sex))"
   ]
  },
  {
   "cell_type": "code",
   "execution_count": 7,
   "metadata": {},
   "outputs": [
    {
     "data": {
      "text/html": [
       "<table>\n",
       "<thead><tr><th scope=col>workclass</th><th scope=col>fnlwgt</th><th scope=col>education</th><th scope=col>education-num</th><th scope=col>marital-status</th><th scope=col>occupation</th><th scope=col>relationship</th><th scope=col>capital-gain</th><th scope=col>capital-loss</th><th scope=col>hours-per-week</th><th scope=col>native-country</th><th scope=col>eaning</th></tr></thead>\n",
       "<tbody>\n",
       "\t<tr><td><span style=white-space:pre-wrap> State-gov       </span>  </td><td> 77516                                                     </td><td> Bachelors                                                 </td><td>13                                                         </td><td><span style=white-space:pre-wrap> Never-married     </span></td><td><span style=white-space:pre-wrap> Adm-clerical     </span> </td><td> Not-in-family                                             </td><td>2174                                                       </td><td>0                                                          </td><td>40                                                         </td><td> United-States                                             </td><td> &lt;=50K                                                  </td></tr>\n",
       "\t<tr><td> Self-emp-not-inc                                         </td><td> 83311                                                    </td><td> Bachelors                                                </td><td>13                                                        </td><td> Married-civ-spouse                                       </td><td><span style=white-space:pre-wrap> Exec-managerial  </span></td><td><span style=white-space:pre-wrap> Husband      </span>    </td><td><span style=white-space:pre-wrap>   0</span>              </td><td>0                                                         </td><td>13                                                        </td><td> United-States                                            </td><td> &lt;=50K                                                 </td></tr>\n",
       "\t<tr><td><span style=white-space:pre-wrap> Private         </span>  </td><td>215646                                                     </td><td><span style=white-space:pre-wrap> HS-grad  </span>         </td><td> 9                                                         </td><td><span style=white-space:pre-wrap> Divorced          </span></td><td> Handlers-cleaners                                         </td><td> Not-in-family                                             </td><td><span style=white-space:pre-wrap>   0</span>               </td><td>0                                                          </td><td>40                                                         </td><td> United-States                                             </td><td> &lt;=50K                                                  </td></tr>\n",
       "\t<tr><td><span style=white-space:pre-wrap> Private         </span></td><td>234721                                                   </td><td><span style=white-space:pre-wrap> 11th     </span>       </td><td> 7                                                       </td><td> Married-civ-spouse                                      </td><td> Handlers-cleaners                                       </td><td><span style=white-space:pre-wrap> Husband      </span>   </td><td><span style=white-space:pre-wrap>   0</span>             </td><td>0                                                        </td><td>40                                                       </td><td> United-States                                           </td><td> &lt;=50K                                                </td></tr>\n",
       "</tbody>\n",
       "</table>\n"
      ],
      "text/latex": [
       "\\begin{tabular}{r|llllllllllll}\n",
       " workclass & fnlwgt & education & education-num & marital-status & occupation & relationship & capital-gain & capital-loss & hours-per-week & native-country & eaning\\\\\n",
       "\\hline\n",
       "\t  State-gov          &  77516              &  Bachelors          & 13                  &  Never-married      &  Adm-clerical       &  Not-in-family      & 2174                & 0                   & 40                  &  United-States      &  <=50K             \\\\\n",
       "\t  Self-emp-not-inc   &  83311              &  Bachelors          & 13                  &  Married-civ-spouse &  Exec-managerial    &  Husband            &    0                & 0                   & 13                  &  United-States      &  <=50K             \\\\\n",
       "\t  Private            & 215646              &  HS-grad            &  9                  &  Divorced           &  Handlers-cleaners  &  Not-in-family      &    0                & 0                   & 40                  &  United-States      &  <=50K             \\\\\n",
       "\t  Private            & 234721              &  11th               &  7                  &  Married-civ-spouse &  Handlers-cleaners  &  Husband            &    0                & 0                   & 40                  &  United-States      &  <=50K             \\\\\n",
       "\\end{tabular}\n"
      ],
      "text/markdown": [
       "\n",
       "workclass | fnlwgt | education | education-num | marital-status | occupation | relationship | capital-gain | capital-loss | hours-per-week | native-country | eaning | \n",
       "|---|---|---|---|\n",
       "|  State-gov          |  77516              |  Bachelors          | 13                  |  Never-married      |  Adm-clerical       |  Not-in-family      | 2174                | 0                   | 40                  |  United-States      |  <=50K              | \n",
       "|  Self-emp-not-inc   |  83311              |  Bachelors          | 13                  |  Married-civ-spouse |  Exec-managerial    |  Husband            |    0                | 0                   | 13                  |  United-States      |  <=50K              | \n",
       "|  Private            | 215646              |  HS-grad            |  9                  |  Divorced           |  Handlers-cleaners  |  Not-in-family      |    0                | 0                   | 40                  |  United-States      |  <=50K              | \n",
       "|  Private            | 234721              |  11th               |  7                  |  Married-civ-spouse |  Handlers-cleaners  |  Husband            |    0                | 0                   | 40                  |  United-States      |  <=50K              | \n",
       "\n",
       "\n"
      ],
      "text/plain": [
       "  workclass         fnlwgt education  education-num marital-status     \n",
       "1  State-gov         77516  Bachelors 13             Never-married     \n",
       "2  Self-emp-not-inc  83311  Bachelors 13             Married-civ-spouse\n",
       "3  Private          215646  HS-grad    9             Divorced          \n",
       "4  Private          234721  11th       7             Married-civ-spouse\n",
       "  occupation         relationship   capital-gain capital-loss hours-per-week\n",
       "1  Adm-clerical       Not-in-family 2174         0            40            \n",
       "2  Exec-managerial    Husband          0         0            13            \n",
       "3  Handlers-cleaners  Not-in-family    0         0            40            \n",
       "4  Handlers-cleaners  Husband          0         0            40            \n",
       "  native-country eaning\n",
       "1  United-States  <=50K\n",
       "2  United-States  <=50K\n",
       "3  United-States  <=50K\n",
       "4  United-States  <=50K"
      ]
     },
     "metadata": {},
     "output_type": "display_data"
    }
   ],
   "source": [
    "# To omit a field, use the code snippet below.\n",
    "# To code indicates that we should include every column except Age, race and sex\n",
    "head(select(txtData, -c(Age, race, sex)),4)"
   ]
  },
  {
   "cell_type": "code",
   "execution_count": 11,
   "metadata": {},
   "outputs": [
    {
     "data": {
      "text/html": [
       "<table>\n",
       "<thead><tr><th scope=col>relationship</th></tr></thead>\n",
       "<tbody>\n",
       "\t<tr><td> Not-in-family</td></tr>\n",
       "\t<tr><td> Husband      </td></tr>\n",
       "\t<tr><td> Not-in-family</td></tr>\n",
       "\t<tr><td> Husband      </td></tr>\n",
       "\t<tr><td> Wife         </td></tr>\n",
       "\t<tr><td> Wife         </td></tr>\n",
       "</tbody>\n",
       "</table>\n"
      ],
      "text/latex": [
       "\\begin{tabular}{r|l}\n",
       " relationship\\\\\n",
       "\\hline\n",
       "\t  Not-in-family\\\\\n",
       "\t  Husband      \\\\\n",
       "\t  Not-in-family\\\\\n",
       "\t  Husband      \\\\\n",
       "\t  Wife         \\\\\n",
       "\t  Wife         \\\\\n",
       "\\end{tabular}\n"
      ],
      "text/markdown": [
       "\n",
       "relationship | \n",
       "|---|---|---|---|---|---|\n",
       "|  Not-in-family | \n",
       "|  Husband       | \n",
       "|  Not-in-family | \n",
       "|  Husband       | \n",
       "|  Wife          | \n",
       "|  Wife          | \n",
       "\n",
       "\n"
      ],
      "text/plain": [
       "  relationship  \n",
       "1  Not-in-family\n",
       "2  Husband      \n",
       "3  Not-in-family\n",
       "4  Husband      \n",
       "5  Wife         \n",
       "6  Wife         "
      ]
     },
     "metadata": {},
     "output_type": "display_data"
    }
   ],
   "source": [
    "# The select() function also allows a special syntax that allows you to specify variable names based\n",
    "# on patterns\n",
    "columns_ending_pattern <- select(txtData, ends_with(\"p\"))\n",
    "head(columns_ending_pattern)"
   ]
  },
  {
   "cell_type": "code",
   "execution_count": 13,
   "metadata": {},
   "outputs": [
    {
     "data": {
      "text/html": [
       "<table>\n",
       "<thead><tr><th scope=col>capital-gain</th><th scope=col>capital-loss</th></tr></thead>\n",
       "<tbody>\n",
       "\t<tr><td>2174</td><td>0   </td></tr>\n",
       "\t<tr><td>   0</td><td>0   </td></tr>\n",
       "\t<tr><td>   0</td><td>0   </td></tr>\n",
       "\t<tr><td>   0</td><td>0   </td></tr>\n",
       "\t<tr><td>   0</td><td>0   </td></tr>\n",
       "\t<tr><td>   0</td><td>0   </td></tr>\n",
       "</tbody>\n",
       "</table>\n"
      ],
      "text/latex": [
       "\\begin{tabular}{r|ll}\n",
       " capital-gain & capital-loss\\\\\n",
       "\\hline\n",
       "\t 2174 & 0   \\\\\n",
       "\t    0 & 0   \\\\\n",
       "\t    0 & 0   \\\\\n",
       "\t    0 & 0   \\\\\n",
       "\t    0 & 0   \\\\\n",
       "\t    0 & 0   \\\\\n",
       "\\end{tabular}\n"
      ],
      "text/markdown": [
       "\n",
       "capital-gain | capital-loss | \n",
       "|---|---|---|---|---|---|\n",
       "| 2174 | 0    | \n",
       "|    0 | 0    | \n",
       "|    0 | 0    | \n",
       "|    0 | 0    | \n",
       "|    0 | 0    | \n",
       "|    0 | 0    | \n",
       "\n",
       "\n"
      ],
      "text/plain": [
       "  capital-gain capital-loss\n",
       "1 2174         0           \n",
       "2    0         0           \n",
       "3    0         0           \n",
       "4    0         0           \n",
       "5    0         0           \n",
       "6    0         0           "
      ]
     },
     "metadata": {},
     "output_type": "display_data"
    }
   ],
   "source": [
    "subset <- select(txtData, starts_with(\"c\"))\n",
    "head(subset)"
   ]
  },
  {
   "cell_type": "markdown",
   "metadata": {},
   "source": [
    "<div class=\"alert alert-success\"></i><strong>1.3 mutate()</strong>\n",
    " </div>\n",
    "Mutate function can be used to create a new field or column name/variable.\n",
    "Mutate take two arguments, firstly the dataframe and the operation."
   ]
  },
  {
   "cell_type": "code",
   "execution_count": 14,
   "metadata": {},
   "outputs": [
    {
     "data": {
      "text/html": [
       "<table>\n",
       "<thead><tr><th scope=col>school</th><th scope=col>senior_students_age</th><th scope=col>junior_students_age</th></tr></thead>\n",
       "<tbody>\n",
       "\t<tr><td>Goodwind  </td><td>20        </td><td>15        </td></tr>\n",
       "\t<tr><td>High_grade</td><td>23        </td><td>14        </td></tr>\n",
       "\t<tr><td>High_grade</td><td>21        </td><td>12        </td></tr>\n",
       "\t<tr><td>Windrush  </td><td>22        </td><td>NA        </td></tr>\n",
       "</tbody>\n",
       "</table>\n"
      ],
      "text/latex": [
       "\\begin{tabular}{r|lll}\n",
       " school & senior\\_students\\_age & junior\\_students\\_age\\\\\n",
       "\\hline\n",
       "\t Goodwind   & 20         & 15        \\\\\n",
       "\t High\\_grade & 23           & 14          \\\\\n",
       "\t High\\_grade & 21           & 12          \\\\\n",
       "\t Windrush   & 22         & NA        \\\\\n",
       "\\end{tabular}\n"
      ],
      "text/markdown": [
       "\n",
       "school | senior_students_age | junior_students_age | \n",
       "|---|---|---|---|\n",
       "| Goodwind   | 20         | 15         | \n",
       "| High_grade | 23         | 14         | \n",
       "| High_grade | 21         | 12         | \n",
       "| Windrush   | 22         | NA         | \n",
       "\n",
       "\n"
      ],
      "text/plain": [
       "  school     senior_students_age junior_students_age\n",
       "1 Goodwind   20                  15                 \n",
       "2 High_grade 23                  14                 \n",
       "3 High_grade 21                  12                 \n",
       "4 Windrush   22                  NA                 "
      ]
     },
     "metadata": {},
     "output_type": "display_data"
    }
   ],
   "source": [
    "# Let's use this toy dataset for to make this concept clear\n",
    "sample_data = data.frame(school = c(\"Goodwind\",\"High_grade\",\"High_grade\",\"Windrush\"),\n",
    "                        senior_students_age = c(20, 23, 21, 22), \n",
    "                        junior_students_age = c(15,14, 12,NA))\n",
    "sample_data"
   ]
  },
  {
   "cell_type": "code",
   "execution_count": 15,
   "metadata": {},
   "outputs": [
    {
     "name": "stderr",
     "output_type": "stream",
     "text": [
      "Warning message:\n",
      "\"package 'bindrcpp' was built under R version 3.5.1\""
     ]
    },
    {
     "data": {
      "text/html": [
       "<table>\n",
       "<thead><tr><th scope=col>school</th><th scope=col>senior_students_age</th><th scope=col>junior_students_age</th><th scope=col>age_difference</th></tr></thead>\n",
       "<tbody>\n",
       "\t<tr><td>Goodwind  </td><td>20        </td><td>15        </td><td> 5        </td></tr>\n",
       "\t<tr><td>High_grade</td><td>23        </td><td>14        </td><td> 9        </td></tr>\n",
       "\t<tr><td>High_grade</td><td>21        </td><td>12        </td><td> 9        </td></tr>\n",
       "\t<tr><td>Windrush  </td><td>22        </td><td>NA        </td><td>NA        </td></tr>\n",
       "</tbody>\n",
       "</table>\n"
      ],
      "text/latex": [
       "\\begin{tabular}{r|llll}\n",
       " school & senior\\_students\\_age & junior\\_students\\_age & age\\_difference\\\\\n",
       "\\hline\n",
       "\t Goodwind   & 20         & 15         &  5        \\\\\n",
       "\t High\\_grade & 23           & 14           &  9          \\\\\n",
       "\t High\\_grade & 21           & 12           &  9          \\\\\n",
       "\t Windrush   & 22         & NA         & NA        \\\\\n",
       "\\end{tabular}\n"
      ],
      "text/markdown": [
       "\n",
       "school | senior_students_age | junior_students_age | age_difference | \n",
       "|---|---|---|---|\n",
       "| Goodwind   | 20         | 15         |  5         | \n",
       "| High_grade | 23         | 14         |  9         | \n",
       "| High_grade | 21         | 12         |  9         | \n",
       "| Windrush   | 22         | NA         | NA         | \n",
       "\n",
       "\n"
      ],
      "text/plain": [
       "  school     senior_students_age junior_students_age age_difference\n",
       "1 Goodwind   20                  15                   5            \n",
       "2 High_grade 23                  14                   9            \n",
       "3 High_grade 21                  12                   9            \n",
       "4 Windrush   22                  NA                  NA            "
      ]
     },
     "metadata": {},
     "output_type": "display_data"
    }
   ],
   "source": [
    "new_sample_data <- mutate(sample_data, age_difference = senior_students_age - junior_students_age)\n",
    "new_sample_data"
   ]
  },
  {
   "cell_type": "markdown",
   "metadata": {},
   "source": [
    "<div class=\"alert alert-success\"></i><strong>1.4 filter()</strong>\n",
    " </div>\n",
    "The filter() function is used to extract subsets of rows from a data frame. This function is similar\n",
    "to the existing subset() function in R but is quite a bit faster in my experience."
   ]
  },
  {
   "cell_type": "code",
   "execution_count": 17,
   "metadata": {},
   "outputs": [
    {
     "data": {
      "text/html": [
       "<table>\n",
       "<thead><tr><th scope=col>school</th><th scope=col>senior_students_age</th><th scope=col>junior_students_age</th></tr></thead>\n",
       "<tbody>\n",
       "\t<tr><td>Windrush</td><td>22      </td><td>NA      </td></tr>\n",
       "</tbody>\n",
       "</table>\n"
      ],
      "text/latex": [
       "\\begin{tabular}{r|lll}\n",
       " school & senior\\_students\\_age & junior\\_students\\_age\\\\\n",
       "\\hline\n",
       "\t Windrush & 22       & NA      \\\\\n",
       "\\end{tabular}\n"
      ],
      "text/markdown": [
       "\n",
       "school | senior_students_age | junior_students_age | \n",
       "|---|\n",
       "| Windrush | 22       | NA       | \n",
       "\n",
       "\n"
      ],
      "text/plain": [
       "  school   senior_students_age junior_students_age\n",
       "1 Windrush 22                  NA                 "
      ]
     },
     "metadata": {},
     "output_type": "display_data"
    }
   ],
   "source": [
    "filter(sample_data, school == \"Windrush\")"
   ]
  },
  {
   "cell_type": "markdown",
   "metadata": {},
   "source": [
    "<div class=\"alert alert-danger\"></i><i class=\"icon-attention-alt\"></i>**Try it out!**<br>Return only records of people with Bachelors degree using filter.<br>"
   ]
  },
  {
   "cell_type": "code",
   "execution_count": 3,
   "metadata": {
    "scrolled": false
   },
   "outputs": [
    {
     "data": {
      "text/html": [
       "<table>\n",
       "<thead><tr><th scope=col>Age</th><th scope=col>workclass</th><th scope=col>fnlwgt</th><th scope=col>education</th><th scope=col>education-num</th><th scope=col>marital-status</th><th scope=col>occupation</th><th scope=col>relationship</th><th scope=col>race</th><th scope=col>sex</th><th scope=col>capital-gain</th><th scope=col>capital-loss</th><th scope=col>hours-per-week</th><th scope=col>native-country</th><th scope=col>eaning</th></tr></thead>\n",
       "<tbody>\n",
       "\t<tr><td>39                                                        </td><td><span style=white-space:pre-wrap>State-gov       </span>  </td><td> 77516                                                    </td><td>Bachelors                                                 </td><td>13                                                        </td><td><span style=white-space:pre-wrap>Never-married     </span></td><td><span style=white-space:pre-wrap>Adm-clerical     </span> </td><td>Not-in-family                                             </td><td>White                                                     </td><td>Male                                                      </td><td>2174                                                      </td><td>0                                                         </td><td>40                                                        </td><td>United-States                                             </td><td>&lt;=50K                                                  </td></tr>\n",
       "\t<tr><td>50                                                       </td><td>Self-emp-not-inc                                         </td><td> 83311                                                   </td><td>Bachelors                                                </td><td>13                                                       </td><td>Married-civ-spouse                                       </td><td><span style=white-space:pre-wrap>Exec-managerial  </span></td><td><span style=white-space:pre-wrap>Husband      </span>    </td><td>White                                                    </td><td>Male                                                     </td><td><span style=white-space:pre-wrap>   0</span>             </td><td>0                                                        </td><td>13                                                       </td><td>United-States                                            </td><td>&lt;=50K                                                 </td></tr>\n",
       "\t<tr><td>38                                                        </td><td><span style=white-space:pre-wrap>Private         </span>  </td><td>215646                                                    </td><td><span style=white-space:pre-wrap>HS-grad  </span>         </td><td> 9                                                        </td><td><span style=white-space:pre-wrap>Divorced          </span></td><td>Handlers-cleaners                                         </td><td>Not-in-family                                             </td><td>White                                                     </td><td>Male                                                      </td><td><span style=white-space:pre-wrap>   0</span>              </td><td>0                                                         </td><td>40                                                        </td><td>United-States                                             </td><td>&lt;=50K                                                  </td></tr>\n",
       "</tbody>\n",
       "</table>\n"
      ],
      "text/latex": [
       "\\begin{tabular}{r|lllllllllllllll}\n",
       " Age & workclass & fnlwgt & education & education-num & marital-status & occupation & relationship & race & sex & capital-gain & capital-loss & hours-per-week & native-country & eaning\\\\\n",
       "\\hline\n",
       "\t 39                 & State-gov          &  77516             & Bachelors          & 13                 & Never-married      & Adm-clerical       & Not-in-family      & White              & Male               & 2174               & 0                  & 40                 & United-States      & <=50K             \\\\\n",
       "\t 50                 & Self-emp-not-inc   &  83311             & Bachelors          & 13                 & Married-civ-spouse & Exec-managerial    & Husband            & White              & Male               &    0               & 0                  & 13                 & United-States      & <=50K             \\\\\n",
       "\t 38                 & Private            & 215646             & HS-grad            &  9                 & Divorced           & Handlers-cleaners  & Not-in-family      & White              & Male               &    0               & 0                  & 40                 & United-States      & <=50K             \\\\\n",
       "\\end{tabular}\n"
      ],
      "text/markdown": [
       "\n",
       "Age | workclass | fnlwgt | education | education-num | marital-status | occupation | relationship | race | sex | capital-gain | capital-loss | hours-per-week | native-country | eaning | \n",
       "|---|---|---|\n",
       "| 39                 | State-gov          |  77516             | Bachelors          | 13                 | Never-married      | Adm-clerical       | Not-in-family      | White              | Male               | 2174               | 0                  | 40                 | United-States      | <=50K              | \n",
       "| 50                 | Self-emp-not-inc   |  83311             | Bachelors          | 13                 | Married-civ-spouse | Exec-managerial    | Husband            | White              | Male               |    0               | 0                  | 13                 | United-States      | <=50K              | \n",
       "| 38                 | Private            | 215646             | HS-grad            |  9                 | Divorced           | Handlers-cleaners  | Not-in-family      | White              | Male               |    0               | 0                  | 40                 | United-States      | <=50K              | \n",
       "\n",
       "\n"
      ],
      "text/plain": [
       "  Age workclass        fnlwgt education education-num marital-status    \n",
       "1 39  State-gov         77516 Bachelors 13            Never-married     \n",
       "2 50  Self-emp-not-inc  83311 Bachelors 13            Married-civ-spouse\n",
       "3 38  Private          215646 HS-grad    9            Divorced          \n",
       "  occupation        relationship  race  sex  capital-gain capital-loss\n",
       "1 Adm-clerical      Not-in-family White Male 2174         0           \n",
       "2 Exec-managerial   Husband       White Male    0         0           \n",
       "3 Handlers-cleaners Not-in-family White Male    0         0           \n",
       "  hours-per-week native-country eaning\n",
       "1 40             United-States  <=50K \n",
       "2 13             United-States  <=50K \n",
       "3 40             United-States  <=50K "
      ]
     },
     "metadata": {},
     "output_type": "display_data"
    }
   ],
   "source": [
    "# import dataset required for this session\n",
    "txtData <- read.table(\"D:/CFT DataScienceHub/makeOver50K.txt\",sep = \",\", \n",
    "                     header = F,strip.white = TRUE)\n",
    "\n",
    "# insert column names to the imported table\n",
    "colnames(txtData) <- c(\"Age\",\"workclass\",\"fnlwgt\",\"education\",\n",
    "                       \"education-num\",\"marital-status\",\n",
    "                       \"occupation\",\"relationship\",\n",
    "                       \"race\",\"sex\",\"capital-gain\",\n",
    "                       \"capital-loss\",\"hours-per-week\",\n",
    "                       \"native-country\",\"eaning\")\n",
    "head(txtData, 3)"
   ]
  },
  {
   "cell_type": "code",
   "execution_count": 6,
   "metadata": {},
   "outputs": [
    {
     "ename": "ERROR",
     "evalue": "Error in filter(txtData, education == \"Bachelors\"): object 'education' not found\n",
     "output_type": "error",
     "traceback": [
      "Error in filter(txtData, education == \"Bachelors\"): object 'education' not found\nTraceback:\n",
      "1. filter(txtData, education == \"Bachelors\")"
     ]
    }
   ],
   "source": [
    "filter(txtData, education == \"Bachelors\")"
   ]
  },
  {
   "cell_type": "markdown",
   "metadata": {},
   "source": [
    "<div class=\"alert alert-danger\"></i><i class=\"icon-attention-alt\"></i>**Try it out!**<br>Return only records of people with education-num greater than 13 using filter.<br>"
   ]
  },
  {
   "cell_type": "code",
   "execution_count": 5,
   "metadata": {},
   "outputs": [
    {
     "ename": "ERROR",
     "evalue": "Error in filter(txtData, `education-num` > 13): object 'education-num' not found\n",
     "output_type": "error",
     "traceback": [
      "Error in filter(txtData, `education-num` > 13): object 'education-num' not found\nTraceback:\n",
      "1. head(filter(txtData, `education-num` > 13))",
      "2. filter(txtData, `education-num` > 13)"
     ]
    }
   ],
   "source": [
    "head(filter(txtData, `education-num` > 13))"
   ]
  },
  {
   "cell_type": "markdown",
   "metadata": {},
   "source": [
    "<div class=\"alert alert-danger\"></i><i class=\"icon-attention-alt\"></i>**Try it out!**<br>Return only records of people with education-num greater than or equal to 13 using filter.<br>"
   ]
  },
  {
   "cell_type": "markdown",
   "metadata": {},
   "source": [
    "<div class=\"alert alert-danger\"></i><i class=\"icon-attention-alt\"></i>**Try it out!**<br>Return only records of people with education-num equal 9 or 13 using filter.<br>"
   ]
  },
  {
   "cell_type": "code",
   "execution_count": 24,
   "metadata": {},
   "outputs": [
    {
     "name": "stderr",
     "output_type": "stream",
     "text": [
      "Warning message in `education-num` == c(9, 13):\n",
      "\"longer object length is not a multiple of shorter object length\""
     ]
    },
    {
     "data": {
      "text/html": [
       "<table>\n",
       "<thead><tr><th scope=col>Age</th><th scope=col>workclass</th><th scope=col>fnlwgt</th><th scope=col>education</th><th scope=col>education-num</th><th scope=col>marital-status</th><th scope=col>occupation</th><th scope=col>relationship</th><th scope=col>race</th><th scope=col>sex</th><th scope=col>capital-gain</th><th scope=col>capital-loss</th><th scope=col>hours-per-week</th><th scope=col>native-country</th><th scope=col>eaning</th></tr></thead>\n",
       "<tbody>\n",
       "\t<tr><td>50                                                        </td><td>Self-emp-not-inc                                          </td><td> 83311                                                    </td><td>Bachelors                                                 </td><td>13                                                        </td><td>Married-civ-spouse                                        </td><td><span style=white-space:pre-wrap>Exec-managerial  </span> </td><td><span style=white-space:pre-wrap>Husband      </span>     </td><td><span style=white-space:pre-wrap>White             </span></td><td><span style=white-space:pre-wrap>Male  </span>            </td><td><span style=white-space:pre-wrap>    0</span>             </td><td><span style=white-space:pre-wrap>   0</span>              </td><td>13                                                        </td><td>United-States                                             </td><td>&lt;=50K                                                  </td></tr>\n",
       "\t<tr><td>38                                                        </td><td><span style=white-space:pre-wrap>Private         </span>  </td><td>215646                                                    </td><td><span style=white-space:pre-wrap>HS-grad  </span>         </td><td> 9                                                        </td><td><span style=white-space:pre-wrap>Divorced          </span></td><td>Handlers-cleaners                                         </td><td>Not-in-family                                             </td><td><span style=white-space:pre-wrap>White             </span></td><td><span style=white-space:pre-wrap>Male  </span>            </td><td><span style=white-space:pre-wrap>    0</span>             </td><td><span style=white-space:pre-wrap>   0</span>              </td><td>40                                                        </td><td>United-States                                             </td><td>&lt;=50K                                                  </td></tr>\n",
       "\t<tr><td>42                                                        </td><td><span style=white-space:pre-wrap>Private         </span>  </td><td>159449                                                    </td><td>Bachelors                                                 </td><td>13                                                        </td><td>Married-civ-spouse                                        </td><td><span style=white-space:pre-wrap>Exec-managerial  </span> </td><td><span style=white-space:pre-wrap>Husband      </span>     </td><td><span style=white-space:pre-wrap>White             </span></td><td><span style=white-space:pre-wrap>Male  </span>            </td><td> 5178                                                     </td><td><span style=white-space:pre-wrap>   0</span>              </td><td>40                                                        </td><td>United-States                                             </td><td>&gt;50K                                                   </td></tr>\n",
       "\t<tr><td>30                                                       </td><td><span style=white-space:pre-wrap>State-gov       </span> </td><td>141297                                                   </td><td>Bachelors                                                </td><td>13                                                       </td><td>Married-civ-spouse                                       </td><td><span style=white-space:pre-wrap>Prof-specialty   </span></td><td><span style=white-space:pre-wrap>Husband      </span>    </td><td>Asian-Pac-Islander                                       </td><td><span style=white-space:pre-wrap>Male  </span>           </td><td><span style=white-space:pre-wrap>    0</span>            </td><td><span style=white-space:pre-wrap>   0</span>             </td><td>40                                                       </td><td><span style=white-space:pre-wrap>India        </span>    </td><td>&gt;50K                                                  </td></tr>\n",
       "\t<tr><td>25                                                        </td><td>Self-emp-not-inc                                          </td><td>176756                                                    </td><td><span style=white-space:pre-wrap>HS-grad  </span>         </td><td> 9                                                        </td><td><span style=white-space:pre-wrap>Never-married     </span></td><td><span style=white-space:pre-wrap>Farming-fishing  </span> </td><td><span style=white-space:pre-wrap>Own-child    </span>     </td><td><span style=white-space:pre-wrap>White             </span></td><td><span style=white-space:pre-wrap>Male  </span>            </td><td><span style=white-space:pre-wrap>    0</span>             </td><td><span style=white-space:pre-wrap>   0</span>              </td><td>35                                                        </td><td>United-States                                             </td><td>&lt;=50K                                                  </td></tr>\n",
       "\t<tr><td>59                                                        </td><td><span style=white-space:pre-wrap>Private         </span>  </td><td>109015                                                    </td><td><span style=white-space:pre-wrap>HS-grad  </span>         </td><td> 9                                                        </td><td><span style=white-space:pre-wrap>Divorced          </span></td><td><span style=white-space:pre-wrap>Tech-support     </span> </td><td><span style=white-space:pre-wrap>Unmarried    </span>     </td><td><span style=white-space:pre-wrap>White             </span></td><td>Female                                                    </td><td><span style=white-space:pre-wrap>    0</span>             </td><td><span style=white-space:pre-wrap>   0</span>              </td><td>40                                                        </td><td>United-States                                             </td><td>&lt;=50K                                                  </td></tr>\n",
       "\t<tr><td>56                                                        </td><td><span style=white-space:pre-wrap>Local-gov       </span>  </td><td>216851                                                    </td><td>Bachelors                                                 </td><td>13                                                        </td><td>Married-civ-spouse                                        </td><td><span style=white-space:pre-wrap>Tech-support     </span> </td><td><span style=white-space:pre-wrap>Husband      </span>     </td><td><span style=white-space:pre-wrap>White             </span></td><td><span style=white-space:pre-wrap>Male  </span>            </td><td><span style=white-space:pre-wrap>    0</span>             </td><td><span style=white-space:pre-wrap>   0</span>              </td><td>40                                                        </td><td>United-States                                             </td><td>&gt;50K                                                   </td></tr>\n",
       "\t<tr><td>19                                                        </td><td><span style=white-space:pre-wrap>Private         </span>  </td><td>168294                                                    </td><td><span style=white-space:pre-wrap>HS-grad  </span>         </td><td> 9                                                        </td><td><span style=white-space:pre-wrap>Never-married     </span></td><td><span style=white-space:pre-wrap>Craft-repair     </span> </td><td><span style=white-space:pre-wrap>Own-child    </span>     </td><td><span style=white-space:pre-wrap>White             </span></td><td><span style=white-space:pre-wrap>Male  </span>            </td><td><span style=white-space:pre-wrap>    0</span>             </td><td><span style=white-space:pre-wrap>   0</span>              </td><td>40                                                        </td><td>United-States                                             </td><td>&lt;=50K                                                  </td></tr>\n",
       "\t<tr><td>39                                                        </td><td><span style=white-space:pre-wrap>Private         </span>  </td><td>367260                                                    </td><td><span style=white-space:pre-wrap>HS-grad  </span>         </td><td> 9                                                        </td><td><span style=white-space:pre-wrap>Divorced          </span></td><td><span style=white-space:pre-wrap>Exec-managerial  </span> </td><td>Not-in-family                                             </td><td><span style=white-space:pre-wrap>White             </span></td><td><span style=white-space:pre-wrap>Male  </span>            </td><td><span style=white-space:pre-wrap>    0</span>             </td><td><span style=white-space:pre-wrap>   0</span>              </td><td>80                                                        </td><td>United-States                                             </td><td>&lt;=50K                                                  </td></tr>\n",
       "\t<tr><td>53                                                        </td><td>Self-emp-not-inc                                          </td><td> 88506                                                    </td><td>Bachelors                                                 </td><td>13                                                        </td><td>Married-civ-spouse                                        </td><td><span style=white-space:pre-wrap>Prof-specialty   </span> </td><td><span style=white-space:pre-wrap>Husband      </span>     </td><td><span style=white-space:pre-wrap>White             </span></td><td><span style=white-space:pre-wrap>Male  </span>            </td><td><span style=white-space:pre-wrap>    0</span>             </td><td><span style=white-space:pre-wrap>   0</span>              </td><td>40                                                        </td><td>United-States                                             </td><td>&lt;=50K                                                  </td></tr>\n",
       "\t<tr><td>25                                                        </td><td><span style=white-space:pre-wrap>Private         </span>  </td><td>289980                                                    </td><td><span style=white-space:pre-wrap>HS-grad  </span>         </td><td> 9                                                        </td><td><span style=white-space:pre-wrap>Never-married     </span></td><td>Handlers-cleaners                                         </td><td>Not-in-family                                             </td><td><span style=white-space:pre-wrap>White             </span></td><td><span style=white-space:pre-wrap>Male  </span>            </td><td><span style=white-space:pre-wrap>    0</span>             </td><td><span style=white-space:pre-wrap>   0</span>              </td><td>35                                                        </td><td>United-States                                             </td><td>&lt;=50K                                                  </td></tr>\n",
       "\t<tr><td>57                                                        </td><td><span style=white-space:pre-wrap>Federal-gov     </span>  </td><td>337895                                                    </td><td>Bachelors                                                 </td><td>13                                                        </td><td>Married-civ-spouse                                        </td><td><span style=white-space:pre-wrap>Prof-specialty   </span> </td><td><span style=white-space:pre-wrap>Husband      </span>     </td><td><span style=white-space:pre-wrap>Black             </span></td><td><span style=white-space:pre-wrap>Male  </span>            </td><td><span style=white-space:pre-wrap>    0</span>             </td><td><span style=white-space:pre-wrap>   0</span>              </td><td>40                                                        </td><td>United-States                                             </td><td>&gt;50K                                                   </td></tr>\n",
       "\t<tr><td>53                                                        </td><td><span style=white-space:pre-wrap>Private         </span>  </td><td>144361                                                    </td><td><span style=white-space:pre-wrap>HS-grad  </span>         </td><td> 9                                                        </td><td>Married-civ-spouse                                        </td><td>Machine-op-inspct                                         </td><td><span style=white-space:pre-wrap>Husband      </span>     </td><td><span style=white-space:pre-wrap>White             </span></td><td><span style=white-space:pre-wrap>Male  </span>            </td><td><span style=white-space:pre-wrap>    0</span>             </td><td><span style=white-space:pre-wrap>   0</span>              </td><td>38                                                        </td><td>United-States                                             </td><td>&lt;=50K                                                  </td></tr>\n",
       "\t<tr><td>50                                                        </td><td><span style=white-space:pre-wrap>Federal-gov     </span>  </td><td>251585                                                    </td><td>Bachelors                                                 </td><td>13                                                        </td><td><span style=white-space:pre-wrap>Divorced          </span></td><td><span style=white-space:pre-wrap>Exec-managerial  </span> </td><td>Not-in-family                                             </td><td><span style=white-space:pre-wrap>White             </span></td><td><span style=white-space:pre-wrap>Male  </span>            </td><td><span style=white-space:pre-wrap>    0</span>             </td><td><span style=white-space:pre-wrap>   0</span>              </td><td>55                                                        </td><td>United-States                                             </td><td>&gt;50K                                                   </td></tr>\n",
       "\t<tr><td>47                                                        </td><td><span style=white-space:pre-wrap>Self-emp-inc    </span>  </td><td>109832                                                    </td><td><span style=white-space:pre-wrap>HS-grad  </span>         </td><td> 9                                                        </td><td><span style=white-space:pre-wrap>Divorced          </span></td><td><span style=white-space:pre-wrap>Exec-managerial  </span> </td><td>Not-in-family                                             </td><td><span style=white-space:pre-wrap>White             </span></td><td><span style=white-space:pre-wrap>Male  </span>            </td><td><span style=white-space:pre-wrap>    0</span>             </td><td><span style=white-space:pre-wrap>   0</span>              </td><td>60                                                        </td><td>United-States                                             </td><td>&lt;=50K                                                  </td></tr>\n",
       "\t<tr><td>41                                                        </td><td><span style=white-space:pre-wrap>Private         </span>  </td><td>147372                                                    </td><td><span style=white-space:pre-wrap>HS-grad  </span>         </td><td> 9                                                        </td><td>Married-civ-spouse                                        </td><td><span style=white-space:pre-wrap>Adm-clerical     </span> </td><td><span style=white-space:pre-wrap>Husband      </span>     </td><td><span style=white-space:pre-wrap>White             </span></td><td><span style=white-space:pre-wrap>Male  </span>            </td><td><span style=white-space:pre-wrap>    0</span>             </td><td><span style=white-space:pre-wrap>   0</span>              </td><td>48                                                        </td><td>United-States                                             </td><td>&lt;=50K                                                  </td></tr>\n",
       "\t<tr><td>48                                                        </td><td><span style=white-space:pre-wrap>Private         </span>  </td><td>149640                                                    </td><td><span style=white-space:pre-wrap>HS-grad  </span>         </td><td> 9                                                        </td><td>Married-civ-spouse                                        </td><td>Transport-moving                                          </td><td><span style=white-space:pre-wrap>Husband      </span>     </td><td><span style=white-space:pre-wrap>White             </span></td><td><span style=white-space:pre-wrap>Male  </span>            </td><td><span style=white-space:pre-wrap>    0</span>             </td><td><span style=white-space:pre-wrap>   0</span>              </td><td>40                                                        </td><td>United-States                                             </td><td>&lt;=50K                                                  </td></tr>\n",
       "\t<tr><td>31                                                        </td><td><span style=white-space:pre-wrap>Private         </span>  </td><td>309974                                                    </td><td>Bachelors                                                 </td><td>13                                                        </td><td><span style=white-space:pre-wrap>Separated         </span></td><td><span style=white-space:pre-wrap>Sales            </span> </td><td><span style=white-space:pre-wrap>Own-child    </span>     </td><td><span style=white-space:pre-wrap>Black             </span></td><td>Female                                                    </td><td><span style=white-space:pre-wrap>    0</span>             </td><td><span style=white-space:pre-wrap>   0</span>              </td><td>40                                                        </td><td>United-States                                             </td><td>&lt;=50K                                                  </td></tr>\n",
       "\t<tr><td>18                                                        </td><td><span style=white-space:pre-wrap>Private         </span>  </td><td>446839                                                    </td><td><span style=white-space:pre-wrap>HS-grad  </span>         </td><td> 9                                                        </td><td><span style=white-space:pre-wrap>Never-married     </span></td><td><span style=white-space:pre-wrap>Sales            </span> </td><td>Not-in-family                                             </td><td><span style=white-space:pre-wrap>White             </span></td><td><span style=white-space:pre-wrap>Male  </span>            </td><td><span style=white-space:pre-wrap>    0</span>             </td><td><span style=white-space:pre-wrap>   0</span>              </td><td>30                                                        </td><td>United-States                                             </td><td>&lt;=50K                                                  </td></tr>\n",
       "\t<tr><td>52                                                        </td><td><span style=white-space:pre-wrap>Private         </span>  </td><td>276515                                                    </td><td>Bachelors                                                 </td><td>13                                                        </td><td>Married-civ-spouse                                        </td><td><span style=white-space:pre-wrap>Other-service    </span> </td><td><span style=white-space:pre-wrap>Husband      </span>     </td><td><span style=white-space:pre-wrap>White             </span></td><td><span style=white-space:pre-wrap>Male  </span>            </td><td><span style=white-space:pre-wrap>    0</span>             </td><td><span style=white-space:pre-wrap>   0</span>              </td><td>40                                                        </td><td><span style=white-space:pre-wrap>Cuba         </span>     </td><td>&lt;=50K                                                  </td></tr>\n",
       "\t<tr><td>46                                                        </td><td><span style=white-space:pre-wrap>Private         </span>  </td><td> 51618                                                    </td><td><span style=white-space:pre-wrap>HS-grad  </span>         </td><td> 9                                                        </td><td>Married-civ-spouse                                        </td><td><span style=white-space:pre-wrap>Other-service    </span> </td><td><span style=white-space:pre-wrap>Wife         </span>     </td><td><span style=white-space:pre-wrap>White             </span></td><td>Female                                                    </td><td><span style=white-space:pre-wrap>    0</span>             </td><td><span style=white-space:pre-wrap>   0</span>              </td><td>40                                                        </td><td>United-States                                             </td><td>&lt;=50K                                                  </td></tr>\n",
       "\t<tr><td>44                                                        </td><td><span style=white-space:pre-wrap>Private         </span>  </td><td>343591                                                    </td><td><span style=white-space:pre-wrap>HS-grad  </span>         </td><td> 9                                                        </td><td><span style=white-space:pre-wrap>Divorced          </span></td><td><span style=white-space:pre-wrap>Craft-repair     </span> </td><td>Not-in-family                                             </td><td><span style=white-space:pre-wrap>White             </span></td><td>Female                                                    </td><td>14344                                                     </td><td><span style=white-space:pre-wrap>   0</span>              </td><td>40                                                        </td><td>United-States                                             </td><td>&gt;50K                                                   </td></tr>\n",
       "\t<tr><td>49                                                        </td><td><span style=white-space:pre-wrap>Local-gov       </span>  </td><td>268234                                                    </td><td><span style=white-space:pre-wrap>HS-grad  </span>         </td><td> 9                                                        </td><td>Married-civ-spouse                                        </td><td><span style=white-space:pre-wrap>Protective-serv  </span> </td><td><span style=white-space:pre-wrap>Husband      </span>     </td><td><span style=white-space:pre-wrap>White             </span></td><td><span style=white-space:pre-wrap>Male  </span>            </td><td><span style=white-space:pre-wrap>    0</span>             </td><td><span style=white-space:pre-wrap>   0</span>              </td><td>40                                                        </td><td>United-States                                             </td><td>&gt;50K                                                   </td></tr>\n",
       "\t<tr><td>44                                                        </td><td><span style=white-space:pre-wrap>Private         </span>  </td><td>198282                                                    </td><td>Bachelors                                                 </td><td>13                                                        </td><td>Married-civ-spouse                                        </td><td><span style=white-space:pre-wrap>Exec-managerial  </span> </td><td><span style=white-space:pre-wrap>Husband      </span>     </td><td><span style=white-space:pre-wrap>White             </span></td><td><span style=white-space:pre-wrap>Male  </span>            </td><td>15024                                                     </td><td><span style=white-space:pre-wrap>   0</span>              </td><td>60                                                        </td><td>United-States                                             </td><td>&gt;50K                                                   </td></tr>\n",
       "\t<tr><td>29                                                        </td><td><span style=white-space:pre-wrap>Private         </span>  </td><td>103432                                                    </td><td><span style=white-space:pre-wrap>HS-grad  </span>         </td><td> 9                                                        </td><td><span style=white-space:pre-wrap>Never-married     </span></td><td><span style=white-space:pre-wrap>Craft-repair     </span> </td><td>Not-in-family                                             </td><td><span style=white-space:pre-wrap>White             </span></td><td><span style=white-space:pre-wrap>Male  </span>            </td><td><span style=white-space:pre-wrap>    0</span>             </td><td><span style=white-space:pre-wrap>   0</span>              </td><td>40                                                        </td><td>United-States                                             </td><td>&lt;=50K                                                  </td></tr>\n",
       "\t<tr><td>31                                                        </td><td><span style=white-space:pre-wrap>Local-gov       </span>  </td><td>189265                                                    </td><td><span style=white-space:pre-wrap>HS-grad  </span>         </td><td> 9                                                        </td><td><span style=white-space:pre-wrap>Never-married     </span></td><td><span style=white-space:pre-wrap>Adm-clerical     </span> </td><td>Not-in-family                                             </td><td><span style=white-space:pre-wrap>White             </span></td><td>Female                                                    </td><td><span style=white-space:pre-wrap>    0</span>             </td><td><span style=white-space:pre-wrap>   0</span>              </td><td>40                                                        </td><td>United-States                                             </td><td>&lt;=50K                                                  </td></tr>\n",
       "\t<tr><td>56                                                        </td><td>Self-emp-not-inc                                          </td><td>335605                                                    </td><td><span style=white-space:pre-wrap>HS-grad  </span>         </td><td> 9                                                        </td><td>Married-civ-spouse                                        </td><td><span style=white-space:pre-wrap>Other-service    </span> </td><td><span style=white-space:pre-wrap>Husband      </span>     </td><td><span style=white-space:pre-wrap>White             </span></td><td><span style=white-space:pre-wrap>Male  </span>            </td><td><span style=white-space:pre-wrap>    0</span>             </td><td>1887                                                      </td><td>50                                                        </td><td><span style=white-space:pre-wrap>Canada       </span>     </td><td>&gt;50K                                                   </td></tr>\n",
       "\t<tr><td>36                                                        </td><td><span style=white-space:pre-wrap>Private         </span>  </td><td>102864                                                    </td><td><span style=white-space:pre-wrap>HS-grad  </span>         </td><td> 9                                                        </td><td><span style=white-space:pre-wrap>Never-married     </span></td><td>Machine-op-inspct                                         </td><td><span style=white-space:pre-wrap>Own-child    </span>     </td><td><span style=white-space:pre-wrap>White             </span></td><td>Female                                                    </td><td><span style=white-space:pre-wrap>    0</span>             </td><td><span style=white-space:pre-wrap>   0</span>              </td><td>40                                                        </td><td>United-States                                             </td><td>&lt;=50K                                                  </td></tr>\n",
       "\t<tr><td>40                                                        </td><td><span style=white-space:pre-wrap>Private         </span>  </td><td>118853                                                    </td><td>Bachelors                                                 </td><td>13                                                        </td><td>Married-civ-spouse                                        </td><td><span style=white-space:pre-wrap>Exec-managerial  </span> </td><td><span style=white-space:pre-wrap>Husband      </span>     </td><td><span style=white-space:pre-wrap>White             </span></td><td><span style=white-space:pre-wrap>Male  </span>            </td><td><span style=white-space:pre-wrap>    0</span>             </td><td><span style=white-space:pre-wrap>   0</span>              </td><td>60                                                        </td><td>United-States                                             </td><td>&lt;=50K                                                  </td></tr>\n",
       "\t<tr><td>29                                                        </td><td><span style=white-space:pre-wrap>State-gov       </span>  </td><td>267989                                                    </td><td>Bachelors                                                 </td><td>13                                                        </td><td>Married-civ-spouse                                        </td><td><span style=white-space:pre-wrap>Prof-specialty   </span> </td><td><span style=white-space:pre-wrap>Husband      </span>     </td><td><span style=white-space:pre-wrap>White             </span></td><td><span style=white-space:pre-wrap>Male  </span>            </td><td><span style=white-space:pre-wrap>    0</span>             </td><td><span style=white-space:pre-wrap>   0</span>              </td><td>50                                                        </td><td>United-States                                             </td><td>&gt;50K                                                   </td></tr>\n",
       "\t<tr><td>...</td><td>...</td><td>...</td><td>...</td><td>...</td><td>...</td><td>...</td><td>...</td><td>...</td><td>...</td><td>...</td><td>...</td><td>...</td><td>...</td><td>...</td></tr>\n",
       "\t<tr><td>36                                                        </td><td><span style=white-space:pre-wrap>Private         </span>  </td><td> 66304                                                    </td><td>Bachelors                                                 </td><td>13                                                        </td><td>Married-civ-spouse                                        </td><td><span style=white-space:pre-wrap>Exec-managerial  </span> </td><td><span style=white-space:pre-wrap>Husband      </span>     </td><td><span style=white-space:pre-wrap>White             </span></td><td><span style=white-space:pre-wrap>Male  </span>            </td><td><span style=white-space:pre-wrap>    0</span>             </td><td>0                                                         </td><td>55                                                        </td><td>United-States                                             </td><td>&gt;50K                                                   </td></tr>\n",
       "\t<tr><td>47                                                        </td><td><span style=white-space:pre-wrap>Private         </span>  </td><td>161950                                                    </td><td><span style=white-space:pre-wrap>HS-grad  </span>         </td><td> 9                                                        </td><td><span style=white-space:pre-wrap>Divorced          </span></td><td><span style=white-space:pre-wrap>Other-service    </span> </td><td><span style=white-space:pre-wrap>Unmarried    </span>     </td><td><span style=white-space:pre-wrap>White             </span></td><td>Female                                                    </td><td><span style=white-space:pre-wrap>    0</span>             </td><td>0                                                         </td><td>32                                                        </td><td>United-States                                             </td><td>&lt;=50K                                                  </td></tr>\n",
       "\t<tr><td>20                                                        </td><td><span style=white-space:pre-wrap>?               </span>  </td><td>203992                                                    </td><td><span style=white-space:pre-wrap>HS-grad  </span>         </td><td> 9                                                        </td><td><span style=white-space:pre-wrap>Never-married     </span></td><td><span style=white-space:pre-wrap>?                </span> </td><td><span style=white-space:pre-wrap>Own-child    </span>     </td><td><span style=white-space:pre-wrap>White             </span></td><td><span style=white-space:pre-wrap>Male  </span>            </td><td><span style=white-space:pre-wrap>    0</span>             </td><td>0                                                         </td><td>40                                                        </td><td>United-States                                             </td><td>&lt;=50K                                                  </td></tr>\n",
       "\t<tr><td>41                                                        </td><td>Self-emp-not-inc                                          </td><td>168098                                                    </td><td>Bachelors                                                 </td><td>13                                                        </td><td>Married-civ-spouse                                        </td><td><span style=white-space:pre-wrap>Prof-specialty   </span> </td><td><span style=white-space:pre-wrap>Husband      </span>     </td><td><span style=white-space:pre-wrap>White             </span></td><td><span style=white-space:pre-wrap>Male  </span>            </td><td><span style=white-space:pre-wrap>    0</span>             </td><td>0                                                         </td><td>50                                                        </td><td>United-States                                             </td><td>&lt;=50K                                                  </td></tr>\n",
       "\t<tr><td>34                                                        </td><td><span style=white-space:pre-wrap>Private         </span>  </td><td>213307                                                    </td><td><span style=white-space:pre-wrap>HS-grad  </span>         </td><td> 9                                                        </td><td><span style=white-space:pre-wrap>Never-married     </span></td><td>Handlers-cleaners                                         </td><td><span style=white-space:pre-wrap>Unmarried    </span>     </td><td><span style=white-space:pre-wrap>White             </span></td><td>Female                                                    </td><td> 7443                                                     </td><td>0                                                         </td><td>35                                                        </td><td>United-States                                             </td><td>&lt;=50K                                                  </td></tr>\n",
       "\t<tr><td>23                                                        </td><td><span style=white-space:pre-wrap>Private         </span>  </td><td>190273                                                    </td><td>Bachelors                                                 </td><td>13                                                        </td><td><span style=white-space:pre-wrap>Never-married     </span></td><td><span style=white-space:pre-wrap>Prof-specialty   </span> </td><td><span style=white-space:pre-wrap>Own-child    </span>     </td><td><span style=white-space:pre-wrap>White             </span></td><td><span style=white-space:pre-wrap>Male  </span>            </td><td><span style=white-space:pre-wrap>    0</span>             </td><td>0                                                         </td><td>40                                                        </td><td>United-States                                             </td><td>&lt;=50K                                                  </td></tr>\n",
       "\t<tr><td>51                                                        </td><td><span style=white-space:pre-wrap>Private         </span>  </td><td>101432                                                    </td><td><span style=white-space:pre-wrap>HS-grad  </span>         </td><td> 9                                                        </td><td>Married-civ-spouse                                        </td><td><span style=white-space:pre-wrap>Craft-repair     </span> </td><td><span style=white-space:pre-wrap>Husband      </span>     </td><td><span style=white-space:pre-wrap>White             </span></td><td><span style=white-space:pre-wrap>Male  </span>            </td><td><span style=white-space:pre-wrap>    0</span>             </td><td>0                                                         </td><td>40                                                        </td><td>United-States                                             </td><td>&lt;=50K                                                  </td></tr>\n",
       "\t<tr><td>53                                                        </td><td><span style=white-space:pre-wrap>Private         </span>  </td><td>158993                                                    </td><td><span style=white-space:pre-wrap>HS-grad  </span>         </td><td> 9                                                        </td><td><span style=white-space:pre-wrap>Widowed           </span></td><td>Machine-op-inspct                                         </td><td><span style=white-space:pre-wrap>Unmarried    </span>     </td><td><span style=white-space:pre-wrap>Black             </span></td><td>Female                                                    </td><td><span style=white-space:pre-wrap>    0</span>             </td><td>0                                                         </td><td>38                                                        </td><td>United-States                                             </td><td>&lt;=50K                                                  </td></tr>\n",
       "\t<tr><td>36                                                        </td><td>Self-emp-not-inc                                          </td><td>109133                                                    </td><td>Bachelors                                                 </td><td>13                                                        </td><td>Married-civ-spouse                                        </td><td><span style=white-space:pre-wrap>Sales            </span> </td><td><span style=white-space:pre-wrap>Husband      </span>     </td><td><span style=white-space:pre-wrap>White             </span></td><td><span style=white-space:pre-wrap>Male  </span>            </td><td><span style=white-space:pre-wrap>    0</span>             </td><td>0                                                         </td><td>50                                                        </td><td>United-States                                             </td><td>&gt;50K                                                   </td></tr>\n",
       "\t<tr><td>85                                                        </td><td><span style=white-space:pre-wrap>Private         </span>  </td><td> 98611                                                    </td><td>Bachelors                                                 </td><td>13                                                        </td><td>Married-civ-spouse                                        </td><td><span style=white-space:pre-wrap>Exec-managerial  </span> </td><td><span style=white-space:pre-wrap>Husband      </span>     </td><td><span style=white-space:pre-wrap>White             </span></td><td><span style=white-space:pre-wrap>Male  </span>            </td><td><span style=white-space:pre-wrap>    0</span>             </td><td>0                                                         </td><td> 3                                                        </td><td><span style=white-space:pre-wrap>Poland       </span>     </td><td>&lt;=50K                                                  </td></tr>\n",
       "\t<tr><td>62                                                        </td><td><span style=white-space:pre-wrap>Private         </span>  </td><td>128092                                                    </td><td><span style=white-space:pre-wrap>HS-grad  </span>         </td><td> 9                                                        </td><td><span style=white-space:pre-wrap>Widowed           </span></td><td><span style=white-space:pre-wrap>Adm-clerical     </span> </td><td>Not-in-family                                             </td><td><span style=white-space:pre-wrap>White             </span></td><td>Female                                                    </td><td><span style=white-space:pre-wrap>    0</span>             </td><td>0                                                         </td><td>32                                                        </td><td>United-States                                             </td><td>&lt;=50K                                                  </td></tr>\n",
       "\t<tr><td>24                                                        </td><td><span style=white-space:pre-wrap>Private         </span>  </td><td>284317                                                    </td><td>Bachelors                                                 </td><td>13                                                        </td><td><span style=white-space:pre-wrap>Never-married     </span></td><td>Machine-op-inspct                                         </td><td>Not-in-family                                             </td><td><span style=white-space:pre-wrap>White             </span></td><td>Female                                                    </td><td><span style=white-space:pre-wrap>    0</span>             </td><td>0                                                         </td><td>32                                                        </td><td>United-States                                             </td><td>&lt;=50K                                                  </td></tr>\n",
       "\t<tr><td>48                                                        </td><td><span style=white-space:pre-wrap>Self-emp-inc    </span>  </td><td>185041                                                    </td><td><span style=white-space:pre-wrap>HS-grad  </span>         </td><td> 9                                                        </td><td>Married-civ-spouse                                        </td><td><span style=white-space:pre-wrap>Craft-repair     </span> </td><td><span style=white-space:pre-wrap>Husband      </span>     </td><td><span style=white-space:pre-wrap>White             </span></td><td><span style=white-space:pre-wrap>Male  </span>            </td><td> 7298                                                     </td><td>0                                                         </td><td>50                                                        </td><td>United-States                                             </td><td>&gt;50K                                                   </td></tr>\n",
       "\t<tr><td>39                                                        </td><td>Self-emp-not-inc                                          </td><td>193689                                                    </td><td><span style=white-space:pre-wrap>HS-grad  </span>         </td><td> 9                                                        </td><td><span style=white-space:pre-wrap>Never-married     </span></td><td><span style=white-space:pre-wrap>Exec-managerial  </span> </td><td>Not-in-family                                             </td><td><span style=white-space:pre-wrap>White             </span></td><td><span style=white-space:pre-wrap>Male  </span>            </td><td><span style=white-space:pre-wrap>    0</span>             </td><td>0                                                         </td><td>65                                                        </td><td>United-States                                             </td><td>&lt;=50K                                                  </td></tr>\n",
       "\t<tr><td>42                                                        </td><td>Self-emp-not-inc                                          </td><td>217597                                                    </td><td><span style=white-space:pre-wrap>HS-grad  </span>         </td><td> 9                                                        </td><td><span style=white-space:pre-wrap>Divorced          </span></td><td><span style=white-space:pre-wrap>Sales            </span> </td><td><span style=white-space:pre-wrap>Own-child    </span>     </td><td><span style=white-space:pre-wrap>White             </span></td><td><span style=white-space:pre-wrap>Male  </span>            </td><td><span style=white-space:pre-wrap>    0</span>             </td><td>0                                                         </td><td>50                                                        </td><td><span style=white-space:pre-wrap>?            </span>     </td><td>&lt;=50K                                                  </td></tr>\n",
       "\t<tr><td>82                                                        </td><td><span style=white-space:pre-wrap>?               </span>  </td><td>403910                                                    </td><td><span style=white-space:pre-wrap>HS-grad  </span>         </td><td> 9                                                        </td><td><span style=white-space:pre-wrap>Never-married     </span></td><td><span style=white-space:pre-wrap>?                </span> </td><td>Not-in-family                                             </td><td><span style=white-space:pre-wrap>White             </span></td><td><span style=white-space:pre-wrap>Male  </span>            </td><td><span style=white-space:pre-wrap>    0</span>             </td><td>0                                                         </td><td> 3                                                        </td><td>United-States                                             </td><td>&lt;=50K                                                  </td></tr>\n",
       "\t<tr><td>57                                                        </td><td><span style=white-space:pre-wrap>Private         </span>  </td><td>153918                                                    </td><td><span style=white-space:pre-wrap>HS-grad  </span>         </td><td> 9                                                        </td><td>Married-civ-spouse                                        </td><td>Transport-moving                                          </td><td><span style=white-space:pre-wrap>Husband      </span>     </td><td><span style=white-space:pre-wrap>White             </span></td><td><span style=white-space:pre-wrap>Male  </span>            </td><td><span style=white-space:pre-wrap>    0</span>             </td><td>0                                                         </td><td>40                                                        </td><td>United-States                                             </td><td>&lt;=50K                                                  </td></tr>\n",
       "\t<tr><td>50                                                        </td><td><span style=white-space:pre-wrap>Private         </span>  </td><td>302372                                                    </td><td>Bachelors                                                 </td><td>13                                                        </td><td>Married-civ-spouse                                        </td><td><span style=white-space:pre-wrap>Prof-specialty   </span> </td><td><span style=white-space:pre-wrap>Husband      </span>     </td><td><span style=white-space:pre-wrap>White             </span></td><td><span style=white-space:pre-wrap>Male  </span>            </td><td><span style=white-space:pre-wrap>    0</span>             </td><td>0                                                         </td><td>40                                                        </td><td>United-States                                             </td><td>&lt;=50K                                                  </td></tr>\n",
       "\t<tr><td>39                                                        </td><td><span style=white-space:pre-wrap>Private         </span>  </td><td>107302                                                    </td><td><span style=white-space:pre-wrap>HS-grad  </span>         </td><td> 9                                                        </td><td>Married-civ-spouse                                        </td><td><span style=white-space:pre-wrap>Prof-specialty   </span> </td><td><span style=white-space:pre-wrap>Husband      </span>     </td><td><span style=white-space:pre-wrap>White             </span></td><td><span style=white-space:pre-wrap>Male  </span>            </td><td><span style=white-space:pre-wrap>    0</span>             </td><td>0                                                         </td><td>45                                                        </td><td><span style=white-space:pre-wrap>?            </span>     </td><td>&gt;50K                                                   </td></tr>\n",
       "\t<tr><td>25                                                        </td><td><span style=white-space:pre-wrap>Local-gov       </span>  </td><td>514716                                                    </td><td>Bachelors                                                 </td><td>13                                                        </td><td><span style=white-space:pre-wrap>Never-married     </span></td><td><span style=white-space:pre-wrap>Adm-clerical     </span> </td><td><span style=white-space:pre-wrap>Own-child    </span>     </td><td><span style=white-space:pre-wrap>Black             </span></td><td>Female                                                    </td><td><span style=white-space:pre-wrap>    0</span>             </td><td>0                                                         </td><td>40                                                        </td><td>United-States                                             </td><td>&lt;=50K                                                  </td></tr>\n",
       "\t<tr><td>20                                                        </td><td><span style=white-space:pre-wrap>Private         </span>  </td><td>270436                                                    </td><td><span style=white-space:pre-wrap>HS-grad  </span>         </td><td> 9                                                        </td><td><span style=white-space:pre-wrap>Never-married     </span></td><td>Machine-op-inspct                                         </td><td><span style=white-space:pre-wrap>Own-child    </span>     </td><td><span style=white-space:pre-wrap>White             </span></td><td><span style=white-space:pre-wrap>Male  </span>            </td><td><span style=white-space:pre-wrap>    0</span>             </td><td>0                                                         </td><td>40                                                        </td><td>United-States                                             </td><td>&lt;=50K                                                  </td></tr>\n",
       "\t<tr><td>57                                                        </td><td><span style=white-space:pre-wrap>Local-gov       </span>  </td><td>110417                                                    </td><td><span style=white-space:pre-wrap>HS-grad  </span>         </td><td> 9                                                        </td><td>Married-civ-spouse                                        </td><td><span style=white-space:pre-wrap>Craft-repair     </span> </td><td><span style=white-space:pre-wrap>Husband      </span>     </td><td><span style=white-space:pre-wrap>White             </span></td><td><span style=white-space:pre-wrap>Male  </span>            </td><td>99999                                                     </td><td>0                                                         </td><td>40                                                        </td><td>United-States                                             </td><td>&gt;50K                                                   </td></tr>\n",
       "\t<tr><td>27                                                        </td><td><span style=white-space:pre-wrap>Private         </span>  </td><td>177398                                                    </td><td><span style=white-space:pre-wrap>HS-grad  </span>         </td><td> 9                                                        </td><td><span style=white-space:pre-wrap>Never-married     </span></td><td><span style=white-space:pre-wrap>Other-service    </span> </td><td><span style=white-space:pre-wrap>Unmarried    </span>     </td><td><span style=white-space:pre-wrap>White             </span></td><td>Female                                                    </td><td><span style=white-space:pre-wrap>    0</span>             </td><td>0                                                         </td><td>64                                                        </td><td>United-States                                             </td><td>&lt;=50K                                                  </td></tr>\n",
       "\t<tr><td>31                                                        </td><td><span style=white-space:pre-wrap>Private         </span>  </td><td>292592                                                    </td><td><span style=white-space:pre-wrap>HS-grad  </span>         </td><td> 9                                                        </td><td>Married-civ-spouse                                        </td><td>Machine-op-inspct                                         </td><td><span style=white-space:pre-wrap>Wife         </span>     </td><td><span style=white-space:pre-wrap>White             </span></td><td>Female                                                    </td><td><span style=white-space:pre-wrap>    0</span>             </td><td>0                                                         </td><td>40                                                        </td><td>United-States                                             </td><td>&lt;=50K                                                  </td></tr>\n",
       "\t<tr><td>30                                                        </td><td><span style=white-space:pre-wrap>?               </span>  </td><td> 33811                                                    </td><td>Bachelors                                                 </td><td>13                                                        </td><td><span style=white-space:pre-wrap>Never-married     </span></td><td><span style=white-space:pre-wrap>?                </span> </td><td>Not-in-family                                             </td><td>Asian-Pac-Islander                                        </td><td>Female                                                    </td><td><span style=white-space:pre-wrap>    0</span>             </td><td>0                                                         </td><td>99                                                        </td><td>United-States                                             </td><td>&lt;=50K                                                  </td></tr>\n",
       "\t<tr><td>54                                                       </td><td><span style=white-space:pre-wrap>Private         </span> </td><td>337992                                                   </td><td>Bachelors                                                </td><td>13                                                       </td><td>Married-civ-spouse                                       </td><td><span style=white-space:pre-wrap>Exec-managerial  </span></td><td><span style=white-space:pre-wrap>Husband      </span>    </td><td>Asian-Pac-Islander                                       </td><td><span style=white-space:pre-wrap>Male  </span>           </td><td><span style=white-space:pre-wrap>    0</span>            </td><td>0                                                        </td><td>50                                                       </td><td><span style=white-space:pre-wrap>Japan        </span>    </td><td>&gt;50K                                                  </td></tr>\n",
       "\t<tr><td>45                                                        </td><td><span style=white-space:pre-wrap>State-gov       </span>  </td><td>252208                                                    </td><td><span style=white-space:pre-wrap>HS-grad  </span>         </td><td> 9                                                        </td><td><span style=white-space:pre-wrap>Separated         </span></td><td><span style=white-space:pre-wrap>Adm-clerical     </span> </td><td><span style=white-space:pre-wrap>Own-child    </span>     </td><td><span style=white-space:pre-wrap>White             </span></td><td>Female                                                    </td><td><span style=white-space:pre-wrap>    0</span>             </td><td>0                                                         </td><td>40                                                        </td><td>United-States                                             </td><td>&lt;=50K                                                  </td></tr>\n",
       "\t<tr><td>72                                                        </td><td><span style=white-space:pre-wrap>?               </span>  </td><td>129912                                                    </td><td><span style=white-space:pre-wrap>HS-grad  </span>         </td><td> 9                                                        </td><td>Married-civ-spouse                                        </td><td><span style=white-space:pre-wrap>?                </span> </td><td><span style=white-space:pre-wrap>Husband      </span>     </td><td><span style=white-space:pre-wrap>White             </span></td><td><span style=white-space:pre-wrap>Male  </span>            </td><td><span style=white-space:pre-wrap>    0</span>             </td><td>0                                                         </td><td>25                                                        </td><td>United-States                                             </td><td>&lt;=50K                                                  </td></tr>\n",
       "\t<tr><td>58                                                        </td><td><span style=white-space:pre-wrap>Private         </span>  </td><td>151910                                                    </td><td><span style=white-space:pre-wrap>HS-grad  </span>         </td><td> 9                                                        </td><td><span style=white-space:pre-wrap>Widowed           </span></td><td><span style=white-space:pre-wrap>Adm-clerical     </span> </td><td><span style=white-space:pre-wrap>Unmarried    </span>     </td><td><span style=white-space:pre-wrap>White             </span></td><td>Female                                                    </td><td><span style=white-space:pre-wrap>    0</span>             </td><td>0                                                         </td><td>40                                                        </td><td>United-States                                             </td><td>&lt;=50K                                                  </td></tr>\n",
       "\t<tr><td>52                                                        </td><td><span style=white-space:pre-wrap>Self-emp-inc    </span>  </td><td>287927                                                    </td><td><span style=white-space:pre-wrap>HS-grad  </span>         </td><td> 9                                                        </td><td>Married-civ-spouse                                        </td><td><span style=white-space:pre-wrap>Exec-managerial  </span> </td><td><span style=white-space:pre-wrap>Wife         </span>     </td><td><span style=white-space:pre-wrap>White             </span></td><td>Female                                                    </td><td>15024                                                     </td><td>0                                                         </td><td>40                                                        </td><td>United-States                                             </td><td>&gt;50K                                                   </td></tr>\n",
       "</tbody>\n",
       "</table>\n"
      ],
      "text/latex": [
       "\\begin{tabular}{r|lllllllllllllll}\n",
       " Age & workclass & fnlwgt & education & education-num & marital-status & occupation & relationship & race & sex & capital-gain & capital-loss & hours-per-week & native-country & eaning\\\\\n",
       "\\hline\n",
       "\t 50                 & Self-emp-not-inc   &  83311             & Bachelors          & 13                 & Married-civ-spouse & Exec-managerial    & Husband            & White              & Male               &     0              &    0               & 13                 & United-States      & <=50K             \\\\\n",
       "\t 38                 & Private            & 215646             & HS-grad            &  9                 & Divorced           & Handlers-cleaners  & Not-in-family      & White              & Male               &     0              &    0               & 40                 & United-States      & <=50K             \\\\\n",
       "\t 42                 & Private            & 159449             & Bachelors          & 13                 & Married-civ-spouse & Exec-managerial    & Husband            & White              & Male               &  5178              &    0               & 40                 & United-States      & >50K              \\\\\n",
       "\t 30                 & State-gov          & 141297             & Bachelors          & 13                 & Married-civ-spouse & Prof-specialty     & Husband            & Asian-Pac-Islander & Male               &     0              &    0               & 40                 & India              & >50K              \\\\\n",
       "\t 25                 & Self-emp-not-inc   & 176756             & HS-grad            &  9                 & Never-married      & Farming-fishing    & Own-child          & White              & Male               &     0              &    0               & 35                 & United-States      & <=50K             \\\\\n",
       "\t 59                 & Private            & 109015             & HS-grad            &  9                 & Divorced           & Tech-support       & Unmarried          & White              & Female             &     0              &    0               & 40                 & United-States      & <=50K             \\\\\n",
       "\t 56                 & Local-gov          & 216851             & Bachelors          & 13                 & Married-civ-spouse & Tech-support       & Husband            & White              & Male               &     0              &    0               & 40                 & United-States      & >50K              \\\\\n",
       "\t 19                 & Private            & 168294             & HS-grad            &  9                 & Never-married      & Craft-repair       & Own-child          & White              & Male               &     0              &    0               & 40                 & United-States      & <=50K             \\\\\n",
       "\t 39                 & Private            & 367260             & HS-grad            &  9                 & Divorced           & Exec-managerial    & Not-in-family      & White              & Male               &     0              &    0               & 80                 & United-States      & <=50K             \\\\\n",
       "\t 53                 & Self-emp-not-inc   &  88506             & Bachelors          & 13                 & Married-civ-spouse & Prof-specialty     & Husband            & White              & Male               &     0              &    0               & 40                 & United-States      & <=50K             \\\\\n",
       "\t 25                 & Private            & 289980             & HS-grad            &  9                 & Never-married      & Handlers-cleaners  & Not-in-family      & White              & Male               &     0              &    0               & 35                 & United-States      & <=50K             \\\\\n",
       "\t 57                 & Federal-gov        & 337895             & Bachelors          & 13                 & Married-civ-spouse & Prof-specialty     & Husband            & Black              & Male               &     0              &    0               & 40                 & United-States      & >50K              \\\\\n",
       "\t 53                 & Private            & 144361             & HS-grad            &  9                 & Married-civ-spouse & Machine-op-inspct  & Husband            & White              & Male               &     0              &    0               & 38                 & United-States      & <=50K             \\\\\n",
       "\t 50                 & Federal-gov        & 251585             & Bachelors          & 13                 & Divorced           & Exec-managerial    & Not-in-family      & White              & Male               &     0              &    0               & 55                 & United-States      & >50K              \\\\\n",
       "\t 47                 & Self-emp-inc       & 109832             & HS-grad            &  9                 & Divorced           & Exec-managerial    & Not-in-family      & White              & Male               &     0              &    0               & 60                 & United-States      & <=50K             \\\\\n",
       "\t 41                 & Private            & 147372             & HS-grad            &  9                 & Married-civ-spouse & Adm-clerical       & Husband            & White              & Male               &     0              &    0               & 48                 & United-States      & <=50K             \\\\\n",
       "\t 48                 & Private            & 149640             & HS-grad            &  9                 & Married-civ-spouse & Transport-moving   & Husband            & White              & Male               &     0              &    0               & 40                 & United-States      & <=50K             \\\\\n",
       "\t 31                 & Private            & 309974             & Bachelors          & 13                 & Separated          & Sales              & Own-child          & Black              & Female             &     0              &    0               & 40                 & United-States      & <=50K             \\\\\n",
       "\t 18                 & Private            & 446839             & HS-grad            &  9                 & Never-married      & Sales              & Not-in-family      & White              & Male               &     0              &    0               & 30                 & United-States      & <=50K             \\\\\n",
       "\t 52                 & Private            & 276515             & Bachelors          & 13                 & Married-civ-spouse & Other-service      & Husband            & White              & Male               &     0              &    0               & 40                 & Cuba               & <=50K             \\\\\n",
       "\t 46                 & Private            &  51618             & HS-grad            &  9                 & Married-civ-spouse & Other-service      & Wife               & White              & Female             &     0              &    0               & 40                 & United-States      & <=50K             \\\\\n",
       "\t 44                 & Private            & 343591             & HS-grad            &  9                 & Divorced           & Craft-repair       & Not-in-family      & White              & Female             & 14344              &    0               & 40                 & United-States      & >50K              \\\\\n",
       "\t 49                 & Local-gov          & 268234             & HS-grad            &  9                 & Married-civ-spouse & Protective-serv    & Husband            & White              & Male               &     0              &    0               & 40                 & United-States      & >50K              \\\\\n",
       "\t 44                 & Private            & 198282             & Bachelors          & 13                 & Married-civ-spouse & Exec-managerial    & Husband            & White              & Male               & 15024              &    0               & 60                 & United-States      & >50K              \\\\\n",
       "\t 29                 & Private            & 103432             & HS-grad            &  9                 & Never-married      & Craft-repair       & Not-in-family      & White              & Male               &     0              &    0               & 40                 & United-States      & <=50K             \\\\\n",
       "\t 31                 & Local-gov          & 189265             & HS-grad            &  9                 & Never-married      & Adm-clerical       & Not-in-family      & White              & Female             &     0              &    0               & 40                 & United-States      & <=50K             \\\\\n",
       "\t 56                 & Self-emp-not-inc   & 335605             & HS-grad            &  9                 & Married-civ-spouse & Other-service      & Husband            & White              & Male               &     0              & 1887               & 50                 & Canada             & >50K              \\\\\n",
       "\t 36                 & Private            & 102864             & HS-grad            &  9                 & Never-married      & Machine-op-inspct  & Own-child          & White              & Female             &     0              &    0               & 40                 & United-States      & <=50K             \\\\\n",
       "\t 40                 & Private            & 118853             & Bachelors          & 13                 & Married-civ-spouse & Exec-managerial    & Husband            & White              & Male               &     0              &    0               & 60                 & United-States      & <=50K             \\\\\n",
       "\t 29                 & State-gov          & 267989             & Bachelors          & 13                 & Married-civ-spouse & Prof-specialty     & Husband            & White              & Male               &     0              &    0               & 50                 & United-States      & >50K              \\\\\n",
       "\t ... & ... & ... & ... & ... & ... & ... & ... & ... & ... & ... & ... & ... & ... & ...\\\\\n",
       "\t 36                 & Private            &  66304             & Bachelors          & 13                 & Married-civ-spouse & Exec-managerial    & Husband            & White              & Male               &     0              & 0                  & 55                 & United-States      & >50K              \\\\\n",
       "\t 47                 & Private            & 161950             & HS-grad            &  9                 & Divorced           & Other-service      & Unmarried          & White              & Female             &     0              & 0                  & 32                 & United-States      & <=50K             \\\\\n",
       "\t 20                 & ?                  & 203992             & HS-grad            &  9                 & Never-married      & ?                  & Own-child          & White              & Male               &     0              & 0                  & 40                 & United-States      & <=50K             \\\\\n",
       "\t 41                 & Self-emp-not-inc   & 168098             & Bachelors          & 13                 & Married-civ-spouse & Prof-specialty     & Husband            & White              & Male               &     0              & 0                  & 50                 & United-States      & <=50K             \\\\\n",
       "\t 34                 & Private            & 213307             & HS-grad            &  9                 & Never-married      & Handlers-cleaners  & Unmarried          & White              & Female             &  7443              & 0                  & 35                 & United-States      & <=50K             \\\\\n",
       "\t 23                 & Private            & 190273             & Bachelors          & 13                 & Never-married      & Prof-specialty     & Own-child          & White              & Male               &     0              & 0                  & 40                 & United-States      & <=50K             \\\\\n",
       "\t 51                 & Private            & 101432             & HS-grad            &  9                 & Married-civ-spouse & Craft-repair       & Husband            & White              & Male               &     0              & 0                  & 40                 & United-States      & <=50K             \\\\\n",
       "\t 53                 & Private            & 158993             & HS-grad            &  9                 & Widowed            & Machine-op-inspct  & Unmarried          & Black              & Female             &     0              & 0                  & 38                 & United-States      & <=50K             \\\\\n",
       "\t 36                 & Self-emp-not-inc   & 109133             & Bachelors          & 13                 & Married-civ-spouse & Sales              & Husband            & White              & Male               &     0              & 0                  & 50                 & United-States      & >50K              \\\\\n",
       "\t 85                 & Private            &  98611             & Bachelors          & 13                 & Married-civ-spouse & Exec-managerial    & Husband            & White              & Male               &     0              & 0                  &  3                 & Poland             & <=50K             \\\\\n",
       "\t 62                 & Private            & 128092             & HS-grad            &  9                 & Widowed            & Adm-clerical       & Not-in-family      & White              & Female             &     0              & 0                  & 32                 & United-States      & <=50K             \\\\\n",
       "\t 24                 & Private            & 284317             & Bachelors          & 13                 & Never-married      & Machine-op-inspct  & Not-in-family      & White              & Female             &     0              & 0                  & 32                 & United-States      & <=50K             \\\\\n",
       "\t 48                 & Self-emp-inc       & 185041             & HS-grad            &  9                 & Married-civ-spouse & Craft-repair       & Husband            & White              & Male               &  7298              & 0                  & 50                 & United-States      & >50K              \\\\\n",
       "\t 39                 & Self-emp-not-inc   & 193689             & HS-grad            &  9                 & Never-married      & Exec-managerial    & Not-in-family      & White              & Male               &     0              & 0                  & 65                 & United-States      & <=50K             \\\\\n",
       "\t 42                 & Self-emp-not-inc   & 217597             & HS-grad            &  9                 & Divorced           & Sales              & Own-child          & White              & Male               &     0              & 0                  & 50                 & ?                  & <=50K             \\\\\n",
       "\t 82                 & ?                  & 403910             & HS-grad            &  9                 & Never-married      & ?                  & Not-in-family      & White              & Male               &     0              & 0                  &  3                 & United-States      & <=50K             \\\\\n",
       "\t 57                 & Private            & 153918             & HS-grad            &  9                 & Married-civ-spouse & Transport-moving   & Husband            & White              & Male               &     0              & 0                  & 40                 & United-States      & <=50K             \\\\\n",
       "\t 50                 & Private            & 302372             & Bachelors          & 13                 & Married-civ-spouse & Prof-specialty     & Husband            & White              & Male               &     0              & 0                  & 40                 & United-States      & <=50K             \\\\\n",
       "\t 39                 & Private            & 107302             & HS-grad            &  9                 & Married-civ-spouse & Prof-specialty     & Husband            & White              & Male               &     0              & 0                  & 45                 & ?                  & >50K              \\\\\n",
       "\t 25                 & Local-gov          & 514716             & Bachelors          & 13                 & Never-married      & Adm-clerical       & Own-child          & Black              & Female             &     0              & 0                  & 40                 & United-States      & <=50K             \\\\\n",
       "\t 20                 & Private            & 270436             & HS-grad            &  9                 & Never-married      & Machine-op-inspct  & Own-child          & White              & Male               &     0              & 0                  & 40                 & United-States      & <=50K             \\\\\n",
       "\t 57                 & Local-gov          & 110417             & HS-grad            &  9                 & Married-civ-spouse & Craft-repair       & Husband            & White              & Male               & 99999              & 0                  & 40                 & United-States      & >50K              \\\\\n",
       "\t 27                 & Private            & 177398             & HS-grad            &  9                 & Never-married      & Other-service      & Unmarried          & White              & Female             &     0              & 0                  & 64                 & United-States      & <=50K             \\\\\n",
       "\t 31                 & Private            & 292592             & HS-grad            &  9                 & Married-civ-spouse & Machine-op-inspct  & Wife               & White              & Female             &     0              & 0                  & 40                 & United-States      & <=50K             \\\\\n",
       "\t 30                 & ?                  &  33811             & Bachelors          & 13                 & Never-married      & ?                  & Not-in-family      & Asian-Pac-Islander & Female             &     0              & 0                  & 99                 & United-States      & <=50K             \\\\\n",
       "\t 54                 & Private            & 337992             & Bachelors          & 13                 & Married-civ-spouse & Exec-managerial    & Husband            & Asian-Pac-Islander & Male               &     0              & 0                  & 50                 & Japan              & >50K              \\\\\n",
       "\t 45                 & State-gov          & 252208             & HS-grad            &  9                 & Separated          & Adm-clerical       & Own-child          & White              & Female             &     0              & 0                  & 40                 & United-States      & <=50K             \\\\\n",
       "\t 72                 & ?                  & 129912             & HS-grad            &  9                 & Married-civ-spouse & ?                  & Husband            & White              & Male               &     0              & 0                  & 25                 & United-States      & <=50K             \\\\\n",
       "\t 58                 & Private            & 151910             & HS-grad            &  9                 & Widowed            & Adm-clerical       & Unmarried          & White              & Female             &     0              & 0                  & 40                 & United-States      & <=50K             \\\\\n",
       "\t 52                 & Self-emp-inc       & 287927             & HS-grad            &  9                 & Married-civ-spouse & Exec-managerial    & Wife               & White              & Female             & 15024              & 0                  & 40                 & United-States      & >50K              \\\\\n",
       "\\end{tabular}\n"
      ],
      "text/markdown": [
       "\n",
       "Age | workclass | fnlwgt | education | education-num | marital-status | occupation | relationship | race | sex | capital-gain | capital-loss | hours-per-week | native-country | eaning | \n",
       "|---|---|---|---|---|---|---|---|---|---|---|---|---|---|---|---|---|---|---|---|---|---|---|---|---|---|---|---|---|---|---|---|---|---|---|---|---|---|---|---|---|---|---|---|---|---|---|---|---|---|---|---|---|---|---|---|---|---|---|---|---|\n",
       "| 50                 | Self-emp-not-inc   |  83311             | Bachelors          | 13                 | Married-civ-spouse | Exec-managerial    | Husband            | White              | Male               |     0              |    0               | 13                 | United-States      | <=50K              | \n",
       "| 38                 | Private            | 215646             | HS-grad            |  9                 | Divorced           | Handlers-cleaners  | Not-in-family      | White              | Male               |     0              |    0               | 40                 | United-States      | <=50K              | \n",
       "| 42                 | Private            | 159449             | Bachelors          | 13                 | Married-civ-spouse | Exec-managerial    | Husband            | White              | Male               |  5178              |    0               | 40                 | United-States      | >50K               | \n",
       "| 30                 | State-gov          | 141297             | Bachelors          | 13                 | Married-civ-spouse | Prof-specialty     | Husband            | Asian-Pac-Islander | Male               |     0              |    0               | 40                 | India              | >50K               | \n",
       "| 25                 | Self-emp-not-inc   | 176756             | HS-grad            |  9                 | Never-married      | Farming-fishing    | Own-child          | White              | Male               |     0              |    0               | 35                 | United-States      | <=50K              | \n",
       "| 59                 | Private            | 109015             | HS-grad            |  9                 | Divorced           | Tech-support       | Unmarried          | White              | Female             |     0              |    0               | 40                 | United-States      | <=50K              | \n",
       "| 56                 | Local-gov          | 216851             | Bachelors          | 13                 | Married-civ-spouse | Tech-support       | Husband            | White              | Male               |     0              |    0               | 40                 | United-States      | >50K               | \n",
       "| 19                 | Private            | 168294             | HS-grad            |  9                 | Never-married      | Craft-repair       | Own-child          | White              | Male               |     0              |    0               | 40                 | United-States      | <=50K              | \n",
       "| 39                 | Private            | 367260             | HS-grad            |  9                 | Divorced           | Exec-managerial    | Not-in-family      | White              | Male               |     0              |    0               | 80                 | United-States      | <=50K              | \n",
       "| 53                 | Self-emp-not-inc   |  88506             | Bachelors          | 13                 | Married-civ-spouse | Prof-specialty     | Husband            | White              | Male               |     0              |    0               | 40                 | United-States      | <=50K              | \n",
       "| 25                 | Private            | 289980             | HS-grad            |  9                 | Never-married      | Handlers-cleaners  | Not-in-family      | White              | Male               |     0              |    0               | 35                 | United-States      | <=50K              | \n",
       "| 57                 | Federal-gov        | 337895             | Bachelors          | 13                 | Married-civ-spouse | Prof-specialty     | Husband            | Black              | Male               |     0              |    0               | 40                 | United-States      | >50K               | \n",
       "| 53                 | Private            | 144361             | HS-grad            |  9                 | Married-civ-spouse | Machine-op-inspct  | Husband            | White              | Male               |     0              |    0               | 38                 | United-States      | <=50K              | \n",
       "| 50                 | Federal-gov        | 251585             | Bachelors          | 13                 | Divorced           | Exec-managerial    | Not-in-family      | White              | Male               |     0              |    0               | 55                 | United-States      | >50K               | \n",
       "| 47                 | Self-emp-inc       | 109832             | HS-grad            |  9                 | Divorced           | Exec-managerial    | Not-in-family      | White              | Male               |     0              |    0               | 60                 | United-States      | <=50K              | \n",
       "| 41                 | Private            | 147372             | HS-grad            |  9                 | Married-civ-spouse | Adm-clerical       | Husband            | White              | Male               |     0              |    0               | 48                 | United-States      | <=50K              | \n",
       "| 48                 | Private            | 149640             | HS-grad            |  9                 | Married-civ-spouse | Transport-moving   | Husband            | White              | Male               |     0              |    0               | 40                 | United-States      | <=50K              | \n",
       "| 31                 | Private            | 309974             | Bachelors          | 13                 | Separated          | Sales              | Own-child          | Black              | Female             |     0              |    0               | 40                 | United-States      | <=50K              | \n",
       "| 18                 | Private            | 446839             | HS-grad            |  9                 | Never-married      | Sales              | Not-in-family      | White              | Male               |     0              |    0               | 30                 | United-States      | <=50K              | \n",
       "| 52                 | Private            | 276515             | Bachelors          | 13                 | Married-civ-spouse | Other-service      | Husband            | White              | Male               |     0              |    0               | 40                 | Cuba               | <=50K              | \n",
       "| 46                 | Private            |  51618             | HS-grad            |  9                 | Married-civ-spouse | Other-service      | Wife               | White              | Female             |     0              |    0               | 40                 | United-States      | <=50K              | \n",
       "| 44                 | Private            | 343591             | HS-grad            |  9                 | Divorced           | Craft-repair       | Not-in-family      | White              | Female             | 14344              |    0               | 40                 | United-States      | >50K               | \n",
       "| 49                 | Local-gov          | 268234             | HS-grad            |  9                 | Married-civ-spouse | Protective-serv    | Husband            | White              | Male               |     0              |    0               | 40                 | United-States      | >50K               | \n",
       "| 44                 | Private            | 198282             | Bachelors          | 13                 | Married-civ-spouse | Exec-managerial    | Husband            | White              | Male               | 15024              |    0               | 60                 | United-States      | >50K               | \n",
       "| 29                 | Private            | 103432             | HS-grad            |  9                 | Never-married      | Craft-repair       | Not-in-family      | White              | Male               |     0              |    0               | 40                 | United-States      | <=50K              | \n",
       "| 31                 | Local-gov          | 189265             | HS-grad            |  9                 | Never-married      | Adm-clerical       | Not-in-family      | White              | Female             |     0              |    0               | 40                 | United-States      | <=50K              | \n",
       "| 56                 | Self-emp-not-inc   | 335605             | HS-grad            |  9                 | Married-civ-spouse | Other-service      | Husband            | White              | Male               |     0              | 1887               | 50                 | Canada             | >50K               | \n",
       "| 36                 | Private            | 102864             | HS-grad            |  9                 | Never-married      | Machine-op-inspct  | Own-child          | White              | Female             |     0              |    0               | 40                 | United-States      | <=50K              | \n",
       "| 40                 | Private            | 118853             | Bachelors          | 13                 | Married-civ-spouse | Exec-managerial    | Husband            | White              | Male               |     0              |    0               | 60                 | United-States      | <=50K              | \n",
       "| 29                 | State-gov          | 267989             | Bachelors          | 13                 | Married-civ-spouse | Prof-specialty     | Husband            | White              | Male               |     0              |    0               | 50                 | United-States      | >50K               | \n",
       "| ... | ... | ... | ... | ... | ... | ... | ... | ... | ... | ... | ... | ... | ... | ... | \n",
       "| 36                 | Private            |  66304             | Bachelors          | 13                 | Married-civ-spouse | Exec-managerial    | Husband            | White              | Male               |     0              | 0                  | 55                 | United-States      | >50K               | \n",
       "| 47                 | Private            | 161950             | HS-grad            |  9                 | Divorced           | Other-service      | Unmarried          | White              | Female             |     0              | 0                  | 32                 | United-States      | <=50K              | \n",
       "| 20                 | ?                  | 203992             | HS-grad            |  9                 | Never-married      | ?                  | Own-child          | White              | Male               |     0              | 0                  | 40                 | United-States      | <=50K              | \n",
       "| 41                 | Self-emp-not-inc   | 168098             | Bachelors          | 13                 | Married-civ-spouse | Prof-specialty     | Husband            | White              | Male               |     0              | 0                  | 50                 | United-States      | <=50K              | \n",
       "| 34                 | Private            | 213307             | HS-grad            |  9                 | Never-married      | Handlers-cleaners  | Unmarried          | White              | Female             |  7443              | 0                  | 35                 | United-States      | <=50K              | \n",
       "| 23                 | Private            | 190273             | Bachelors          | 13                 | Never-married      | Prof-specialty     | Own-child          | White              | Male               |     0              | 0                  | 40                 | United-States      | <=50K              | \n",
       "| 51                 | Private            | 101432             | HS-grad            |  9                 | Married-civ-spouse | Craft-repair       | Husband            | White              | Male               |     0              | 0                  | 40                 | United-States      | <=50K              | \n",
       "| 53                 | Private            | 158993             | HS-grad            |  9                 | Widowed            | Machine-op-inspct  | Unmarried          | Black              | Female             |     0              | 0                  | 38                 | United-States      | <=50K              | \n",
       "| 36                 | Self-emp-not-inc   | 109133             | Bachelors          | 13                 | Married-civ-spouse | Sales              | Husband            | White              | Male               |     0              | 0                  | 50                 | United-States      | >50K               | \n",
       "| 85                 | Private            |  98611             | Bachelors          | 13                 | Married-civ-spouse | Exec-managerial    | Husband            | White              | Male               |     0              | 0                  |  3                 | Poland             | <=50K              | \n",
       "| 62                 | Private            | 128092             | HS-grad            |  9                 | Widowed            | Adm-clerical       | Not-in-family      | White              | Female             |     0              | 0                  | 32                 | United-States      | <=50K              | \n",
       "| 24                 | Private            | 284317             | Bachelors          | 13                 | Never-married      | Machine-op-inspct  | Not-in-family      | White              | Female             |     0              | 0                  | 32                 | United-States      | <=50K              | \n",
       "| 48                 | Self-emp-inc       | 185041             | HS-grad            |  9                 | Married-civ-spouse | Craft-repair       | Husband            | White              | Male               |  7298              | 0                  | 50                 | United-States      | >50K               | \n",
       "| 39                 | Self-emp-not-inc   | 193689             | HS-grad            |  9                 | Never-married      | Exec-managerial    | Not-in-family      | White              | Male               |     0              | 0                  | 65                 | United-States      | <=50K              | \n",
       "| 42                 | Self-emp-not-inc   | 217597             | HS-grad            |  9                 | Divorced           | Sales              | Own-child          | White              | Male               |     0              | 0                  | 50                 | ?                  | <=50K              | \n",
       "| 82                 | ?                  | 403910             | HS-grad            |  9                 | Never-married      | ?                  | Not-in-family      | White              | Male               |     0              | 0                  |  3                 | United-States      | <=50K              | \n",
       "| 57                 | Private            | 153918             | HS-grad            |  9                 | Married-civ-spouse | Transport-moving   | Husband            | White              | Male               |     0              | 0                  | 40                 | United-States      | <=50K              | \n",
       "| 50                 | Private            | 302372             | Bachelors          | 13                 | Married-civ-spouse | Prof-specialty     | Husband            | White              | Male               |     0              | 0                  | 40                 | United-States      | <=50K              | \n",
       "| 39                 | Private            | 107302             | HS-grad            |  9                 | Married-civ-spouse | Prof-specialty     | Husband            | White              | Male               |     0              | 0                  | 45                 | ?                  | >50K               | \n",
       "| 25                 | Local-gov          | 514716             | Bachelors          | 13                 | Never-married      | Adm-clerical       | Own-child          | Black              | Female             |     0              | 0                  | 40                 | United-States      | <=50K              | \n",
       "| 20                 | Private            | 270436             | HS-grad            |  9                 | Never-married      | Machine-op-inspct  | Own-child          | White              | Male               |     0              | 0                  | 40                 | United-States      | <=50K              | \n",
       "| 57                 | Local-gov          | 110417             | HS-grad            |  9                 | Married-civ-spouse | Craft-repair       | Husband            | White              | Male               | 99999              | 0                  | 40                 | United-States      | >50K               | \n",
       "| 27                 | Private            | 177398             | HS-grad            |  9                 | Never-married      | Other-service      | Unmarried          | White              | Female             |     0              | 0                  | 64                 | United-States      | <=50K              | \n",
       "| 31                 | Private            | 292592             | HS-grad            |  9                 | Married-civ-spouse | Machine-op-inspct  | Wife               | White              | Female             |     0              | 0                  | 40                 | United-States      | <=50K              | \n",
       "| 30                 | ?                  |  33811             | Bachelors          | 13                 | Never-married      | ?                  | Not-in-family      | Asian-Pac-Islander | Female             |     0              | 0                  | 99                 | United-States      | <=50K              | \n",
       "| 54                 | Private            | 337992             | Bachelors          | 13                 | Married-civ-spouse | Exec-managerial    | Husband            | Asian-Pac-Islander | Male               |     0              | 0                  | 50                 | Japan              | >50K               | \n",
       "| 45                 | State-gov          | 252208             | HS-grad            |  9                 | Separated          | Adm-clerical       | Own-child          | White              | Female             |     0              | 0                  | 40                 | United-States      | <=50K              | \n",
       "| 72                 | ?                  | 129912             | HS-grad            |  9                 | Married-civ-spouse | ?                  | Husband            | White              | Male               |     0              | 0                  | 25                 | United-States      | <=50K              | \n",
       "| 58                 | Private            | 151910             | HS-grad            |  9                 | Widowed            | Adm-clerical       | Unmarried          | White              | Female             |     0              | 0                  | 40                 | United-States      | <=50K              | \n",
       "| 52                 | Self-emp-inc       | 287927             | HS-grad            |  9                 | Married-civ-spouse | Exec-managerial    | Wife               | White              | Female             | 15024              | 0                  | 40                 | United-States      | >50K               | \n",
       "\n",
       "\n"
      ],
      "text/plain": [
       "     Age workclass        fnlwgt education education-num marital-status    \n",
       "1    50  Self-emp-not-inc  83311 Bachelors 13            Married-civ-spouse\n",
       "2    38  Private          215646 HS-grad    9            Divorced          \n",
       "3    42  Private          159449 Bachelors 13            Married-civ-spouse\n",
       "4    30  State-gov        141297 Bachelors 13            Married-civ-spouse\n",
       "5    25  Self-emp-not-inc 176756 HS-grad    9            Never-married     \n",
       "6    59  Private          109015 HS-grad    9            Divorced          \n",
       "7    56  Local-gov        216851 Bachelors 13            Married-civ-spouse\n",
       "8    19  Private          168294 HS-grad    9            Never-married     \n",
       "9    39  Private          367260 HS-grad    9            Divorced          \n",
       "10   53  Self-emp-not-inc  88506 Bachelors 13            Married-civ-spouse\n",
       "11   25  Private          289980 HS-grad    9            Never-married     \n",
       "12   57  Federal-gov      337895 Bachelors 13            Married-civ-spouse\n",
       "13   53  Private          144361 HS-grad    9            Married-civ-spouse\n",
       "14   50  Federal-gov      251585 Bachelors 13            Divorced          \n",
       "15   47  Self-emp-inc     109832 HS-grad    9            Divorced          \n",
       "16   41  Private          147372 HS-grad    9            Married-civ-spouse\n",
       "17   48  Private          149640 HS-grad    9            Married-civ-spouse\n",
       "18   31  Private          309974 Bachelors 13            Separated         \n",
       "19   18  Private          446839 HS-grad    9            Never-married     \n",
       "20   52  Private          276515 Bachelors 13            Married-civ-spouse\n",
       "21   46  Private           51618 HS-grad    9            Married-civ-spouse\n",
       "22   44  Private          343591 HS-grad    9            Divorced          \n",
       "23   49  Local-gov        268234 HS-grad    9            Married-civ-spouse\n",
       "24   44  Private          198282 Bachelors 13            Married-civ-spouse\n",
       "25   29  Private          103432 HS-grad    9            Never-married     \n",
       "26   31  Local-gov        189265 HS-grad    9            Never-married     \n",
       "27   56  Self-emp-not-inc 335605 HS-grad    9            Married-civ-spouse\n",
       "28   36  Private          102864 HS-grad    9            Never-married     \n",
       "29   40  Private          118853 Bachelors 13            Married-civ-spouse\n",
       "30   29  State-gov        267989 Bachelors 13            Married-civ-spouse\n",
       "...  ... ...              ...    ...       ...           ...               \n",
       "7857 36  Private           66304 Bachelors 13            Married-civ-spouse\n",
       "7858 47  Private          161950 HS-grad    9            Divorced          \n",
       "7859 20  ?                203992 HS-grad    9            Never-married     \n",
       "7860 41  Self-emp-not-inc 168098 Bachelors 13            Married-civ-spouse\n",
       "7861 34  Private          213307 HS-grad    9            Never-married     \n",
       "7862 23  Private          190273 Bachelors 13            Never-married     \n",
       "7863 51  Private          101432 HS-grad    9            Married-civ-spouse\n",
       "7864 53  Private          158993 HS-grad    9            Widowed           \n",
       "7865 36  Self-emp-not-inc 109133 Bachelors 13            Married-civ-spouse\n",
       "7866 85  Private           98611 Bachelors 13            Married-civ-spouse\n",
       "7867 62  Private          128092 HS-grad    9            Widowed           \n",
       "7868 24  Private          284317 Bachelors 13            Never-married     \n",
       "7869 48  Self-emp-inc     185041 HS-grad    9            Married-civ-spouse\n",
       "7870 39  Self-emp-not-inc 193689 HS-grad    9            Never-married     \n",
       "7871 42  Self-emp-not-inc 217597 HS-grad    9            Divorced          \n",
       "7872 82  ?                403910 HS-grad    9            Never-married     \n",
       "7873 57  Private          153918 HS-grad    9            Married-civ-spouse\n",
       "7874 50  Private          302372 Bachelors 13            Married-civ-spouse\n",
       "7875 39  Private          107302 HS-grad    9            Married-civ-spouse\n",
       "7876 25  Local-gov        514716 Bachelors 13            Never-married     \n",
       "7877 20  Private          270436 HS-grad    9            Never-married     \n",
       "7878 57  Local-gov        110417 HS-grad    9            Married-civ-spouse\n",
       "7879 27  Private          177398 HS-grad    9            Never-married     \n",
       "7880 31  Private          292592 HS-grad    9            Married-civ-spouse\n",
       "7881 30  ?                 33811 Bachelors 13            Never-married     \n",
       "7882 54  Private          337992 Bachelors 13            Married-civ-spouse\n",
       "7883 45  State-gov        252208 HS-grad    9            Separated         \n",
       "7884 72  ?                129912 HS-grad    9            Married-civ-spouse\n",
       "7885 58  Private          151910 HS-grad    9            Widowed           \n",
       "7886 52  Self-emp-inc     287927 HS-grad    9            Married-civ-spouse\n",
       "     occupation        relationship  race               sex    capital-gain\n",
       "1    Exec-managerial   Husband       White              Male       0       \n",
       "2    Handlers-cleaners Not-in-family White              Male       0       \n",
       "3    Exec-managerial   Husband       White              Male    5178       \n",
       "4    Prof-specialty    Husband       Asian-Pac-Islander Male       0       \n",
       "5    Farming-fishing   Own-child     White              Male       0       \n",
       "6    Tech-support      Unmarried     White              Female     0       \n",
       "7    Tech-support      Husband       White              Male       0       \n",
       "8    Craft-repair      Own-child     White              Male       0       \n",
       "9    Exec-managerial   Not-in-family White              Male       0       \n",
       "10   Prof-specialty    Husband       White              Male       0       \n",
       "11   Handlers-cleaners Not-in-family White              Male       0       \n",
       "12   Prof-specialty    Husband       Black              Male       0       \n",
       "13   Machine-op-inspct Husband       White              Male       0       \n",
       "14   Exec-managerial   Not-in-family White              Male       0       \n",
       "15   Exec-managerial   Not-in-family White              Male       0       \n",
       "16   Adm-clerical      Husband       White              Male       0       \n",
       "17   Transport-moving  Husband       White              Male       0       \n",
       "18   Sales             Own-child     Black              Female     0       \n",
       "19   Sales             Not-in-family White              Male       0       \n",
       "20   Other-service     Husband       White              Male       0       \n",
       "21   Other-service     Wife          White              Female     0       \n",
       "22   Craft-repair      Not-in-family White              Female 14344       \n",
       "23   Protective-serv   Husband       White              Male       0       \n",
       "24   Exec-managerial   Husband       White              Male   15024       \n",
       "25   Craft-repair      Not-in-family White              Male       0       \n",
       "26   Adm-clerical      Not-in-family White              Female     0       \n",
       "27   Other-service     Husband       White              Male       0       \n",
       "28   Machine-op-inspct Own-child     White              Female     0       \n",
       "29   Exec-managerial   Husband       White              Male       0       \n",
       "30   Prof-specialty    Husband       White              Male       0       \n",
       "...  ...               ...           ...                ...    ...         \n",
       "7857 Exec-managerial   Husband       White              Male       0       \n",
       "7858 Other-service     Unmarried     White              Female     0       \n",
       "7859 ?                 Own-child     White              Male       0       \n",
       "7860 Prof-specialty    Husband       White              Male       0       \n",
       "7861 Handlers-cleaners Unmarried     White              Female  7443       \n",
       "7862 Prof-specialty    Own-child     White              Male       0       \n",
       "7863 Craft-repair      Husband       White              Male       0       \n",
       "7864 Machine-op-inspct Unmarried     Black              Female     0       \n",
       "7865 Sales             Husband       White              Male       0       \n",
       "7866 Exec-managerial   Husband       White              Male       0       \n",
       "7867 Adm-clerical      Not-in-family White              Female     0       \n",
       "7868 Machine-op-inspct Not-in-family White              Female     0       \n",
       "7869 Craft-repair      Husband       White              Male    7298       \n",
       "7870 Exec-managerial   Not-in-family White              Male       0       \n",
       "7871 Sales             Own-child     White              Male       0       \n",
       "7872 ?                 Not-in-family White              Male       0       \n",
       "7873 Transport-moving  Husband       White              Male       0       \n",
       "7874 Prof-specialty    Husband       White              Male       0       \n",
       "7875 Prof-specialty    Husband       White              Male       0       \n",
       "7876 Adm-clerical      Own-child     Black              Female     0       \n",
       "7877 Machine-op-inspct Own-child     White              Male       0       \n",
       "7878 Craft-repair      Husband       White              Male   99999       \n",
       "7879 Other-service     Unmarried     White              Female     0       \n",
       "7880 Machine-op-inspct Wife          White              Female     0       \n",
       "7881 ?                 Not-in-family Asian-Pac-Islander Female     0       \n",
       "7882 Exec-managerial   Husband       Asian-Pac-Islander Male       0       \n",
       "7883 Adm-clerical      Own-child     White              Female     0       \n",
       "7884 ?                 Husband       White              Male       0       \n",
       "7885 Adm-clerical      Unmarried     White              Female     0       \n",
       "7886 Exec-managerial   Wife          White              Female 15024       \n",
       "     capital-loss hours-per-week native-country eaning\n",
       "1       0         13             United-States  <=50K \n",
       "2       0         40             United-States  <=50K \n",
       "3       0         40             United-States  >50K  \n",
       "4       0         40             India          >50K  \n",
       "5       0         35             United-States  <=50K \n",
       "6       0         40             United-States  <=50K \n",
       "7       0         40             United-States  >50K  \n",
       "8       0         40             United-States  <=50K \n",
       "9       0         80             United-States  <=50K \n",
       "10      0         40             United-States  <=50K \n",
       "11      0         35             United-States  <=50K \n",
       "12      0         40             United-States  >50K  \n",
       "13      0         38             United-States  <=50K \n",
       "14      0         55             United-States  >50K  \n",
       "15      0         60             United-States  <=50K \n",
       "16      0         48             United-States  <=50K \n",
       "17      0         40             United-States  <=50K \n",
       "18      0         40             United-States  <=50K \n",
       "19      0         30             United-States  <=50K \n",
       "20      0         40             Cuba           <=50K \n",
       "21      0         40             United-States  <=50K \n",
       "22      0         40             United-States  >50K  \n",
       "23      0         40             United-States  >50K  \n",
       "24      0         60             United-States  >50K  \n",
       "25      0         40             United-States  <=50K \n",
       "26      0         40             United-States  <=50K \n",
       "27   1887         50             Canada         >50K  \n",
       "28      0         40             United-States  <=50K \n",
       "29      0         60             United-States  <=50K \n",
       "30      0         50             United-States  >50K  \n",
       "...  ...          ...            ...            ...   \n",
       "7857 0            55             United-States  >50K  \n",
       "7858 0            32             United-States  <=50K \n",
       "7859 0            40             United-States  <=50K \n",
       "7860 0            50             United-States  <=50K \n",
       "7861 0            35             United-States  <=50K \n",
       "7862 0            40             United-States  <=50K \n",
       "7863 0            40             United-States  <=50K \n",
       "7864 0            38             United-States  <=50K \n",
       "7865 0            50             United-States  >50K  \n",
       "7866 0             3             Poland         <=50K \n",
       "7867 0            32             United-States  <=50K \n",
       "7868 0            32             United-States  <=50K \n",
       "7869 0            50             United-States  >50K  \n",
       "7870 0            65             United-States  <=50K \n",
       "7871 0            50             ?              <=50K \n",
       "7872 0             3             United-States  <=50K \n",
       "7873 0            40             United-States  <=50K \n",
       "7874 0            40             United-States  <=50K \n",
       "7875 0            45             ?              >50K  \n",
       "7876 0            40             United-States  <=50K \n",
       "7877 0            40             United-States  <=50K \n",
       "7878 0            40             United-States  >50K  \n",
       "7879 0            64             United-States  <=50K \n",
       "7880 0            40             United-States  <=50K \n",
       "7881 0            99             United-States  <=50K \n",
       "7882 0            50             Japan          >50K  \n",
       "7883 0            40             United-States  <=50K \n",
       "7884 0            25             United-States  <=50K \n",
       "7885 0            40             United-States  <=50K \n",
       "7886 0            40             United-States  >50K  "
      ]
     },
     "metadata": {},
     "output_type": "display_data"
    }
   ],
   "source": [
    "filter(txtData, `education-num` == c(9,13))\n",
    "filter(txtData, `education-num` == 9 | `education-num` == 13)"
   ]
  },
  {
   "cell_type": "markdown",
   "metadata": {},
   "source": [
    "<div class=\"alert alert-danger\"></i><i class=\"icon-attention-alt\"></i>**Try it out!**<br>Return only records of people with education-num equal 9 and sex as female using filter.<br>"
   ]
  },
  {
   "cell_type": "code",
   "execution_count": 26,
   "metadata": {},
   "outputs": [
    {
     "data": {
      "text/html": [
       "<table>\n",
       "<thead><tr><th scope=col>Age</th><th scope=col>workclass</th><th scope=col>fnlwgt</th><th scope=col>education</th><th scope=col>education-num</th><th scope=col>marital-status</th><th scope=col>occupation</th><th scope=col>relationship</th><th scope=col>race</th><th scope=col>sex</th><th scope=col>capital-gain</th><th scope=col>capital-loss</th><th scope=col>hours-per-week</th><th scope=col>native-country</th><th scope=col>eaning</th></tr></thead>\n",
       "<tbody>\n",
       "\t<tr><td>54                                                        </td><td><span style=white-space:pre-wrap>Private    </span>       </td><td>302146                                                    </td><td>HS-grad                                                   </td><td>9                                                         </td><td><span style=white-space:pre-wrap>Separated         </span></td><td><span style=white-space:pre-wrap>Other-service    </span> </td><td><span style=white-space:pre-wrap>Unmarried    </span>     </td><td>Black                                                     </td><td>Female                                                    </td><td><span style=white-space:pre-wrap>   0</span>              </td><td>0                                                         </td><td>20                                                        </td><td>United-States                                             </td><td>&lt;=50K                                                  </td></tr>\n",
       "\t<tr><td>31                                                        </td><td><span style=white-space:pre-wrap>Private    </span>       </td><td>185814                                                    </td><td>HS-grad                                                   </td><td>9                                                         </td><td><span style=white-space:pre-wrap>Never-married     </span></td><td>Transport-moving                                          </td><td><span style=white-space:pre-wrap>Unmarried    </span>     </td><td>Black                                                     </td><td>Female                                                    </td><td><span style=white-space:pre-wrap>   0</span>              </td><td>0                                                         </td><td>30                                                        </td><td>United-States                                             </td><td>&lt;=50K                                                  </td></tr>\n",
       "\t<tr><td>41                                                        </td><td><span style=white-space:pre-wrap>Private    </span>       </td><td>130408                                                    </td><td>HS-grad                                                   </td><td>9                                                         </td><td><span style=white-space:pre-wrap>Divorced          </span></td><td><span style=white-space:pre-wrap>Sales            </span> </td><td><span style=white-space:pre-wrap>Unmarried    </span>     </td><td>Black                                                     </td><td>Female                                                    </td><td><span style=white-space:pre-wrap>   0</span>              </td><td>0                                                         </td><td>38                                                        </td><td>United-States                                             </td><td>&lt;=50K                                                  </td></tr>\n",
       "\t<tr><td>24                                                        </td><td><span style=white-space:pre-wrap>Private    </span>       </td><td>241951                                                    </td><td>HS-grad                                                   </td><td>9                                                         </td><td><span style=white-space:pre-wrap>Never-married     </span></td><td>Handlers-cleaners                                         </td><td><span style=white-space:pre-wrap>Unmarried    </span>     </td><td>Black                                                     </td><td>Female                                                    </td><td><span style=white-space:pre-wrap>   0</span>              </td><td>0                                                         </td><td>40                                                        </td><td>United-States                                             </td><td>&lt;=50K                                                  </td></tr>\n",
       "\t<tr><td>44                                                        </td><td><span style=white-space:pre-wrap>Private    </span>       </td><td>290521                                                    </td><td>HS-grad                                                   </td><td>9                                                         </td><td><span style=white-space:pre-wrap>Widowed           </span></td><td><span style=white-space:pre-wrap>Exec-managerial  </span> </td><td><span style=white-space:pre-wrap>Unmarried    </span>     </td><td>Black                                                     </td><td>Female                                                    </td><td><span style=white-space:pre-wrap>   0</span>              </td><td>0                                                         </td><td>40                                                        </td><td>United-States                                             </td><td>&lt;=50K                                                  </td></tr>\n",
       "\t<tr><td>19                                                        </td><td><span style=white-space:pre-wrap>Private    </span>       </td><td>206399                                                    </td><td>HS-grad                                                   </td><td>9                                                         </td><td><span style=white-space:pre-wrap>Never-married     </span></td><td>Machine-op-inspct                                         </td><td><span style=white-space:pre-wrap>Own-child    </span>     </td><td>Black                                                     </td><td>Female                                                    </td><td><span style=white-space:pre-wrap>   0</span>              </td><td>0                                                         </td><td>40                                                        </td><td>United-States                                             </td><td>&lt;=50K                                                  </td></tr>\n",
       "\t<tr><td>47                                                        </td><td><span style=white-space:pre-wrap>Local-gov  </span>       </td><td>543162                                                    </td><td>HS-grad                                                   </td><td>9                                                         </td><td><span style=white-space:pre-wrap>Separated         </span></td><td><span style=white-space:pre-wrap>Adm-clerical     </span> </td><td><span style=white-space:pre-wrap>Unmarried    </span>     </td><td>Black                                                     </td><td>Female                                                    </td><td><span style=white-space:pre-wrap>   0</span>              </td><td>0                                                         </td><td>40                                                        </td><td>United-States                                             </td><td>&lt;=50K                                                  </td></tr>\n",
       "\t<tr><td>34                                                        </td><td><span style=white-space:pre-wrap>?          </span>       </td><td>190027                                                    </td><td>HS-grad                                                   </td><td>9                                                         </td><td><span style=white-space:pre-wrap>Never-married     </span></td><td><span style=white-space:pre-wrap>?                </span> </td><td><span style=white-space:pre-wrap>Unmarried    </span>     </td><td>Black                                                     </td><td>Female                                                    </td><td><span style=white-space:pre-wrap>   0</span>              </td><td>0                                                         </td><td>40                                                        </td><td>United-States                                             </td><td>&lt;=50K                                                  </td></tr>\n",
       "\t<tr><td>35                                                   </td><td><span style=white-space:pre-wrap>Private    </span>  </td><td>229328                                               </td><td>HS-grad                                              </td><td>9                                                    </td><td>Married-civ-spouse                                   </td><td>Machine-op-inspct                                    </td><td><span style=white-space:pre-wrap>Wife         </span></td><td>Black                                                </td><td>Female                                               </td><td><span style=white-space:pre-wrap>   0</span>         </td><td>0                                                    </td><td>40                                                   </td><td>United-States                                        </td><td>&lt;=50K                                             </td></tr>\n",
       "\t<tr><td>24                                                        </td><td><span style=white-space:pre-wrap>Private    </span>       </td><td> 82804                                                    </td><td>HS-grad                                                   </td><td>9                                                         </td><td><span style=white-space:pre-wrap>Never-married     </span></td><td>Handlers-cleaners                                         </td><td><span style=white-space:pre-wrap>Unmarried    </span>     </td><td>Black                                                     </td><td>Female                                                    </td><td><span style=white-space:pre-wrap>   0</span>              </td><td>0                                                         </td><td>40                                                        </td><td>United-States                                             </td><td>&lt;=50K                                                  </td></tr>\n",
       "\t<tr><td>48                                                        </td><td><span style=white-space:pre-wrap>Private    </span>       </td><td> 45612                                                    </td><td>HS-grad                                                   </td><td>9                                                         </td><td><span style=white-space:pre-wrap>Never-married     </span></td><td><span style=white-space:pre-wrap>Adm-clerical     </span> </td><td><span style=white-space:pre-wrap>Unmarried    </span>     </td><td>Black                                                     </td><td>Female                                                    </td><td><span style=white-space:pre-wrap>   0</span>              </td><td>0                                                         </td><td>37                                                        </td><td>United-States                                             </td><td>&lt;=50K                                                  </td></tr>\n",
       "\t<tr><td>31                                                        </td><td><span style=white-space:pre-wrap>Private    </span>       </td><td>295697                                                    </td><td>HS-grad                                                   </td><td>9                                                         </td><td><span style=white-space:pre-wrap>Separated         </span></td><td><span style=white-space:pre-wrap>Other-service    </span> </td><td><span style=white-space:pre-wrap>Unmarried    </span>     </td><td>Black                                                     </td><td>Female                                                    </td><td><span style=white-space:pre-wrap>   0</span>              </td><td>0                                                         </td><td>40                                                        </td><td>United-States                                             </td><td>&lt;=50K                                                  </td></tr>\n",
       "\t<tr><td>56                                                        </td><td><span style=white-space:pre-wrap>Private    </span>       </td><td>156052                                                    </td><td>HS-grad                                                   </td><td>9                                                         </td><td><span style=white-space:pre-wrap>Widowed           </span></td><td><span style=white-space:pre-wrap>Other-service    </span> </td><td><span style=white-space:pre-wrap>Unmarried    </span>     </td><td>Black                                                     </td><td>Female                                                    </td><td> 594                                                      </td><td>0                                                         </td><td>20                                                        </td><td>United-States                                             </td><td>&lt;=50K                                                  </td></tr>\n",
       "\t<tr><td>23                                                        </td><td><span style=white-space:pre-wrap>Private    </span>       </td><td>153044                                                    </td><td>HS-grad                                                   </td><td>9                                                         </td><td><span style=white-space:pre-wrap>Never-married     </span></td><td>Handlers-cleaners                                         </td><td><span style=white-space:pre-wrap>Unmarried    </span>     </td><td>Black                                                     </td><td>Female                                                    </td><td><span style=white-space:pre-wrap>   0</span>              </td><td>0                                                         </td><td> 7                                                        </td><td>United-States                                             </td><td>&lt;=50K                                                  </td></tr>\n",
       "\t<tr><td>78                                                        </td><td><span style=white-space:pre-wrap>Private    </span>       </td><td>182977                                                    </td><td>HS-grad                                                   </td><td>9                                                         </td><td><span style=white-space:pre-wrap>Widowed           </span></td><td><span style=white-space:pre-wrap>Other-service    </span> </td><td>Not-in-family                                             </td><td>Black                                                     </td><td>Female                                                    </td><td>2964                                                      </td><td>0                                                         </td><td>40                                                        </td><td>United-States                                             </td><td>&lt;=50K                                                  </td></tr>\n",
       "\t<tr><td>23                                                        </td><td><span style=white-space:pre-wrap>?          </span>       </td><td>184699                                                    </td><td>HS-grad                                                   </td><td>9                                                         </td><td><span style=white-space:pre-wrap>Never-married     </span></td><td><span style=white-space:pre-wrap>?                </span> </td><td><span style=white-space:pre-wrap>Unmarried    </span>     </td><td>Black                                                     </td><td>Female                                                    </td><td><span style=white-space:pre-wrap>   0</span>              </td><td>0                                                         </td><td>40                                                        </td><td>United-States                                             </td><td>&lt;=50K                                                  </td></tr>\n",
       "\t<tr><td>41                                                        </td><td><span style=white-space:pre-wrap>Private    </span>       </td><td>349221                                                    </td><td>HS-grad                                                   </td><td>9                                                         </td><td><span style=white-space:pre-wrap>Never-married     </span></td><td><span style=white-space:pre-wrap>Craft-repair     </span> </td><td><span style=white-space:pre-wrap>Own-child    </span>     </td><td>Black                                                     </td><td>Female                                                    </td><td><span style=white-space:pre-wrap>   0</span>              </td><td>0                                                         </td><td>35                                                        </td><td>United-States                                             </td><td>&lt;=50K                                                  </td></tr>\n",
       "\t<tr><td>23                                                        </td><td><span style=white-space:pre-wrap>Private    </span>       </td><td>129042                                                    </td><td>HS-grad                                                   </td><td>9                                                         </td><td><span style=white-space:pre-wrap>Never-married     </span></td><td>Machine-op-inspct                                         </td><td><span style=white-space:pre-wrap>Unmarried    </span>     </td><td>Black                                                     </td><td>Female                                                    </td><td><span style=white-space:pre-wrap>   0</span>              </td><td>0                                                         </td><td>40                                                        </td><td>United-States                                             </td><td>&lt;=50K                                                  </td></tr>\n",
       "\t<tr><td>32                                                        </td><td><span style=white-space:pre-wrap>Private    </span>       </td><td>206365                                                    </td><td>HS-grad                                                   </td><td>9                                                         </td><td><span style=white-space:pre-wrap>Never-married     </span></td><td><span style=white-space:pre-wrap>Other-service    </span> </td><td>Not-in-family                                             </td><td>Black                                                     </td><td>Female                                                    </td><td><span style=white-space:pre-wrap>   0</span>              </td><td>0                                                         </td><td>40                                                        </td><td>United-States                                             </td><td>&lt;=50K                                                  </td></tr>\n",
       "\t<tr><td>34                                                        </td><td><span style=white-space:pre-wrap>Private    </span>       </td><td>289984                                                    </td><td>HS-grad                                                   </td><td>9                                                         </td><td><span style=white-space:pre-wrap>Divorced          </span></td><td><span style=white-space:pre-wrap>Priv-house-serv  </span> </td><td><span style=white-space:pre-wrap>Unmarried    </span>     </td><td>Black                                                     </td><td>Female                                                    </td><td><span style=white-space:pre-wrap>   0</span>              </td><td>0                                                         </td><td>30                                                        </td><td>United-States                                             </td><td>&lt;=50K                                                  </td></tr>\n",
       "\t<tr><td>33                                                        </td><td><span style=white-space:pre-wrap>Private    </span>       </td><td>178506                                                    </td><td>HS-grad                                                   </td><td>9                                                         </td><td><span style=white-space:pre-wrap>Divorced          </span></td><td><span style=white-space:pre-wrap>Adm-clerical     </span> </td><td>Not-in-family                                             </td><td>Black                                                     </td><td>Female                                                    </td><td><span style=white-space:pre-wrap>   0</span>              </td><td>0                                                         </td><td>40                                                        </td><td>United-States                                             </td><td>&lt;=50K                                                  </td></tr>\n",
       "\t<tr><td>25                                                        </td><td><span style=white-space:pre-wrap>Private    </span>       </td><td>323545                                                    </td><td>HS-grad                                                   </td><td>9                                                         </td><td><span style=white-space:pre-wrap>Never-married     </span></td><td><span style=white-space:pre-wrap>Tech-support     </span> </td><td>Not-in-family                                             </td><td>Black                                                     </td><td>Female                                                    </td><td><span style=white-space:pre-wrap>   0</span>              </td><td>0                                                         </td><td>40                                                        </td><td>United-States                                             </td><td>&lt;=50K                                                  </td></tr>\n",
       "\t<tr><td>29                                                        </td><td><span style=white-space:pre-wrap>Private    </span>       </td><td>419721                                                    </td><td>HS-grad                                                   </td><td>9                                                         </td><td><span style=white-space:pre-wrap>Never-married     </span></td><td><span style=white-space:pre-wrap>Other-service    </span> </td><td><span style=white-space:pre-wrap>Unmarried    </span>     </td><td>Black                                                     </td><td>Female                                                    </td><td><span style=white-space:pre-wrap>   0</span>              </td><td>0                                                         </td><td>40                                                        </td><td><span style=white-space:pre-wrap>Japan        </span>     </td><td>&lt;=50K                                                  </td></tr>\n",
       "\t<tr><td>24                                                        </td><td><span style=white-space:pre-wrap>Private    </span>       </td><td>293579                                                    </td><td>HS-grad                                                   </td><td>9                                                         </td><td><span style=white-space:pre-wrap>Never-married     </span></td><td><span style=white-space:pre-wrap>Sales            </span> </td><td><span style=white-space:pre-wrap>Own-child    </span>     </td><td>Black                                                     </td><td>Female                                                    </td><td><span style=white-space:pre-wrap>   0</span>              </td><td>0                                                         </td><td>20                                                        </td><td>United-States                                             </td><td>&lt;=50K                                                  </td></tr>\n",
       "\t<tr><td>49                                                   </td><td><span style=white-space:pre-wrap>Private    </span>  </td><td>171301                                               </td><td>HS-grad                                              </td><td>9                                                    </td><td>Married-civ-spouse                                   </td><td>Machine-op-inspct                                    </td><td><span style=white-space:pre-wrap>Wife         </span></td><td>Black                                                </td><td>Female                                               </td><td><span style=white-space:pre-wrap>   0</span>         </td><td>0                                                    </td><td>40                                                   </td><td>United-States                                        </td><td>&lt;=50K                                             </td></tr>\n",
       "\t<tr><td>41                                                        </td><td><span style=white-space:pre-wrap>Private    </span>       </td><td>102332                                                    </td><td>HS-grad                                                   </td><td>9                                                         </td><td><span style=white-space:pre-wrap>Divorced          </span></td><td><span style=white-space:pre-wrap>Sales            </span> </td><td><span style=white-space:pre-wrap>Unmarried    </span>     </td><td>Black                                                     </td><td>Female                                                    </td><td><span style=white-space:pre-wrap>   0</span>              </td><td>0                                                         </td><td>40                                                        </td><td>United-States                                             </td><td>&lt;=50K                                                  </td></tr>\n",
       "\t<tr><td>19                                                        </td><td>Federal-gov                                               </td><td>234151                                                    </td><td>HS-grad                                                   </td><td>9                                                         </td><td><span style=white-space:pre-wrap>Never-married     </span></td><td><span style=white-space:pre-wrap>Adm-clerical     </span> </td><td><span style=white-space:pre-wrap>Unmarried    </span>     </td><td>Black                                                     </td><td>Female                                                    </td><td><span style=white-space:pre-wrap>   0</span>              </td><td>0                                                         </td><td>40                                                        </td><td>United-States                                             </td><td>&lt;=50K                                                  </td></tr>\n",
       "\t<tr><td>42                                                        </td><td><span style=white-space:pre-wrap>?          </span>       </td><td> 51795                                                    </td><td>HS-grad                                                   </td><td>9                                                         </td><td><span style=white-space:pre-wrap>Divorced          </span></td><td><span style=white-space:pre-wrap>?                </span> </td><td><span style=white-space:pre-wrap>Unmarried    </span>     </td><td>Black                                                     </td><td>Female                                                    </td><td><span style=white-space:pre-wrap>   0</span>              </td><td>0                                                         </td><td>32                                                        </td><td>United-States                                             </td><td>&lt;=50K                                                  </td></tr>\n",
       "\t<tr><td>56                                                        </td><td><span style=white-space:pre-wrap>Private    </span>       </td><td>311249                                                    </td><td>HS-grad                                                   </td><td>9                                                         </td><td><span style=white-space:pre-wrap>Widowed           </span></td><td><span style=white-space:pre-wrap>Adm-clerical     </span> </td><td><span style=white-space:pre-wrap>Unmarried    </span>     </td><td>Black                                                     </td><td>Female                                                    </td><td><span style=white-space:pre-wrap>   0</span>              </td><td>0                                                         </td><td>38                                                        </td><td>United-States                                             </td><td>&lt;=50K                                                  </td></tr>\n",
       "\t<tr><td>76                                                        </td><td><span style=white-space:pre-wrap>?          </span>       </td><td>211453                                                    </td><td>HS-grad                                                   </td><td>9                                                         </td><td><span style=white-space:pre-wrap>Widowed           </span></td><td><span style=white-space:pre-wrap>?                </span> </td><td>Not-in-family                                             </td><td>Black                                                     </td><td>Female                                                    </td><td><span style=white-space:pre-wrap>   0</span>              </td><td>0                                                         </td><td> 2                                                        </td><td>United-States                                             </td><td>&lt;=50K                                                  </td></tr>\n",
       "\t<tr><td>...</td><td>...</td><td>...</td><td>...</td><td>...</td><td>...</td><td>...</td><td>...</td><td>...</td><td>...</td><td>...</td><td>...</td><td>...</td><td>...</td><td>...</td></tr>\n",
       "\t<tr><td>37                                                           </td><td><span style=white-space:pre-wrap>Private     </span>         </td><td>148143                                                       </td><td>HS-grad                                                      </td><td>9                                                            </td><td><span style=white-space:pre-wrap>Never-married        </span></td><td>Machine-op-inspct                                            </td><td><span style=white-space:pre-wrap>Unmarried     </span>       </td><td>Black                                                        </td><td>Female                                                       </td><td>0                                                            </td><td><span style=white-space:pre-wrap>   0</span>                 </td><td>40                                                           </td><td>United-States                                                </td><td>&lt;=50K                                                     </td></tr>\n",
       "\t<tr><td>51                                                           </td><td><span style=white-space:pre-wrap>Private     </span>         </td><td>182944                                                       </td><td>HS-grad                                                      </td><td>9                                                            </td><td><span style=white-space:pre-wrap>Widowed              </span></td><td><span style=white-space:pre-wrap>Tech-support     </span>    </td><td><span style=white-space:pre-wrap>Unmarried     </span>       </td><td>Black                                                        </td><td>Female                                                       </td><td>0                                                            </td><td><span style=white-space:pre-wrap>   0</span>                 </td><td>40                                                           </td><td>United-States                                                </td><td>&lt;=50K                                                     </td></tr>\n",
       "\t<tr><td>34                                                           </td><td><span style=white-space:pre-wrap>?           </span>         </td><td>362787                                                       </td><td>HS-grad                                                      </td><td>9                                                            </td><td><span style=white-space:pre-wrap>Never-married        </span></td><td><span style=white-space:pre-wrap>?                </span>    </td><td><span style=white-space:pre-wrap>Unmarried     </span>       </td><td>Black                                                        </td><td>Female                                                       </td><td>0                                                            </td><td><span style=white-space:pre-wrap>   0</span>                 </td><td>35                                                           </td><td>United-States                                                </td><td>&lt;=50K                                                     </td></tr>\n",
       "\t<tr><td>41                                                           </td><td><span style=white-space:pre-wrap>Local-gov   </span>         </td><td>174491                                                       </td><td>HS-grad                                                      </td><td>9                                                            </td><td><span style=white-space:pre-wrap>Separated            </span></td><td><span style=white-space:pre-wrap>Other-service    </span>    </td><td><span style=white-space:pre-wrap>Unmarried     </span>       </td><td>Black                                                        </td><td>Female                                                       </td><td>0                                                            </td><td><span style=white-space:pre-wrap>   0</span>                 </td><td>40                                                           </td><td>United-States                                                </td><td>&lt;=50K                                                     </td></tr>\n",
       "\t<tr><td>35                                                           </td><td><span style=white-space:pre-wrap>Private     </span>         </td><td>220943                                                       </td><td>HS-grad                                                      </td><td>9                                                            </td><td><span style=white-space:pre-wrap>Divorced             </span></td><td><span style=white-space:pre-wrap>Other-service    </span>    </td><td><span style=white-space:pre-wrap>Unmarried     </span>       </td><td>Black                                                        </td><td>Female                                                       </td><td>0                                                            </td><td>1594                                                         </td><td>40                                                           </td><td>United-States                                                </td><td>&lt;=50K                                                     </td></tr>\n",
       "\t<tr><td>46                                                           </td><td><span style=white-space:pre-wrap>Private     </span>         </td><td>169324                                                       </td><td>HS-grad                                                      </td><td>9                                                            </td><td><span style=white-space:pre-wrap>Separated            </span></td><td><span style=white-space:pre-wrap>Other-service    </span>    </td><td>Not-in-family                                                </td><td>Black                                                        </td><td>Female                                                       </td><td>0                                                            </td><td><span style=white-space:pre-wrap>   0</span>                 </td><td>45                                                           </td><td><span style=white-space:pre-wrap>Jamaica      </span>        </td><td>&lt;=50K                                                     </td></tr>\n",
       "\t<tr><td>19                                                           </td><td><span style=white-space:pre-wrap>Private     </span>         </td><td>178811                                                       </td><td>HS-grad                                                      </td><td>9                                                            </td><td><span style=white-space:pre-wrap>Never-married        </span></td><td>Machine-op-inspct                                            </td><td><span style=white-space:pre-wrap>Own-child     </span>       </td><td>Black                                                        </td><td>Female                                                       </td><td>0                                                            </td><td><span style=white-space:pre-wrap>   0</span>                 </td><td>20                                                           </td><td>United-States                                                </td><td>&lt;=50K                                                     </td></tr>\n",
       "\t<tr><td>28                                                           </td><td><span style=white-space:pre-wrap>?           </span>         </td><td>198393                                                       </td><td>HS-grad                                                      </td><td>9                                                            </td><td><span style=white-space:pre-wrap>Never-married        </span></td><td><span style=white-space:pre-wrap>?                </span>    </td><td>Not-in-family                                                </td><td>Black                                                        </td><td>Female                                                       </td><td>0                                                            </td><td><span style=white-space:pre-wrap>   0</span>                 </td><td>40                                                           </td><td>United-States                                                </td><td>&lt;=50K                                                     </td></tr>\n",
       "\t<tr><td>54                                                           </td><td><span style=white-space:pre-wrap>Local-gov   </span>         </td><td>127943                                                       </td><td>HS-grad                                                      </td><td>9                                                            </td><td><span style=white-space:pre-wrap>Widowed              </span></td><td><span style=white-space:pre-wrap>Other-service    </span>    </td><td><span style=white-space:pre-wrap>Unmarried     </span>       </td><td>Black                                                        </td><td>Female                                                       </td><td>0                                                            </td><td><span style=white-space:pre-wrap>   0</span>                 </td><td>40                                                           </td><td>United-States                                                </td><td>&lt;=50K                                                     </td></tr>\n",
       "\t<tr><td>36                                                           </td><td><span style=white-space:pre-wrap>Private     </span>         </td><td>139703                                                       </td><td>HS-grad                                                      </td><td>9                                                            </td><td><span style=white-space:pre-wrap>Never-married        </span></td><td><span style=white-space:pre-wrap>Adm-clerical     </span>    </td><td>Not-in-family                                                </td><td>Black                                                        </td><td>Female                                                       </td><td>0                                                            </td><td><span style=white-space:pre-wrap>   0</span>                 </td><td>40                                                           </td><td>United-States                                                </td><td>&lt;=50K                                                     </td></tr>\n",
       "\t<tr><td>27                                                           </td><td><span style=white-space:pre-wrap>Private     </span>         </td><td>247978                                                       </td><td>HS-grad                                                      </td><td>9                                                            </td><td><span style=white-space:pre-wrap>Never-married        </span></td><td><span style=white-space:pre-wrap>Other-service    </span>    </td><td><span style=white-space:pre-wrap>Own-child     </span>       </td><td>Black                                                        </td><td>Female                                                       </td><td>0                                                            </td><td><span style=white-space:pre-wrap>   0</span>                 </td><td>40                                                           </td><td>United-States                                                </td><td>&lt;=50K                                                     </td></tr>\n",
       "\t<tr><td>42                                                           </td><td><span style=white-space:pre-wrap>Private     </span>         </td><td>191765                                                       </td><td>HS-grad                                                      </td><td>9                                                            </td><td><span style=white-space:pre-wrap>Divorced             </span></td><td><span style=white-space:pre-wrap>Other-service    </span>    </td><td>Other-relative                                               </td><td>Black                                                        </td><td>Female                                                       </td><td>0                                                            </td><td><span style=white-space:pre-wrap>   0</span>                 </td><td>35                                                           </td><td>United-States                                                </td><td>&lt;=50K                                                     </td></tr>\n",
       "\t<tr><td>29                                                       </td><td><span style=white-space:pre-wrap>?           </span>     </td><td>207032                                                   </td><td>HS-grad                                                  </td><td>9                                                        </td><td>Married-spouse-absent                                    </td><td><span style=white-space:pre-wrap>?                </span></td><td><span style=white-space:pre-wrap>Unmarried     </span>   </td><td>Black                                                    </td><td>Female                                                   </td><td>0                                                        </td><td><span style=white-space:pre-wrap>   0</span>             </td><td>42                                                       </td><td><span style=white-space:pre-wrap>Haiti        </span>    </td><td>&lt;=50K                                                 </td></tr>\n",
       "\t<tr><td>36                                                           </td><td><span style=white-space:pre-wrap>Private     </span>         </td><td>448337                                                       </td><td>HS-grad                                                      </td><td>9                                                            </td><td><span style=white-space:pre-wrap>Separated            </span></td><td><span style=white-space:pre-wrap>Sales            </span>    </td><td><span style=white-space:pre-wrap>Unmarried     </span>       </td><td>Black                                                        </td><td>Female                                                       </td><td>0                                                            </td><td><span style=white-space:pre-wrap>   0</span>                 </td><td>40                                                           </td><td>United-States                                                </td><td>&lt;=50K                                                     </td></tr>\n",
       "\t<tr><td>61                                                           </td><td>Federal-gov                                                  </td><td>181081                                                       </td><td>HS-grad                                                      </td><td>9                                                            </td><td><span style=white-space:pre-wrap>Divorced             </span></td><td><span style=white-space:pre-wrap>Adm-clerical     </span>    </td><td><span style=white-space:pre-wrap>Own-child     </span>       </td><td>Black                                                        </td><td>Female                                                       </td><td>0                                                            </td><td><span style=white-space:pre-wrap>   0</span>                 </td><td>20                                                           </td><td>United-States                                                </td><td>&lt;=50K                                                     </td></tr>\n",
       "\t<tr><td>28                                                           </td><td><span style=white-space:pre-wrap>Private     </span>         </td><td> 90547                                                       </td><td>HS-grad                                                      </td><td>9                                                            </td><td><span style=white-space:pre-wrap>Married-civ-spouse   </span></td><td><span style=white-space:pre-wrap>Other-service    </span>    </td><td><span style=white-space:pre-wrap>Wife          </span>       </td><td>Black                                                        </td><td>Female                                                       </td><td>0                                                            </td><td><span style=white-space:pre-wrap>   0</span>                 </td><td>23                                                           </td><td>United-States                                                </td><td>&lt;=50K                                                     </td></tr>\n",
       "\t<tr><td>31                                                           </td><td><span style=white-space:pre-wrap>Private     </span>         </td><td>190027                                                       </td><td>HS-grad                                                      </td><td>9                                                            </td><td><span style=white-space:pre-wrap>Never-married        </span></td><td><span style=white-space:pre-wrap>Other-service    </span>    </td><td>Other-relative                                               </td><td>Black                                                        </td><td>Female                                                       </td><td>0                                                            </td><td><span style=white-space:pre-wrap>   0</span>                 </td><td>40                                                           </td><td><span style=white-space:pre-wrap>?            </span>        </td><td>&lt;=50K                                                     </td></tr>\n",
       "\t<tr><td>24                                                           </td><td><span style=white-space:pre-wrap>Private     </span>         </td><td>175586                                                       </td><td>HS-grad                                                      </td><td>9                                                            </td><td><span style=white-space:pre-wrap>Never-married        </span></td><td>Machine-op-inspct                                            </td><td><span style=white-space:pre-wrap>Unmarried     </span>       </td><td>Black                                                        </td><td>Female                                                       </td><td>0                                                            </td><td><span style=white-space:pre-wrap>   0</span>                 </td><td>40                                                           </td><td>United-States                                                </td><td>&lt;=50K                                                     </td></tr>\n",
       "\t<tr><td>37                                                           </td><td><span style=white-space:pre-wrap>Private     </span>         </td><td>232614                                                       </td><td>HS-grad                                                      </td><td>9                                                            </td><td><span style=white-space:pre-wrap>Divorced             </span></td><td><span style=white-space:pre-wrap>Other-service    </span>    </td><td><span style=white-space:pre-wrap>Unmarried     </span>       </td><td>Black                                                        </td><td>Female                                                       </td><td>0                                                            </td><td><span style=white-space:pre-wrap>   0</span>                 </td><td>30                                                           </td><td>United-States                                                </td><td>&lt;=50K                                                     </td></tr>\n",
       "\t<tr><td>29                                                           </td><td><span style=white-space:pre-wrap>Private     </span>         </td><td>358124                                                       </td><td>HS-grad                                                      </td><td>9                                                            </td><td><span style=white-space:pre-wrap>Never-married        </span></td><td><span style=white-space:pre-wrap>Other-service    </span>    </td><td>Other-relative                                               </td><td>Black                                                        </td><td>Female                                                       </td><td>0                                                            </td><td><span style=white-space:pre-wrap>   0</span>                 </td><td>52                                                           </td><td>United-States                                                </td><td>&lt;=50K                                                     </td></tr>\n",
       "\t<tr><td>51                                                           </td><td><span style=white-space:pre-wrap>?           </span>         </td><td> 43909                                                       </td><td>HS-grad                                                      </td><td>9                                                            </td><td><span style=white-space:pre-wrap>Divorced             </span></td><td><span style=white-space:pre-wrap>?                </span>    </td><td><span style=white-space:pre-wrap>Unmarried     </span>       </td><td>Black                                                        </td><td>Female                                                       </td><td>0                                                            </td><td><span style=white-space:pre-wrap>   0</span>                 </td><td>40                                                           </td><td>United-States                                                </td><td>&lt;=50K                                                     </td></tr>\n",
       "\t<tr><td>42                                                           </td><td><span style=white-space:pre-wrap>State-gov   </span>         </td><td>455553                                                       </td><td>HS-grad                                                      </td><td>9                                                            </td><td><span style=white-space:pre-wrap>Never-married        </span></td><td><span style=white-space:pre-wrap>Adm-clerical     </span>    </td><td><span style=white-space:pre-wrap>Unmarried     </span>       </td><td>Black                                                        </td><td>Female                                                       </td><td>0                                                            </td><td><span style=white-space:pre-wrap>   0</span>                 </td><td>40                                                           </td><td>United-States                                                </td><td>&lt;=50K                                                     </td></tr>\n",
       "\t<tr><td>30                                                           </td><td>Never-worked                                                 </td><td>176673                                                       </td><td>HS-grad                                                      </td><td>9                                                            </td><td><span style=white-space:pre-wrap>Married-civ-spouse   </span></td><td><span style=white-space:pre-wrap>?                </span>    </td><td><span style=white-space:pre-wrap>Wife          </span>       </td><td>Black                                                        </td><td>Female                                                       </td><td>0                                                            </td><td><span style=white-space:pre-wrap>   0</span>                 </td><td>40                                                           </td><td>United-States                                                </td><td>&lt;=50K                                                     </td></tr>\n",
       "\t<tr><td>32                                                           </td><td><span style=white-space:pre-wrap>Private     </span>         </td><td>172415                                                       </td><td>HS-grad                                                      </td><td>9                                                            </td><td><span style=white-space:pre-wrap>Never-married        </span></td><td><span style=white-space:pre-wrap>Other-service    </span>    </td><td><span style=white-space:pre-wrap>Unmarried     </span>       </td><td>Black                                                        </td><td>Female                                                       </td><td>0                                                            </td><td><span style=white-space:pre-wrap>   0</span>                 </td><td>40                                                           </td><td>United-States                                                </td><td>&lt;=50K                                                     </td></tr>\n",
       "\t<tr><td>56                                                           </td><td><span style=white-space:pre-wrap>Private     </span>         </td><td>135458                                                       </td><td>HS-grad                                                      </td><td>9                                                            </td><td><span style=white-space:pre-wrap>Divorced             </span></td><td><span style=white-space:pre-wrap>Tech-support     </span>    </td><td>Not-in-family                                                </td><td>Black                                                        </td><td>Female                                                       </td><td>0                                                            </td><td><span style=white-space:pre-wrap>   0</span>                 </td><td>40                                                           </td><td>United-States                                                </td><td>&lt;=50K                                                     </td></tr>\n",
       "\t<tr><td>31                                                           </td><td><span style=white-space:pre-wrap>Private     </span>         </td><td>298995                                                       </td><td>HS-grad                                                      </td><td>9                                                            </td><td><span style=white-space:pre-wrap>Married-civ-spouse   </span></td><td><span style=white-space:pre-wrap>Other-service    </span>    </td><td><span style=white-space:pre-wrap>Wife          </span>       </td><td>Black                                                        </td><td>Female                                                       </td><td>0                                                            </td><td><span style=white-space:pre-wrap>   0</span>                 </td><td>35                                                           </td><td>United-States                                                </td><td>&lt;=50K                                                     </td></tr>\n",
       "\t<tr><td>61                                                           </td><td><span style=white-space:pre-wrap>Private     </span>         </td><td>190682                                                       </td><td>HS-grad                                                      </td><td>9                                                            </td><td><span style=white-space:pre-wrap>Widowed              </span></td><td><span style=white-space:pre-wrap>Craft-repair     </span>    </td><td>Not-in-family                                                </td><td>Black                                                        </td><td>Female                                                       </td><td>0                                                            </td><td>1669                                                         </td><td>50                                                           </td><td>United-States                                                </td><td>&lt;=50K                                                     </td></tr>\n",
       "\t<tr><td>53                                                           </td><td><span style=white-space:pre-wrap>Private     </span>         </td><td>158993                                                       </td><td>HS-grad                                                      </td><td>9                                                            </td><td><span style=white-space:pre-wrap>Widowed              </span></td><td>Machine-op-inspct                                            </td><td><span style=white-space:pre-wrap>Unmarried     </span>       </td><td>Black                                                        </td><td>Female                                                       </td><td>0                                                            </td><td><span style=white-space:pre-wrap>   0</span>                 </td><td>38                                                           </td><td>United-States                                                </td><td>&lt;=50K                                                     </td></tr>\n",
       "\t<tr><td>33                                                           </td><td><span style=white-space:pre-wrap>Private     </span>         </td><td> 63079                                                       </td><td>HS-grad                                                      </td><td>9                                                            </td><td><span style=white-space:pre-wrap>Divorced             </span></td><td><span style=white-space:pre-wrap>Adm-clerical     </span>    </td><td><span style=white-space:pre-wrap>Unmarried     </span>       </td><td>Black                                                        </td><td>Female                                                       </td><td>0                                                            </td><td><span style=white-space:pre-wrap>   0</span>                 </td><td>40                                                           </td><td>United-States                                                </td><td>&lt;=50K                                                     </td></tr>\n",
       "\t<tr><td>41                                                           </td><td><span style=white-space:pre-wrap>?           </span>         </td><td>202822                                                       </td><td>HS-grad                                                      </td><td>9                                                            </td><td><span style=white-space:pre-wrap>Separated            </span></td><td><span style=white-space:pre-wrap>?                </span>    </td><td>Not-in-family                                                </td><td>Black                                                        </td><td>Female                                                       </td><td>0                                                            </td><td><span style=white-space:pre-wrap>   0</span>                 </td><td>32                                                           </td><td>United-States                                                </td><td>&lt;=50K                                                     </td></tr>\n",
       "</tbody>\n",
       "</table>\n"
      ],
      "text/latex": [
       "\\begin{tabular}{r|lllllllllllllll}\n",
       " Age & workclass & fnlwgt & education & education-num & marital-status & occupation & relationship & race & sex & capital-gain & capital-loss & hours-per-week & native-country & eaning\\\\\n",
       "\\hline\n",
       "\t 54                 & Private            & 302146             & HS-grad            & 9                  & Separated          & Other-service      & Unmarried          & Black              & Female             &    0               & 0                  & 20                 & United-States      & <=50K             \\\\\n",
       "\t 31                 & Private            & 185814             & HS-grad            & 9                  & Never-married      & Transport-moving   & Unmarried          & Black              & Female             &    0               & 0                  & 30                 & United-States      & <=50K             \\\\\n",
       "\t 41                 & Private            & 130408             & HS-grad            & 9                  & Divorced           & Sales              & Unmarried          & Black              & Female             &    0               & 0                  & 38                 & United-States      & <=50K             \\\\\n",
       "\t 24                 & Private            & 241951             & HS-grad            & 9                  & Never-married      & Handlers-cleaners  & Unmarried          & Black              & Female             &    0               & 0                  & 40                 & United-States      & <=50K             \\\\\n",
       "\t 44                 & Private            & 290521             & HS-grad            & 9                  & Widowed            & Exec-managerial    & Unmarried          & Black              & Female             &    0               & 0                  & 40                 & United-States      & <=50K             \\\\\n",
       "\t 19                 & Private            & 206399             & HS-grad            & 9                  & Never-married      & Machine-op-inspct  & Own-child          & Black              & Female             &    0               & 0                  & 40                 & United-States      & <=50K             \\\\\n",
       "\t 47                 & Local-gov          & 543162             & HS-grad            & 9                  & Separated          & Adm-clerical       & Unmarried          & Black              & Female             &    0               & 0                  & 40                 & United-States      & <=50K             \\\\\n",
       "\t 34                 & ?                  & 190027             & HS-grad            & 9                  & Never-married      & ?                  & Unmarried          & Black              & Female             &    0               & 0                  & 40                 & United-States      & <=50K             \\\\\n",
       "\t 35                 & Private            & 229328             & HS-grad            & 9                  & Married-civ-spouse & Machine-op-inspct  & Wife               & Black              & Female             &    0               & 0                  & 40                 & United-States      & <=50K             \\\\\n",
       "\t 24                 & Private            &  82804             & HS-grad            & 9                  & Never-married      & Handlers-cleaners  & Unmarried          & Black              & Female             &    0               & 0                  & 40                 & United-States      & <=50K             \\\\\n",
       "\t 48                 & Private            &  45612             & HS-grad            & 9                  & Never-married      & Adm-clerical       & Unmarried          & Black              & Female             &    0               & 0                  & 37                 & United-States      & <=50K             \\\\\n",
       "\t 31                 & Private            & 295697             & HS-grad            & 9                  & Separated          & Other-service      & Unmarried          & Black              & Female             &    0               & 0                  & 40                 & United-States      & <=50K             \\\\\n",
       "\t 56                 & Private            & 156052             & HS-grad            & 9                  & Widowed            & Other-service      & Unmarried          & Black              & Female             &  594               & 0                  & 20                 & United-States      & <=50K             \\\\\n",
       "\t 23                 & Private            & 153044             & HS-grad            & 9                  & Never-married      & Handlers-cleaners  & Unmarried          & Black              & Female             &    0               & 0                  &  7                 & United-States      & <=50K             \\\\\n",
       "\t 78                 & Private            & 182977             & HS-grad            & 9                  & Widowed            & Other-service      & Not-in-family      & Black              & Female             & 2964               & 0                  & 40                 & United-States      & <=50K             \\\\\n",
       "\t 23                 & ?                  & 184699             & HS-grad            & 9                  & Never-married      & ?                  & Unmarried          & Black              & Female             &    0               & 0                  & 40                 & United-States      & <=50K             \\\\\n",
       "\t 41                 & Private            & 349221             & HS-grad            & 9                  & Never-married      & Craft-repair       & Own-child          & Black              & Female             &    0               & 0                  & 35                 & United-States      & <=50K             \\\\\n",
       "\t 23                 & Private            & 129042             & HS-grad            & 9                  & Never-married      & Machine-op-inspct  & Unmarried          & Black              & Female             &    0               & 0                  & 40                 & United-States      & <=50K             \\\\\n",
       "\t 32                 & Private            & 206365             & HS-grad            & 9                  & Never-married      & Other-service      & Not-in-family      & Black              & Female             &    0               & 0                  & 40                 & United-States      & <=50K             \\\\\n",
       "\t 34                 & Private            & 289984             & HS-grad            & 9                  & Divorced           & Priv-house-serv    & Unmarried          & Black              & Female             &    0               & 0                  & 30                 & United-States      & <=50K             \\\\\n",
       "\t 33                 & Private            & 178506             & HS-grad            & 9                  & Divorced           & Adm-clerical       & Not-in-family      & Black              & Female             &    0               & 0                  & 40                 & United-States      & <=50K             \\\\\n",
       "\t 25                 & Private            & 323545             & HS-grad            & 9                  & Never-married      & Tech-support       & Not-in-family      & Black              & Female             &    0               & 0                  & 40                 & United-States      & <=50K             \\\\\n",
       "\t 29                 & Private            & 419721             & HS-grad            & 9                  & Never-married      & Other-service      & Unmarried          & Black              & Female             &    0               & 0                  & 40                 & Japan              & <=50K             \\\\\n",
       "\t 24                 & Private            & 293579             & HS-grad            & 9                  & Never-married      & Sales              & Own-child          & Black              & Female             &    0               & 0                  & 20                 & United-States      & <=50K             \\\\\n",
       "\t 49                 & Private            & 171301             & HS-grad            & 9                  & Married-civ-spouse & Machine-op-inspct  & Wife               & Black              & Female             &    0               & 0                  & 40                 & United-States      & <=50K             \\\\\n",
       "\t 41                 & Private            & 102332             & HS-grad            & 9                  & Divorced           & Sales              & Unmarried          & Black              & Female             &    0               & 0                  & 40                 & United-States      & <=50K             \\\\\n",
       "\t 19                 & Federal-gov        & 234151             & HS-grad            & 9                  & Never-married      & Adm-clerical       & Unmarried          & Black              & Female             &    0               & 0                  & 40                 & United-States      & <=50K             \\\\\n",
       "\t 42                 & ?                  &  51795             & HS-grad            & 9                  & Divorced           & ?                  & Unmarried          & Black              & Female             &    0               & 0                  & 32                 & United-States      & <=50K             \\\\\n",
       "\t 56                 & Private            & 311249             & HS-grad            & 9                  & Widowed            & Adm-clerical       & Unmarried          & Black              & Female             &    0               & 0                  & 38                 & United-States      & <=50K             \\\\\n",
       "\t 76                 & ?                  & 211453             & HS-grad            & 9                  & Widowed            & ?                  & Not-in-family      & Black              & Female             &    0               & 0                  &  2                 & United-States      & <=50K             \\\\\n",
       "\t ... & ... & ... & ... & ... & ... & ... & ... & ... & ... & ... & ... & ... & ... & ...\\\\\n",
       "\t 37                    & Private               & 148143                & HS-grad               & 9                     & Never-married         & Machine-op-inspct     & Unmarried             & Black                 & Female                & 0                     &    0                  & 40                    & United-States         & <=50K                \\\\\n",
       "\t 51                    & Private               & 182944                & HS-grad               & 9                     & Widowed               & Tech-support          & Unmarried             & Black                 & Female                & 0                     &    0                  & 40                    & United-States         & <=50K                \\\\\n",
       "\t 34                    & ?                     & 362787                & HS-grad               & 9                     & Never-married         & ?                     & Unmarried             & Black                 & Female                & 0                     &    0                  & 35                    & United-States         & <=50K                \\\\\n",
       "\t 41                    & Local-gov             & 174491                & HS-grad               & 9                     & Separated             & Other-service         & Unmarried             & Black                 & Female                & 0                     &    0                  & 40                    & United-States         & <=50K                \\\\\n",
       "\t 35                    & Private               & 220943                & HS-grad               & 9                     & Divorced              & Other-service         & Unmarried             & Black                 & Female                & 0                     & 1594                  & 40                    & United-States         & <=50K                \\\\\n",
       "\t 46                    & Private               & 169324                & HS-grad               & 9                     & Separated             & Other-service         & Not-in-family         & Black                 & Female                & 0                     &    0                  & 45                    & Jamaica               & <=50K                \\\\\n",
       "\t 19                    & Private               & 178811                & HS-grad               & 9                     & Never-married         & Machine-op-inspct     & Own-child             & Black                 & Female                & 0                     &    0                  & 20                    & United-States         & <=50K                \\\\\n",
       "\t 28                    & ?                     & 198393                & HS-grad               & 9                     & Never-married         & ?                     & Not-in-family         & Black                 & Female                & 0                     &    0                  & 40                    & United-States         & <=50K                \\\\\n",
       "\t 54                    & Local-gov             & 127943                & HS-grad               & 9                     & Widowed               & Other-service         & Unmarried             & Black                 & Female                & 0                     &    0                  & 40                    & United-States         & <=50K                \\\\\n",
       "\t 36                    & Private               & 139703                & HS-grad               & 9                     & Never-married         & Adm-clerical          & Not-in-family         & Black                 & Female                & 0                     &    0                  & 40                    & United-States         & <=50K                \\\\\n",
       "\t 27                    & Private               & 247978                & HS-grad               & 9                     & Never-married         & Other-service         & Own-child             & Black                 & Female                & 0                     &    0                  & 40                    & United-States         & <=50K                \\\\\n",
       "\t 42                    & Private               & 191765                & HS-grad               & 9                     & Divorced              & Other-service         & Other-relative        & Black                 & Female                & 0                     &    0                  & 35                    & United-States         & <=50K                \\\\\n",
       "\t 29                    & ?                     & 207032                & HS-grad               & 9                     & Married-spouse-absent & ?                     & Unmarried             & Black                 & Female                & 0                     &    0                  & 42                    & Haiti                 & <=50K                \\\\\n",
       "\t 36                    & Private               & 448337                & HS-grad               & 9                     & Separated             & Sales                 & Unmarried             & Black                 & Female                & 0                     &    0                  & 40                    & United-States         & <=50K                \\\\\n",
       "\t 61                    & Federal-gov           & 181081                & HS-grad               & 9                     & Divorced              & Adm-clerical          & Own-child             & Black                 & Female                & 0                     &    0                  & 20                    & United-States         & <=50K                \\\\\n",
       "\t 28                    & Private               &  90547                & HS-grad               & 9                     & Married-civ-spouse    & Other-service         & Wife                  & Black                 & Female                & 0                     &    0                  & 23                    & United-States         & <=50K                \\\\\n",
       "\t 31                    & Private               & 190027                & HS-grad               & 9                     & Never-married         & Other-service         & Other-relative        & Black                 & Female                & 0                     &    0                  & 40                    & ?                     & <=50K                \\\\\n",
       "\t 24                    & Private               & 175586                & HS-grad               & 9                     & Never-married         & Machine-op-inspct     & Unmarried             & Black                 & Female                & 0                     &    0                  & 40                    & United-States         & <=50K                \\\\\n",
       "\t 37                    & Private               & 232614                & HS-grad               & 9                     & Divorced              & Other-service         & Unmarried             & Black                 & Female                & 0                     &    0                  & 30                    & United-States         & <=50K                \\\\\n",
       "\t 29                    & Private               & 358124                & HS-grad               & 9                     & Never-married         & Other-service         & Other-relative        & Black                 & Female                & 0                     &    0                  & 52                    & United-States         & <=50K                \\\\\n",
       "\t 51                    & ?                     &  43909                & HS-grad               & 9                     & Divorced              & ?                     & Unmarried             & Black                 & Female                & 0                     &    0                  & 40                    & United-States         & <=50K                \\\\\n",
       "\t 42                    & State-gov             & 455553                & HS-grad               & 9                     & Never-married         & Adm-clerical          & Unmarried             & Black                 & Female                & 0                     &    0                  & 40                    & United-States         & <=50K                \\\\\n",
       "\t 30                    & Never-worked          & 176673                & HS-grad               & 9                     & Married-civ-spouse    & ?                     & Wife                  & Black                 & Female                & 0                     &    0                  & 40                    & United-States         & <=50K                \\\\\n",
       "\t 32                    & Private               & 172415                & HS-grad               & 9                     & Never-married         & Other-service         & Unmarried             & Black                 & Female                & 0                     &    0                  & 40                    & United-States         & <=50K                \\\\\n",
       "\t 56                    & Private               & 135458                & HS-grad               & 9                     & Divorced              & Tech-support          & Not-in-family         & Black                 & Female                & 0                     &    0                  & 40                    & United-States         & <=50K                \\\\\n",
       "\t 31                    & Private               & 298995                & HS-grad               & 9                     & Married-civ-spouse    & Other-service         & Wife                  & Black                 & Female                & 0                     &    0                  & 35                    & United-States         & <=50K                \\\\\n",
       "\t 61                    & Private               & 190682                & HS-grad               & 9                     & Widowed               & Craft-repair          & Not-in-family         & Black                 & Female                & 0                     & 1669                  & 50                    & United-States         & <=50K                \\\\\n",
       "\t 53                    & Private               & 158993                & HS-grad               & 9                     & Widowed               & Machine-op-inspct     & Unmarried             & Black                 & Female                & 0                     &    0                  & 38                    & United-States         & <=50K                \\\\\n",
       "\t 33                    & Private               &  63079                & HS-grad               & 9                     & Divorced              & Adm-clerical          & Unmarried             & Black                 & Female                & 0                     &    0                  & 40                    & United-States         & <=50K                \\\\\n",
       "\t 41                    & ?                     & 202822                & HS-grad               & 9                     & Separated             & ?                     & Not-in-family         & Black                 & Female                & 0                     &    0                  & 32                    & United-States         & <=50K                \\\\\n",
       "\\end{tabular}\n"
      ],
      "text/markdown": [
       "\n",
       "Age | workclass | fnlwgt | education | education-num | marital-status | occupation | relationship | race | sex | capital-gain | capital-loss | hours-per-week | native-country | eaning | \n",
       "|---|---|---|---|---|---|---|---|---|---|---|---|---|---|---|---|---|---|---|---|---|---|---|---|---|---|---|---|---|---|---|---|---|---|---|---|---|---|---|---|---|---|---|---|---|---|---|---|---|---|---|---|---|---|---|---|---|---|---|---|---|\n",
       "| 54                 | Private            | 302146             | HS-grad            | 9                  | Separated          | Other-service      | Unmarried          | Black              | Female             |    0               | 0                  | 20                 | United-States      | <=50K              | \n",
       "| 31                 | Private            | 185814             | HS-grad            | 9                  | Never-married      | Transport-moving   | Unmarried          | Black              | Female             |    0               | 0                  | 30                 | United-States      | <=50K              | \n",
       "| 41                 | Private            | 130408             | HS-grad            | 9                  | Divorced           | Sales              | Unmarried          | Black              | Female             |    0               | 0                  | 38                 | United-States      | <=50K              | \n",
       "| 24                 | Private            | 241951             | HS-grad            | 9                  | Never-married      | Handlers-cleaners  | Unmarried          | Black              | Female             |    0               | 0                  | 40                 | United-States      | <=50K              | \n",
       "| 44                 | Private            | 290521             | HS-grad            | 9                  | Widowed            | Exec-managerial    | Unmarried          | Black              | Female             |    0               | 0                  | 40                 | United-States      | <=50K              | \n",
       "| 19                 | Private            | 206399             | HS-grad            | 9                  | Never-married      | Machine-op-inspct  | Own-child          | Black              | Female             |    0               | 0                  | 40                 | United-States      | <=50K              | \n",
       "| 47                 | Local-gov          | 543162             | HS-grad            | 9                  | Separated          | Adm-clerical       | Unmarried          | Black              | Female             |    0               | 0                  | 40                 | United-States      | <=50K              | \n",
       "| 34                 | ?                  | 190027             | HS-grad            | 9                  | Never-married      | ?                  | Unmarried          | Black              | Female             |    0               | 0                  | 40                 | United-States      | <=50K              | \n",
       "| 35                 | Private            | 229328             | HS-grad            | 9                  | Married-civ-spouse | Machine-op-inspct  | Wife               | Black              | Female             |    0               | 0                  | 40                 | United-States      | <=50K              | \n",
       "| 24                 | Private            |  82804             | HS-grad            | 9                  | Never-married      | Handlers-cleaners  | Unmarried          | Black              | Female             |    0               | 0                  | 40                 | United-States      | <=50K              | \n",
       "| 48                 | Private            |  45612             | HS-grad            | 9                  | Never-married      | Adm-clerical       | Unmarried          | Black              | Female             |    0               | 0                  | 37                 | United-States      | <=50K              | \n",
       "| 31                 | Private            | 295697             | HS-grad            | 9                  | Separated          | Other-service      | Unmarried          | Black              | Female             |    0               | 0                  | 40                 | United-States      | <=50K              | \n",
       "| 56                 | Private            | 156052             | HS-grad            | 9                  | Widowed            | Other-service      | Unmarried          | Black              | Female             |  594               | 0                  | 20                 | United-States      | <=50K              | \n",
       "| 23                 | Private            | 153044             | HS-grad            | 9                  | Never-married      | Handlers-cleaners  | Unmarried          | Black              | Female             |    0               | 0                  |  7                 | United-States      | <=50K              | \n",
       "| 78                 | Private            | 182977             | HS-grad            | 9                  | Widowed            | Other-service      | Not-in-family      | Black              | Female             | 2964               | 0                  | 40                 | United-States      | <=50K              | \n",
       "| 23                 | ?                  | 184699             | HS-grad            | 9                  | Never-married      | ?                  | Unmarried          | Black              | Female             |    0               | 0                  | 40                 | United-States      | <=50K              | \n",
       "| 41                 | Private            | 349221             | HS-grad            | 9                  | Never-married      | Craft-repair       | Own-child          | Black              | Female             |    0               | 0                  | 35                 | United-States      | <=50K              | \n",
       "| 23                 | Private            | 129042             | HS-grad            | 9                  | Never-married      | Machine-op-inspct  | Unmarried          | Black              | Female             |    0               | 0                  | 40                 | United-States      | <=50K              | \n",
       "| 32                 | Private            | 206365             | HS-grad            | 9                  | Never-married      | Other-service      | Not-in-family      | Black              | Female             |    0               | 0                  | 40                 | United-States      | <=50K              | \n",
       "| 34                 | Private            | 289984             | HS-grad            | 9                  | Divorced           | Priv-house-serv    | Unmarried          | Black              | Female             |    0               | 0                  | 30                 | United-States      | <=50K              | \n",
       "| 33                 | Private            | 178506             | HS-grad            | 9                  | Divorced           | Adm-clerical       | Not-in-family      | Black              | Female             |    0               | 0                  | 40                 | United-States      | <=50K              | \n",
       "| 25                 | Private            | 323545             | HS-grad            | 9                  | Never-married      | Tech-support       | Not-in-family      | Black              | Female             |    0               | 0                  | 40                 | United-States      | <=50K              | \n",
       "| 29                 | Private            | 419721             | HS-grad            | 9                  | Never-married      | Other-service      | Unmarried          | Black              | Female             |    0               | 0                  | 40                 | Japan              | <=50K              | \n",
       "| 24                 | Private            | 293579             | HS-grad            | 9                  | Never-married      | Sales              | Own-child          | Black              | Female             |    0               | 0                  | 20                 | United-States      | <=50K              | \n",
       "| 49                 | Private            | 171301             | HS-grad            | 9                  | Married-civ-spouse | Machine-op-inspct  | Wife               | Black              | Female             |    0               | 0                  | 40                 | United-States      | <=50K              | \n",
       "| 41                 | Private            | 102332             | HS-grad            | 9                  | Divorced           | Sales              | Unmarried          | Black              | Female             |    0               | 0                  | 40                 | United-States      | <=50K              | \n",
       "| 19                 | Federal-gov        | 234151             | HS-grad            | 9                  | Never-married      | Adm-clerical       | Unmarried          | Black              | Female             |    0               | 0                  | 40                 | United-States      | <=50K              | \n",
       "| 42                 | ?                  |  51795             | HS-grad            | 9                  | Divorced           | ?                  | Unmarried          | Black              | Female             |    0               | 0                  | 32                 | United-States      | <=50K              | \n",
       "| 56                 | Private            | 311249             | HS-grad            | 9                  | Widowed            | Adm-clerical       | Unmarried          | Black              | Female             |    0               | 0                  | 38                 | United-States      | <=50K              | \n",
       "| 76                 | ?                  | 211453             | HS-grad            | 9                  | Widowed            | ?                  | Not-in-family      | Black              | Female             |    0               | 0                  |  2                 | United-States      | <=50K              | \n",
       "| ... | ... | ... | ... | ... | ... | ... | ... | ... | ... | ... | ... | ... | ... | ... | \n",
       "| 37                    | Private               | 148143                | HS-grad               | 9                     | Never-married         | Machine-op-inspct     | Unmarried             | Black                 | Female                | 0                     |    0                  | 40                    | United-States         | <=50K                 | \n",
       "| 51                    | Private               | 182944                | HS-grad               | 9                     | Widowed               | Tech-support          | Unmarried             | Black                 | Female                | 0                     |    0                  | 40                    | United-States         | <=50K                 | \n",
       "| 34                    | ?                     | 362787                | HS-grad               | 9                     | Never-married         | ?                     | Unmarried             | Black                 | Female                | 0                     |    0                  | 35                    | United-States         | <=50K                 | \n",
       "| 41                    | Local-gov             | 174491                | HS-grad               | 9                     | Separated             | Other-service         | Unmarried             | Black                 | Female                | 0                     |    0                  | 40                    | United-States         | <=50K                 | \n",
       "| 35                    | Private               | 220943                | HS-grad               | 9                     | Divorced              | Other-service         | Unmarried             | Black                 | Female                | 0                     | 1594                  | 40                    | United-States         | <=50K                 | \n",
       "| 46                    | Private               | 169324                | HS-grad               | 9                     | Separated             | Other-service         | Not-in-family         | Black                 | Female                | 0                     |    0                  | 45                    | Jamaica               | <=50K                 | \n",
       "| 19                    | Private               | 178811                | HS-grad               | 9                     | Never-married         | Machine-op-inspct     | Own-child             | Black                 | Female                | 0                     |    0                  | 20                    | United-States         | <=50K                 | \n",
       "| 28                    | ?                     | 198393                | HS-grad               | 9                     | Never-married         | ?                     | Not-in-family         | Black                 | Female                | 0                     |    0                  | 40                    | United-States         | <=50K                 | \n",
       "| 54                    | Local-gov             | 127943                | HS-grad               | 9                     | Widowed               | Other-service         | Unmarried             | Black                 | Female                | 0                     |    0                  | 40                    | United-States         | <=50K                 | \n",
       "| 36                    | Private               | 139703                | HS-grad               | 9                     | Never-married         | Adm-clerical          | Not-in-family         | Black                 | Female                | 0                     |    0                  | 40                    | United-States         | <=50K                 | \n",
       "| 27                    | Private               | 247978                | HS-grad               | 9                     | Never-married         | Other-service         | Own-child             | Black                 | Female                | 0                     |    0                  | 40                    | United-States         | <=50K                 | \n",
       "| 42                    | Private               | 191765                | HS-grad               | 9                     | Divorced              | Other-service         | Other-relative        | Black                 | Female                | 0                     |    0                  | 35                    | United-States         | <=50K                 | \n",
       "| 29                    | ?                     | 207032                | HS-grad               | 9                     | Married-spouse-absent | ?                     | Unmarried             | Black                 | Female                | 0                     |    0                  | 42                    | Haiti                 | <=50K                 | \n",
       "| 36                    | Private               | 448337                | HS-grad               | 9                     | Separated             | Sales                 | Unmarried             | Black                 | Female                | 0                     |    0                  | 40                    | United-States         | <=50K                 | \n",
       "| 61                    | Federal-gov           | 181081                | HS-grad               | 9                     | Divorced              | Adm-clerical          | Own-child             | Black                 | Female                | 0                     |    0                  | 20                    | United-States         | <=50K                 | \n",
       "| 28                    | Private               |  90547                | HS-grad               | 9                     | Married-civ-spouse    | Other-service         | Wife                  | Black                 | Female                | 0                     |    0                  | 23                    | United-States         | <=50K                 | \n",
       "| 31                    | Private               | 190027                | HS-grad               | 9                     | Never-married         | Other-service         | Other-relative        | Black                 | Female                | 0                     |    0                  | 40                    | ?                     | <=50K                 | \n",
       "| 24                    | Private               | 175586                | HS-grad               | 9                     | Never-married         | Machine-op-inspct     | Unmarried             | Black                 | Female                | 0                     |    0                  | 40                    | United-States         | <=50K                 | \n",
       "| 37                    | Private               | 232614                | HS-grad               | 9                     | Divorced              | Other-service         | Unmarried             | Black                 | Female                | 0                     |    0                  | 30                    | United-States         | <=50K                 | \n",
       "| 29                    | Private               | 358124                | HS-grad               | 9                     | Never-married         | Other-service         | Other-relative        | Black                 | Female                | 0                     |    0                  | 52                    | United-States         | <=50K                 | \n",
       "| 51                    | ?                     |  43909                | HS-grad               | 9                     | Divorced              | ?                     | Unmarried             | Black                 | Female                | 0                     |    0                  | 40                    | United-States         | <=50K                 | \n",
       "| 42                    | State-gov             | 455553                | HS-grad               | 9                     | Never-married         | Adm-clerical          | Unmarried             | Black                 | Female                | 0                     |    0                  | 40                    | United-States         | <=50K                 | \n",
       "| 30                    | Never-worked          | 176673                | HS-grad               | 9                     | Married-civ-spouse    | ?                     | Wife                  | Black                 | Female                | 0                     |    0                  | 40                    | United-States         | <=50K                 | \n",
       "| 32                    | Private               | 172415                | HS-grad               | 9                     | Never-married         | Other-service         | Unmarried             | Black                 | Female                | 0                     |    0                  | 40                    | United-States         | <=50K                 | \n",
       "| 56                    | Private               | 135458                | HS-grad               | 9                     | Divorced              | Tech-support          | Not-in-family         | Black                 | Female                | 0                     |    0                  | 40                    | United-States         | <=50K                 | \n",
       "| 31                    | Private               | 298995                | HS-grad               | 9                     | Married-civ-spouse    | Other-service         | Wife                  | Black                 | Female                | 0                     |    0                  | 35                    | United-States         | <=50K                 | \n",
       "| 61                    | Private               | 190682                | HS-grad               | 9                     | Widowed               | Craft-repair          | Not-in-family         | Black                 | Female                | 0                     | 1669                  | 50                    | United-States         | <=50K                 | \n",
       "| 53                    | Private               | 158993                | HS-grad               | 9                     | Widowed               | Machine-op-inspct     | Unmarried             | Black                 | Female                | 0                     |    0                  | 38                    | United-States         | <=50K                 | \n",
       "| 33                    | Private               |  63079                | HS-grad               | 9                     | Divorced              | Adm-clerical          | Unmarried             | Black                 | Female                | 0                     |    0                  | 40                    | United-States         | <=50K                 | \n",
       "| 41                    | ?                     | 202822                | HS-grad               | 9                     | Separated             | ?                     | Not-in-family         | Black                 | Female                | 0                     |    0                  | 32                    | United-States         | <=50K                 | \n",
       "\n",
       "\n"
      ],
      "text/plain": [
       "    Age workclass    fnlwgt education education-num marital-status       \n",
       "1   54  Private      302146 HS-grad   9             Separated            \n",
       "2   31  Private      185814 HS-grad   9             Never-married        \n",
       "3   41  Private      130408 HS-grad   9             Divorced             \n",
       "4   24  Private      241951 HS-grad   9             Never-married        \n",
       "5   44  Private      290521 HS-grad   9             Widowed              \n",
       "6   19  Private      206399 HS-grad   9             Never-married        \n",
       "7   47  Local-gov    543162 HS-grad   9             Separated            \n",
       "8   34  ?            190027 HS-grad   9             Never-married        \n",
       "9   35  Private      229328 HS-grad   9             Married-civ-spouse   \n",
       "10  24  Private       82804 HS-grad   9             Never-married        \n",
       "11  48  Private       45612 HS-grad   9             Never-married        \n",
       "12  31  Private      295697 HS-grad   9             Separated            \n",
       "13  56  Private      156052 HS-grad   9             Widowed              \n",
       "14  23  Private      153044 HS-grad   9             Never-married        \n",
       "15  78  Private      182977 HS-grad   9             Widowed              \n",
       "16  23  ?            184699 HS-grad   9             Never-married        \n",
       "17  41  Private      349221 HS-grad   9             Never-married        \n",
       "18  23  Private      129042 HS-grad   9             Never-married        \n",
       "19  32  Private      206365 HS-grad   9             Never-married        \n",
       "20  34  Private      289984 HS-grad   9             Divorced             \n",
       "21  33  Private      178506 HS-grad   9             Divorced             \n",
       "22  25  Private      323545 HS-grad   9             Never-married        \n",
       "23  29  Private      419721 HS-grad   9             Never-married        \n",
       "24  24  Private      293579 HS-grad   9             Never-married        \n",
       "25  49  Private      171301 HS-grad   9             Married-civ-spouse   \n",
       "26  41  Private      102332 HS-grad   9             Divorced             \n",
       "27  19  Federal-gov  234151 HS-grad   9             Never-married        \n",
       "28  42  ?             51795 HS-grad   9             Divorced             \n",
       "29  56  Private      311249 HS-grad   9             Widowed              \n",
       "30  76  ?            211453 HS-grad   9             Widowed              \n",
       "... ... ...          ...    ...       ...           ...                  \n",
       "540 37  Private      148143 HS-grad   9             Never-married        \n",
       "541 51  Private      182944 HS-grad   9             Widowed              \n",
       "542 34  ?            362787 HS-grad   9             Never-married        \n",
       "543 41  Local-gov    174491 HS-grad   9             Separated            \n",
       "544 35  Private      220943 HS-grad   9             Divorced             \n",
       "545 46  Private      169324 HS-grad   9             Separated            \n",
       "546 19  Private      178811 HS-grad   9             Never-married        \n",
       "547 28  ?            198393 HS-grad   9             Never-married        \n",
       "548 54  Local-gov    127943 HS-grad   9             Widowed              \n",
       "549 36  Private      139703 HS-grad   9             Never-married        \n",
       "550 27  Private      247978 HS-grad   9             Never-married        \n",
       "551 42  Private      191765 HS-grad   9             Divorced             \n",
       "552 29  ?            207032 HS-grad   9             Married-spouse-absent\n",
       "553 36  Private      448337 HS-grad   9             Separated            \n",
       "554 61  Federal-gov  181081 HS-grad   9             Divorced             \n",
       "555 28  Private       90547 HS-grad   9             Married-civ-spouse   \n",
       "556 31  Private      190027 HS-grad   9             Never-married        \n",
       "557 24  Private      175586 HS-grad   9             Never-married        \n",
       "558 37  Private      232614 HS-grad   9             Divorced             \n",
       "559 29  Private      358124 HS-grad   9             Never-married        \n",
       "560 51  ?             43909 HS-grad   9             Divorced             \n",
       "561 42  State-gov    455553 HS-grad   9             Never-married        \n",
       "562 30  Never-worked 176673 HS-grad   9             Married-civ-spouse   \n",
       "563 32  Private      172415 HS-grad   9             Never-married        \n",
       "564 56  Private      135458 HS-grad   9             Divorced             \n",
       "565 31  Private      298995 HS-grad   9             Married-civ-spouse   \n",
       "566 61  Private      190682 HS-grad   9             Widowed              \n",
       "567 53  Private      158993 HS-grad   9             Widowed              \n",
       "568 33  Private       63079 HS-grad   9             Divorced             \n",
       "569 41  ?            202822 HS-grad   9             Separated            \n",
       "    occupation        relationship   race  sex    capital-gain capital-loss\n",
       "1   Other-service     Unmarried      Black Female    0         0           \n",
       "2   Transport-moving  Unmarried      Black Female    0         0           \n",
       "3   Sales             Unmarried      Black Female    0         0           \n",
       "4   Handlers-cleaners Unmarried      Black Female    0         0           \n",
       "5   Exec-managerial   Unmarried      Black Female    0         0           \n",
       "6   Machine-op-inspct Own-child      Black Female    0         0           \n",
       "7   Adm-clerical      Unmarried      Black Female    0         0           \n",
       "8   ?                 Unmarried      Black Female    0         0           \n",
       "9   Machine-op-inspct Wife           Black Female    0         0           \n",
       "10  Handlers-cleaners Unmarried      Black Female    0         0           \n",
       "11  Adm-clerical      Unmarried      Black Female    0         0           \n",
       "12  Other-service     Unmarried      Black Female    0         0           \n",
       "13  Other-service     Unmarried      Black Female  594         0           \n",
       "14  Handlers-cleaners Unmarried      Black Female    0         0           \n",
       "15  Other-service     Not-in-family  Black Female 2964         0           \n",
       "16  ?                 Unmarried      Black Female    0         0           \n",
       "17  Craft-repair      Own-child      Black Female    0         0           \n",
       "18  Machine-op-inspct Unmarried      Black Female    0         0           \n",
       "19  Other-service     Not-in-family  Black Female    0         0           \n",
       "20  Priv-house-serv   Unmarried      Black Female    0         0           \n",
       "21  Adm-clerical      Not-in-family  Black Female    0         0           \n",
       "22  Tech-support      Not-in-family  Black Female    0         0           \n",
       "23  Other-service     Unmarried      Black Female    0         0           \n",
       "24  Sales             Own-child      Black Female    0         0           \n",
       "25  Machine-op-inspct Wife           Black Female    0         0           \n",
       "26  Sales             Unmarried      Black Female    0         0           \n",
       "27  Adm-clerical      Unmarried      Black Female    0         0           \n",
       "28  ?                 Unmarried      Black Female    0         0           \n",
       "29  Adm-clerical      Unmarried      Black Female    0         0           \n",
       "30  ?                 Not-in-family  Black Female    0         0           \n",
       "... ...               ...            ...   ...    ...          ...         \n",
       "540 Machine-op-inspct Unmarried      Black Female 0               0        \n",
       "541 Tech-support      Unmarried      Black Female 0               0        \n",
       "542 ?                 Unmarried      Black Female 0               0        \n",
       "543 Other-service     Unmarried      Black Female 0               0        \n",
       "544 Other-service     Unmarried      Black Female 0            1594        \n",
       "545 Other-service     Not-in-family  Black Female 0               0        \n",
       "546 Machine-op-inspct Own-child      Black Female 0               0        \n",
       "547 ?                 Not-in-family  Black Female 0               0        \n",
       "548 Other-service     Unmarried      Black Female 0               0        \n",
       "549 Adm-clerical      Not-in-family  Black Female 0               0        \n",
       "550 Other-service     Own-child      Black Female 0               0        \n",
       "551 Other-service     Other-relative Black Female 0               0        \n",
       "552 ?                 Unmarried      Black Female 0               0        \n",
       "553 Sales             Unmarried      Black Female 0               0        \n",
       "554 Adm-clerical      Own-child      Black Female 0               0        \n",
       "555 Other-service     Wife           Black Female 0               0        \n",
       "556 Other-service     Other-relative Black Female 0               0        \n",
       "557 Machine-op-inspct Unmarried      Black Female 0               0        \n",
       "558 Other-service     Unmarried      Black Female 0               0        \n",
       "559 Other-service     Other-relative Black Female 0               0        \n",
       "560 ?                 Unmarried      Black Female 0               0        \n",
       "561 Adm-clerical      Unmarried      Black Female 0               0        \n",
       "562 ?                 Wife           Black Female 0               0        \n",
       "563 Other-service     Unmarried      Black Female 0               0        \n",
       "564 Tech-support      Not-in-family  Black Female 0               0        \n",
       "565 Other-service     Wife           Black Female 0               0        \n",
       "566 Craft-repair      Not-in-family  Black Female 0            1669        \n",
       "567 Machine-op-inspct Unmarried      Black Female 0               0        \n",
       "568 Adm-clerical      Unmarried      Black Female 0               0        \n",
       "569 ?                 Not-in-family  Black Female 0               0        \n",
       "    hours-per-week native-country eaning\n",
       "1   20             United-States  <=50K \n",
       "2   30             United-States  <=50K \n",
       "3   38             United-States  <=50K \n",
       "4   40             United-States  <=50K \n",
       "5   40             United-States  <=50K \n",
       "6   40             United-States  <=50K \n",
       "7   40             United-States  <=50K \n",
       "8   40             United-States  <=50K \n",
       "9   40             United-States  <=50K \n",
       "10  40             United-States  <=50K \n",
       "11  37             United-States  <=50K \n",
       "12  40             United-States  <=50K \n",
       "13  20             United-States  <=50K \n",
       "14   7             United-States  <=50K \n",
       "15  40             United-States  <=50K \n",
       "16  40             United-States  <=50K \n",
       "17  35             United-States  <=50K \n",
       "18  40             United-States  <=50K \n",
       "19  40             United-States  <=50K \n",
       "20  30             United-States  <=50K \n",
       "21  40             United-States  <=50K \n",
       "22  40             United-States  <=50K \n",
       "23  40             Japan          <=50K \n",
       "24  20             United-States  <=50K \n",
       "25  40             United-States  <=50K \n",
       "26  40             United-States  <=50K \n",
       "27  40             United-States  <=50K \n",
       "28  32             United-States  <=50K \n",
       "29  38             United-States  <=50K \n",
       "30   2             United-States  <=50K \n",
       "... ...            ...            ...   \n",
       "540 40             United-States  <=50K \n",
       "541 40             United-States  <=50K \n",
       "542 35             United-States  <=50K \n",
       "543 40             United-States  <=50K \n",
       "544 40             United-States  <=50K \n",
       "545 45             Jamaica        <=50K \n",
       "546 20             United-States  <=50K \n",
       "547 40             United-States  <=50K \n",
       "548 40             United-States  <=50K \n",
       "549 40             United-States  <=50K \n",
       "550 40             United-States  <=50K \n",
       "551 35             United-States  <=50K \n",
       "552 42             Haiti          <=50K \n",
       "553 40             United-States  <=50K \n",
       "554 20             United-States  <=50K \n",
       "555 23             United-States  <=50K \n",
       "556 40             ?              <=50K \n",
       "557 40             United-States  <=50K \n",
       "558 30             United-States  <=50K \n",
       "559 52             United-States  <=50K \n",
       "560 40             United-States  <=50K \n",
       "561 40             United-States  <=50K \n",
       "562 40             United-States  <=50K \n",
       "563 40             United-States  <=50K \n",
       "564 40             United-States  <=50K \n",
       "565 35             United-States  <=50K \n",
       "566 50             United-States  <=50K \n",
       "567 38             United-States  <=50K \n",
       "568 40             United-States  <=50K \n",
       "569 32             United-States  <=50K "
      ]
     },
     "metadata": {},
     "output_type": "display_data"
    }
   ],
   "source": [
    "filter(txtData, `education-num` == 9 & sex == \"Female\" & race == \"Black\")"
   ]
  },
  {
   "cell_type": "markdown",
   "metadata": {},
   "source": [
    "<div class=\"alert alert-success\"></i><strong>1.5 arrange()</strong>\n",
    " </div>\n",
    "The arrange() function takes two main arguments: the name of the dataframe, and the column(s) one wishes to re-order.\n",
    "Note: Results returned are in acesending order."
   ]
  },
  {
   "cell_type": "code",
   "execution_count": 27,
   "metadata": {},
   "outputs": [
    {
     "data": {
      "text/html": [
       "<table>\n",
       "<thead><tr><th scope=col>school</th><th scope=col>senior_students_age</th><th scope=col>junior_students_age</th></tr></thead>\n",
       "<tbody>\n",
       "\t<tr><td>Goodwind  </td><td>20        </td><td>15        </td></tr>\n",
       "\t<tr><td>High_grade</td><td>23        </td><td>14        </td></tr>\n",
       "\t<tr><td>High_grade</td><td>21        </td><td>12        </td></tr>\n",
       "\t<tr><td>Windrush  </td><td>22        </td><td>NA        </td></tr>\n",
       "</tbody>\n",
       "</table>\n"
      ],
      "text/latex": [
       "\\begin{tabular}{r|lll}\n",
       " school & senior\\_students\\_age & junior\\_students\\_age\\\\\n",
       "\\hline\n",
       "\t Goodwind   & 20         & 15        \\\\\n",
       "\t High\\_grade & 23           & 14          \\\\\n",
       "\t High\\_grade & 21           & 12          \\\\\n",
       "\t Windrush   & 22         & NA        \\\\\n",
       "\\end{tabular}\n"
      ],
      "text/markdown": [
       "\n",
       "school | senior_students_age | junior_students_age | \n",
       "|---|---|---|---|\n",
       "| Goodwind   | 20         | 15         | \n",
       "| High_grade | 23         | 14         | \n",
       "| High_grade | 21         | 12         | \n",
       "| Windrush   | 22         | NA         | \n",
       "\n",
       "\n"
      ],
      "text/plain": [
       "  school     senior_students_age junior_students_age\n",
       "1 Goodwind   20                  15                 \n",
       "2 High_grade 23                  14                 \n",
       "3 High_grade 21                  12                 \n",
       "4 Windrush   22                  NA                 "
      ]
     },
     "metadata": {},
     "output_type": "display_data"
    }
   ],
   "source": [
    "sample_data"
   ]
  },
  {
   "cell_type": "code",
   "execution_count": 28,
   "metadata": {},
   "outputs": [
    {
     "data": {
      "text/html": [
       "<table>\n",
       "<thead><tr><th scope=col>school</th><th scope=col>senior_students_age</th><th scope=col>junior_students_age</th></tr></thead>\n",
       "<tbody>\n",
       "\t<tr><td>Goodwind  </td><td>20        </td><td>15        </td></tr>\n",
       "\t<tr><td>High_grade</td><td>21        </td><td>12        </td></tr>\n",
       "\t<tr><td>Windrush  </td><td>22        </td><td>NA        </td></tr>\n",
       "\t<tr><td>High_grade</td><td>23        </td><td>14        </td></tr>\n",
       "</tbody>\n",
       "</table>\n"
      ],
      "text/latex": [
       "\\begin{tabular}{r|lll}\n",
       " school & senior\\_students\\_age & junior\\_students\\_age\\\\\n",
       "\\hline\n",
       "\t Goodwind   & 20         & 15        \\\\\n",
       "\t High\\_grade & 21           & 12          \\\\\n",
       "\t Windrush   & 22         & NA        \\\\\n",
       "\t High\\_grade & 23           & 14          \\\\\n",
       "\\end{tabular}\n"
      ],
      "text/markdown": [
       "\n",
       "school | senior_students_age | junior_students_age | \n",
       "|---|---|---|---|\n",
       "| Goodwind   | 20         | 15         | \n",
       "| High_grade | 21         | 12         | \n",
       "| Windrush   | 22         | NA         | \n",
       "| High_grade | 23         | 14         | \n",
       "\n",
       "\n"
      ],
      "text/plain": [
       "  school     senior_students_age junior_students_age\n",
       "1 Goodwind   20                  15                 \n",
       "2 High_grade 21                  12                 \n",
       "3 Windrush   22                  NA                 \n",
       "4 High_grade 23                  14                 "
      ]
     },
     "metadata": {},
     "output_type": "display_data"
    }
   ],
   "source": [
    "arrange(sample_data, senior_students_age)"
   ]
  },
  {
   "cell_type": "code",
   "execution_count": 29,
   "metadata": {},
   "outputs": [
    {
     "data": {
      "text/html": [
       "<table>\n",
       "<thead><tr><th scope=col>school</th><th scope=col>senior_students_age</th><th scope=col>junior_students_age</th></tr></thead>\n",
       "<tbody>\n",
       "\t<tr><td>High_grade</td><td>23        </td><td>14        </td></tr>\n",
       "\t<tr><td>Windrush  </td><td>22        </td><td>NA        </td></tr>\n",
       "\t<tr><td>High_grade</td><td>21        </td><td>12        </td></tr>\n",
       "\t<tr><td>Goodwind  </td><td>20        </td><td>15        </td></tr>\n",
       "</tbody>\n",
       "</table>\n"
      ],
      "text/latex": [
       "\\begin{tabular}{r|lll}\n",
       " school & senior\\_students\\_age & junior\\_students\\_age\\\\\n",
       "\\hline\n",
       "\t High\\_grade & 23           & 14          \\\\\n",
       "\t Windrush   & 22         & NA        \\\\\n",
       "\t High\\_grade & 21           & 12          \\\\\n",
       "\t Goodwind   & 20         & 15        \\\\\n",
       "\\end{tabular}\n"
      ],
      "text/markdown": [
       "\n",
       "school | senior_students_age | junior_students_age | \n",
       "|---|---|---|---|\n",
       "| High_grade | 23         | 14         | \n",
       "| Windrush   | 22         | NA         | \n",
       "| High_grade | 21         | 12         | \n",
       "| Goodwind   | 20         | 15         | \n",
       "\n",
       "\n"
      ],
      "text/plain": [
       "  school     senior_students_age junior_students_age\n",
       "1 High_grade 23                  14                 \n",
       "2 Windrush   22                  NA                 \n",
       "3 High_grade 21                  12                 \n",
       "4 Goodwind   20                  15                 "
      ]
     },
     "metadata": {},
     "output_type": "display_data"
    }
   ],
   "source": [
    "arrange(sample_data, desc(senior_students_age))"
   ]
  },
  {
   "cell_type": "markdown",
   "metadata": {},
   "source": [
    "dplyr provides several helpful aggregate functions\n",
    "first(x) - The first element of vector x.\n",
    "last(x) - The last element of vector x.\n",
    "nth(x, n) - The nth element of vector x.\n",
    "n() - The number of rows in the data.frame or group of observations that summarize() describes.\n",
    "n_distinct(x) - The number of unique values in vector x."
   ]
  },
  {
   "cell_type": "code",
   "execution_count": 30,
   "metadata": {},
   "outputs": [
    {
     "data": {
      "text/html": [
       "<table>\n",
       "<thead><tr><th scope=col>number_records</th><th scope=col>distinct_school_count</th></tr></thead>\n",
       "<tbody>\n",
       "\t<tr><td>4</td><td>3</td></tr>\n",
       "</tbody>\n",
       "</table>\n"
      ],
      "text/latex": [
       "\\begin{tabular}{r|ll}\n",
       " number\\_records & distinct\\_school\\_count\\\\\n",
       "\\hline\n",
       "\t 4 & 3\\\\\n",
       "\\end{tabular}\n"
      ],
      "text/markdown": [
       "\n",
       "number_records | distinct_school_count | \n",
       "|---|\n",
       "| 4 | 3 | \n",
       "\n",
       "\n"
      ],
      "text/plain": [
       "  number_records distinct_school_count\n",
       "1 4              3                    "
      ]
     },
     "metadata": {},
     "output_type": "display_data"
    }
   ],
   "source": [
    "# Generate summarizing statistics\n",
    "summarize(sample_data, \n",
    "          number_records = n(), \n",
    "          distinct_school_count = n_distinct(school))"
   ]
  },
  {
   "cell_type": "code",
   "execution_count": 31,
   "metadata": {},
   "outputs": [
    {
     "data": {
      "text/html": [
       "<table>\n",
       "<thead><tr><th scope=col>number_records</th><th scope=col>senior_students_age_sum</th><th scope=col>senior_students_mean_age</th></tr></thead>\n",
       "<tbody>\n",
       "\t<tr><td>2 </td><td>44</td><td>22</td></tr>\n",
       "</tbody>\n",
       "</table>\n"
      ],
      "text/latex": [
       "\\begin{tabular}{r|lll}\n",
       " number\\_records & senior\\_students\\_age\\_sum & senior\\_students\\_mean\\_age\\\\\n",
       "\\hline\n",
       "\t 2  & 44 & 22\\\\\n",
       "\\end{tabular}\n"
      ],
      "text/markdown": [
       "\n",
       "number_records | senior_students_age_sum | senior_students_mean_age | \n",
       "|---|\n",
       "| 2  | 44 | 22 | \n",
       "\n",
       "\n"
      ],
      "text/plain": [
       "  number_records senior_students_age_sum senior_students_mean_age\n",
       "1 2              44                      22                      "
      ]
     },
     "metadata": {},
     "output_type": "display_data"
    }
   ],
   "source": [
    "High_grade_Analysis <- filter(sample_data, school == \"High_grade\")\n",
    "\n",
    "# Generate summarizing statistics\n",
    "summarize(High_grade_Analysis, \n",
    "          number_records = n(), \n",
    "          senior_students_age_sum = sum(senior_students_age),\n",
    "          senior_students_mean_age = mean(senior_students_age))"
   ]
  },
  {
   "cell_type": "markdown",
   "metadata": {},
   "source": [
    "<div class=\"alert alert-danger\"></i><i class=\"icon-attention-alt\"></i>**Try it out!**<br>Run the code above but this time replace senior_students_age with junior_students_age.<br>"
   ]
  },
  {
   "cell_type": "code",
   "execution_count": 34,
   "metadata": {},
   "outputs": [
    {
     "data": {
      "text/html": [
       "<table>\n",
       "<thead><tr><th scope=col>workclass</th><th scope=col>Age</th><th scope=col>hrs_workedper_week</th></tr></thead>\n",
       "<tbody>\n",
       "\t<tr><td>Never-worked    </td><td>20.57143        </td><td>28.42857        </td></tr>\n",
       "\t<tr><td>Private         </td><td>36.79759        </td><td>40.26710        </td></tr>\n",
       "\t<tr><td>State-gov       </td><td>39.43606        </td><td>39.03159        </td></tr>\n",
       "\t<tr><td>?               </td><td>40.96024        </td><td>31.91939        </td></tr>\n",
       "\t<tr><td>Local-gov       </td><td>41.75108        </td><td>40.98280        </td></tr>\n",
       "\t<tr><td>Federal-gov     </td><td>42.59063        </td><td>41.37917        </td></tr>\n",
       "\t<tr><td>Self-emp-not-inc</td><td>44.96970        </td><td>44.42188        </td></tr>\n",
       "\t<tr><td>Self-emp-inc    </td><td>46.01703        </td><td>48.81810        </td></tr>\n",
       "\t<tr><td>Without-pay     </td><td>47.78571        </td><td>32.71429        </td></tr>\n",
       "</tbody>\n",
       "</table>\n"
      ],
      "text/latex": [
       "\\begin{tabular}{r|lll}\n",
       " workclass & Age & hrs\\_workedper\\_week\\\\\n",
       "\\hline\n",
       "\t Never-worked     & 20.57143         & 28.42857        \\\\\n",
       "\t Private          & 36.79759         & 40.26710        \\\\\n",
       "\t State-gov        & 39.43606         & 39.03159        \\\\\n",
       "\t ?                & 40.96024         & 31.91939        \\\\\n",
       "\t Local-gov        & 41.75108         & 40.98280        \\\\\n",
       "\t Federal-gov      & 42.59063         & 41.37917        \\\\\n",
       "\t Self-emp-not-inc & 44.96970         & 44.42188        \\\\\n",
       "\t Self-emp-inc     & 46.01703         & 48.81810        \\\\\n",
       "\t Without-pay      & 47.78571         & 32.71429        \\\\\n",
       "\\end{tabular}\n"
      ],
      "text/markdown": [
       "\n",
       "workclass | Age | hrs_workedper_week | \n",
       "|---|---|---|---|---|---|---|---|---|\n",
       "| Never-worked     | 20.57143         | 28.42857         | \n",
       "| Private          | 36.79759         | 40.26710         | \n",
       "| State-gov        | 39.43606         | 39.03159         | \n",
       "| ?                | 40.96024         | 31.91939         | \n",
       "| Local-gov        | 41.75108         | 40.98280         | \n",
       "| Federal-gov      | 42.59063         | 41.37917         | \n",
       "| Self-emp-not-inc | 44.96970         | 44.42188         | \n",
       "| Self-emp-inc     | 46.01703         | 48.81810         | \n",
       "| Without-pay      | 47.78571         | 32.71429         | \n",
       "\n",
       "\n"
      ],
      "text/plain": [
       "  workclass        Age      hrs_workedper_week\n",
       "1 Never-worked     20.57143 28.42857          \n",
       "2 Private          36.79759 40.26710          \n",
       "3 State-gov        39.43606 39.03159          \n",
       "4 ?                40.96024 31.91939          \n",
       "5 Local-gov        41.75108 40.98280          \n",
       "6 Federal-gov      42.59063 41.37917          \n",
       "7 Self-emp-not-inc 44.96970 44.42188          \n",
       "8 Self-emp-inc     46.01703 48.81810          \n",
       "9 Without-pay      47.78571 32.71429          "
      ]
     },
     "metadata": {},
     "output_type": "display_data"
    }
   ],
   "source": [
    "#Group_by()\n",
    "\n",
    "txtData %>%\n",
    "   group_by(workclass) %>%\n",
    "   summarize(\n",
    "     Age = mean(Age, na.rm = TRUE), \n",
    "     hrs_workedper_week = mean(`hours-per-week`, na.rm = TRUE)\n",
    "   ) %>%\n",
    "   arrange(Age, hrs_workedper_week)"
   ]
  },
  {
   "cell_type": "code",
   "execution_count": null,
   "metadata": {},
   "outputs": [],
   "source": [
    "# This code is optional as database configuration is required to run it.\n",
    "\n",
    "# Connecting Database\n",
    "library(RODBC) # this packages is required to for connecting to the database\n",
    "library(dplyr)\n",
    "\n",
    "# The first argument is the name given to your odbc driver,\n",
    "# followed by your database connection id and password\n",
    "con <- odbcConnect(\"CFTdemo\", uid = \"seiya\", pwd=\"\")\n",
    "\n",
    "# Query the database using native sql\n",
    "sqlQuery(con, \"select * from Employees\") %>%\n",
    "group_by(Gender) %>%\n",
    "summarize(n_Gender = n(), avg_salary = mean(Salary, na.rm = TRUE)) %>%\n",
    "arrange(avg_salary)"
   ]
  },
  {
   "cell_type": "markdown",
   "metadata": {},
   "source": [
    "<div class=\"alert alert-success\"></i><strong>1.0 Control structures</strong><br><br>Control structures in R gives R the flexibiliy to control the flow of execution of a series of R expressions.<br>\n",
    "Commonly used control structures in R are:\n",
    "<ul>\n",
    "    <li>if and else: Used for testing a condition and acting on it</li>\n",
    "    <li>for: Required to execute a loop a fixed number of times</li>\n",
    "    <li>while: Required to execute some block of code continuously until a condition is met</li>\n",
    "    <li>break: Used to break the execution of a loop</li>\n",
    "    <li>next: Used to skip an iteration of a loop</li>\n",
    "    </ul>\n",
    " </div>"
   ]
  },
  {
   "cell_type": "markdown",
   "metadata": {},
   "source": [
    "<div class=\"alert alert-success\"></i><strong>1.1 if-else</strong><br>\n",
    "if-else control structure is one of the most commonly used in programming.This structure allows one to test a condition if it returns true or false and act on it accordinly.The general format of an if and else as well as an if-else statement is given below."
   ]
  },
  {
   "cell_type": "code",
   "execution_count": null,
   "metadata": {},
   "outputs": [],
   "source": [
    "# if and else statement\n",
    "if(<condition>) {\n",
    "    ## do something\n",
    "    } else {\n",
    "    ## do something else\n",
    "}"
   ]
  },
  {
   "cell_type": "code",
   "execution_count": 40,
   "metadata": {},
   "outputs": [
    {
     "name": "stdout",
     "output_type": "stream",
     "text": [
      "[1] \"Number 20 is even\"\n"
     ]
    }
   ],
   "source": [
    "# Example of if and else statement\n",
    "x <- 20\n",
    "if (x %% 2 == 0){\n",
    "    print(paste(\"Number\", x, \"is even\")) ## do something\n",
    "    } else{\n",
    "    print(paste(\"Number\", x, \"is Not even\")) ## do something else\n",
    "    \n",
    "}"
   ]
  },
  {
   "cell_type": "markdown",
   "metadata": {},
   "source": [
    "<div class=\"alert alert-info\"><i class=\"icon-lightbulb\"></i><strong>Discussion</strong><br>\n",
    "We just used a function called paste above, what would our output be if we replace paste with paste0?"
   ]
  },
  {
   "cell_type": "code",
   "execution_count": null,
   "metadata": {},
   "outputs": [],
   "source": [
    "# General format of an if-else conditinal statement\n",
    "if(<condition1>) {\n",
    "   ## do something\n",
    "  } else if(<condition2>) {\n",
    "  ## do something different\n",
    "    } else {\n",
    "  ## do something very different\n",
    "}"
   ]
  },
  {
   "cell_type": "code",
   "execution_count": null,
   "metadata": {},
   "outputs": [],
   "source": [
    "# Example of if-else statement\n",
    "Age <- as.integer(readline(prompt=\"Enter your age: \")) # prompt for text input\n",
    "if (Age < 13){\n",
    "    print(paste(\"A\", Age, \"years old is a child\")) ## do something\n",
    "    \n",
    "    } else if(Age < 20){\n",
    "    print(paste(\"A\", Age, \"years old is a teenager,\")) ## do something else\n",
    "    \n",
    "   } else {\n",
    "    print(paste(\"A\", Age, \"years old is an adult,\")) ## do something very different\n",
    "}"
   ]
  },
  {
   "cell_type": "markdown",
   "metadata": {},
   "source": [
    "<div class=\"alert alert-success\"></i><strong>1.2 for loops</strong><br>\n",
    "for loops are commonly used for iterating over elements of an object and it made up of three parts\n",
    "the sequence,body and the output."
   ]
  },
  {
   "cell_type": "code",
   "execution_count": null,
   "metadata": {},
   "outputs": [],
   "source": [
    "# Example of for loop\n",
    "x <- c(\"a\", \"b\", \"c\", \"d\")\n",
    "for(i in x) {\n",
    "    ## Print out each element of 'x'\n",
    "    print(i)\n",
    "}"
   ]
  },
  {
   "cell_type": "code",
   "execution_count": 13,
   "metadata": {},
   "outputs": [
    {
     "name": "stdout",
     "output_type": "stream",
     "text": [
      "[1] 4\n",
      "[1] 8\n"
     ]
    },
    {
     "ename": "ERROR",
     "evalue": "Error in list_of_numbers[[i]]: subscript out of bounds\n",
     "output_type": "error",
     "traceback": [
      "Error in list_of_numbers[[i]]: subscript out of bounds\nTraceback:\n",
      "1. print(list_of_numbers[[i]])"
     ]
    }
   ],
   "source": [
    "#try it\n",
    "list_of_numbers <- list(2,4,7,8,9,10)\n",
    "\n",
    "for (i in list_of_numbers){\n",
    "    print(list_of_numbers[[i]])\n",
    "}"
   ]
  },
  {
   "cell_type": "code",
   "execution_count": 4,
   "metadata": {},
   "outputs": [
    {
     "data": {
      "text/html": [
       "6"
      ],
      "text/latex": [
       "6"
      ],
      "text/markdown": [
       "6"
      ],
      "text/plain": [
       "[1] 6"
      ]
     },
     "metadata": {},
     "output_type": "display_data"
    }
   ],
   "source": [
    "length(list_of_numbers)"
   ]
  },
  {
   "cell_type": "code",
   "execution_count": 7,
   "metadata": {},
   "outputs": [
    {
     "name": "stdout",
     "output_type": "stream",
     "text": [
      "[1] \"Number 1 is Not even\"\n",
      "[1] \"Number 2 is even\"\n",
      "[1] \"Number 3 is Not even\"\n",
      "[1] \"Number 4 is even\"\n",
      "[1] \"Number 5 is Not even\"\n"
     ]
    }
   ],
   "source": [
    "# Example of a for loop with if-else statements\n",
    "numbers = 1:5\n",
    "for(k in 1:length(numbers)){\n",
    "    \n",
    "        if (numbers[k] %% 2 == 0){\n",
    "            print(paste(\"Number\", numbers[k], \"is even\")) ## do something\n",
    "        }else {\n",
    "            print(paste(\"Number\", numbers[k], \"is Not even\")) ## do something else\n",
    "    }\n",
    "}"
   ]
  },
  {
   "cell_type": "code",
   "execution_count": 10,
   "metadata": {},
   "outputs": [
    {
     "data": {
      "text/html": [
       "<table>\n",
       "<thead><tr><th scope=col>Age</th><th scope=col>test_score</th><th scope=col>name</th></tr></thead>\n",
       "<tbody>\n",
       "\t<tr><td>90</td><td>70</td><td>A </td></tr>\n",
       "\t<tr><td>13</td><td>30</td><td>B </td></tr>\n",
       "\t<tr><td>18</td><td>18</td><td>C </td></tr>\n",
       "\t<tr><td>15</td><td>17</td><td>D </td></tr>\n",
       "</tbody>\n",
       "</table>\n"
      ],
      "text/latex": [
       "\\begin{tabular}{r|lll}\n",
       " Age & test\\_score & name\\\\\n",
       "\\hline\n",
       "\t 90 & 70 & A \\\\\n",
       "\t 13 & 30 & B \\\\\n",
       "\t 18 & 18 & C \\\\\n",
       "\t 15 & 17 & D \\\\\n",
       "\\end{tabular}\n"
      ],
      "text/markdown": [
       "\n",
       "Age | test_score | name | \n",
       "|---|---|---|---|\n",
       "| 90 | 70 | A  | \n",
       "| 13 | 30 | B  | \n",
       "| 18 | 18 | C  | \n",
       "| 15 | 17 | D  | \n",
       "\n",
       "\n"
      ],
      "text/plain": [
       "  Age test_score name\n",
       "1 90  70         A   \n",
       "2 13  30         B   \n",
       "3 18  18         C   \n",
       "4 15  17         D   "
      ]
     },
     "metadata": {},
     "output_type": "display_data"
    },
    {
     "name": "stdout",
     "output_type": "stream",
     "text": [
      "[1] 34\n",
      "[1] 33.75\n"
     ]
    },
    {
     "name": "stderr",
     "output_type": "stream",
     "text": [
      "Warning message in mean.default(dataframe[[i]]):\n",
      "\"argument is not numeric or logical: returning NA\""
     ]
    },
    {
     "name": "stdout",
     "output_type": "stream",
     "text": [
      "[1] NA\n"
     ]
    }
   ],
   "source": [
    "# Example of a for loop: compute the mean of columns in a dataframe\n",
    "dataframe <- data.frame(Age = c(90,13,18,15), test_score = c(70,30,18, 17), name =LETTERS[1:4])\n",
    "dataframe\n",
    "\n",
    "for(i in 1 :ncol(dataframe)){\n",
    "    print(mean(dataframe[[i]]))\n",
    "}"
   ]
  },
  {
   "cell_type": "code",
   "execution_count": null,
   "metadata": {},
   "outputs": [],
   "source": [
    "# From the above code we see that an error warning was raised\n",
    "# this is because of the data frane fields is character instead of numeric\n",
    "# as the mean was calculated. To solve this issue, we will check if a field \n",
    "# is does hold numeric value before we evaluate the mean.\n",
    "\n",
    "output <- vector(\"double\", ncol(dataframe))\n",
    "\n",
    "for (i in 1 :ncol(dataframe)) {\n",
    "    if (class(dataframe[[i]]) == \"numeric\"){\n",
    "  # Change code to store result in output\n",
    "  output[[i]] <- mean(dataframe[[i]])\n",
    "        }\n",
    "}\n",
    "\n",
    "# Print output\n",
    "output"
   ]
  },
  {
   "cell_type": "markdown",
   "metadata": {},
   "source": [
    "<div class=\"alert alert-success\"></i><strong>1.3 while loop</strong><br>\n",
    "while loop is used to execute some block of code continuously until a condition is met. A major concern when working with a while loop is to ensure that at some point the condition should become true, otherwise the while loop will go forever. If you find yourself in an endless loop, press <strong>Crtl-C</strong> to kill the process in RStudio or base R."
   ]
  },
  {
   "cell_type": "code",
   "execution_count": null,
   "metadata": {},
   "outputs": [],
   "source": [
    "# The general syntax of a while loop is given as:\n",
    "while (condition){\n",
    "    # Code executed here \n",
    "    # while condition is true\n",
    "}"
   ]
  },
  {
   "cell_type": "code",
   "execution_count": 17,
   "metadata": {},
   "outputs": [
    {
     "name": "stdout",
     "output_type": "stream",
     "text": [
      "X Z P L N T S I M K W A E G O \n",
      "H M L X C G S W F U V N E B Q \n",
      "F L S H Z T Y X Q P A I W M C \n",
      "X O Q W M H B V R Y J N U C G \n",
      "H Y L A P S Z E V T Q B W K F \n",
      "X F S P T K D L N J A O Q I W \n",
      "G K U O X D E J B R H C T P Q \n",
      "K J A N M Y Z W L H X I V D U \n",
      "G X Y U N R O M E H Q A B P V \n",
      "S Q U R E T C O W I J X N V A \n"
     ]
    }
   ],
   "source": [
    "# This while loop checks if the condition (x < 10) is true\n",
    "# if it's false, it prints 15 randomly generated alphabets and moves to a new line\n",
    "# then adds one to x so as to avoid endless loop.This will only stop when the\n",
    "# while condition is true, i.e x > 10.\n",
    "x <- 0\n",
    "\n",
    "while(x < 10){\n",
    "    \n",
    "    cat(sample(LETTERS,15),\"\\n\")\n",
    "    \n",
    "    # add one to x\n",
    "    x <- x+1\n",
    "}"
   ]
  },
  {
   "cell_type": "markdown",
   "metadata": {},
   "source": [
    "<div class=\"alert alert-success\"></i><strong>1.4 next</strong><br>\n",
    "next is used to skip an iteration of a loop given a condition."
   ]
  },
  {
   "cell_type": "code",
   "execution_count": null,
   "metadata": {},
   "outputs": [],
   "source": [
    "for(i in LETTERS) {\n",
    "    if(i < \"V\") {\n",
    "        ## Skip the all letter before \"V\" iterations\n",
    "        next\n",
    "    }\n",
    "        print(i)\n",
    "}"
   ]
  },
  {
   "cell_type": "markdown",
   "metadata": {},
   "source": [
    "<div class=\"alert alert-success\"></i><strong>1.5 break</strong><br>\n",
    "break is used to exit a loop immediately, given a condition regardless of what iteration the loop may be on."
   ]
  },
  {
   "cell_type": "code",
   "execution_count": null,
   "metadata": {},
   "outputs": [],
   "source": [
    "for(i in LETTERS) {\n",
    "    print(i)\n",
    "    if(i == \"D\") {\n",
    "    ## Stop loop after 20 iterations\n",
    "        break\n",
    "    }\n",
    "}"
   ]
  },
  {
   "cell_type": "code",
   "execution_count": null,
   "metadata": {},
   "outputs": [],
   "source": [
    "f <- function(letters, letter){\n",
    "for(i in letters) {\n",
    "    print(i)\n",
    "if(i == letter) {\n",
    "## Stop loop after 20 iterations\n",
    "break\n",
    "}\n",
    "}}\n"
   ]
  },
  {
   "cell_type": "markdown",
   "metadata": {},
   "source": [
    "<div class=\"alert alert-info\"><i class=\"icon-lightbulb\"></i><strong>Discussion</strong><br>\n",
    "Let's work through an integer number guessing game. "
   ]
  },
  {
   "cell_type": "markdown",
   "metadata": {},
   "source": [
    "<div class=\"alert alert-success\"></i><strong>2.0 Functions</strong><br>\n",
    "A function is a piece of code written to carry out a specified task which may or may not accept arguments.Functions are designed by assigning a name like you would when creating an object followed by the assignment operator and the key word function.There are also functions that are <font color = \"red\"><strong>NOT</strong></font> assigned names when developed, these type of functions are called \"anonymous functions\".<br>Functions are made up of three parts:\n",
    "<ul>\n",
    "    <li>Arguments</li>\n",
    "    <li>Body</li>\n",
    "    <li>Enviroment</li>\n",
    "</ul>\n",
    "One rule to keep in mind when creating your own function is to avoid using R key words for your user defined functions names.\n",
    "</div>"
   ]
  },
  {
   "cell_type": "code",
   "execution_count": null,
   "metadata": {},
   "outputs": [],
   "source": [
    "# The basic structure of a function is given as:\n",
    "func.one <- function(arg1, arg2){ # Arguments\n",
    "                body              # Body\n",
    "        }\n",
    "# and the Enviroment which is where R look to for variable and is visually invisible.\n",
    "# More on this when we create our first function."
   ]
  },
  {
   "cell_type": "markdown",
   "metadata": {},
   "source": [
    "<div class=\"alert alert-success\"></i><strong>2.0.1 return value</strong><br>\n",
    "when return is called within a function it forces the function to stop execution and return a value.An example will make this point clearer.\n",
    "</div>"
   ]
  },
  {
   "cell_type": "code",
   "execution_count": null,
   "metadata": {},
   "outputs": [],
   "source": [
    "rm(list=ls())\n",
    "# We will now create our first function which does not have the return key word.\n",
    "# This function simply adds 3 and 5 and also prints a text as you can see this\n",
    "# function does not take in any argument\n",
    "addnumbers <- function(){\n",
    "            print(3 + 2)\n",
    "            print(\"You can read me because no return is called above\")\n",
    "   }\n",
    "addnumbers()"
   ]
  },
  {
   "cell_type": "code",
   "execution_count": null,
   "metadata": {},
   "outputs": [],
   "source": [
    "# This function take two arguments and return a ratio\n",
    "ratio <- function(x, y) {\n",
    "  return (x / y)\n",
    "}\n",
    "\n",
    "# Call ratio() with arguments 3 and 4\n",
    "# I could have as well run the function ratio(y = 2, x = 1) to get \n",
    "# same output as the code snippet below\n",
    "ratio(1, 2)"
   ]
  },
  {
   "cell_type": "code",
   "execution_count": null,
   "metadata": {},
   "outputs": [],
   "source": [
    "rm(list=ls())\n",
    "# We will now create our second function which has the return key word.Did you notice\n",
    "# anything in the output?\n",
    "# This function simply adds 3 and 5 and ignors the prints part since\n",
    "# return was called.\n",
    "addnumbersv1 <- function(){\n",
    "            return(3 + 2)\n",
    "            print(\"You can read me because no return is called above\")\n",
    "   }\n",
    "addnumbersv1()"
   ]
  },
  {
   "cell_type": "code",
   "execution_count": null,
   "metadata": {},
   "outputs": [],
   "source": [
    "# An example of an anonymus function that does not have a name assigned to it.\n",
    "# Anonymus function are always written on a single line as below\n",
    "(function(x) {x + 5})(2)"
   ]
  },
  {
   "cell_type": "code",
   "execution_count": null,
   "metadata": {},
   "outputs": [],
   "source": [
    "# A function with one default argument. This means that when\n",
    "# this function is called you may or may not pass/change the value of y\n",
    "addxy <- function(x, y = 3){\n",
    "    x + y\n",
    "}\n",
    "addxy(2)"
   ]
  },
  {
   "cell_type": "code",
   "execution_count": null,
   "metadata": {},
   "outputs": [],
   "source": [
    "# change the default value of y\n",
    "addxy(x = 7, y = 19)"
   ]
  },
  {
   "cell_type": "markdown",
   "metadata": {},
   "source": [
    "<div class=\"alert alert-success\"></i><strong>2.0.2 Scoping</strong><br>\n",
    "Scoping in R basically describes how and where (Note: NOT WHEN) R looks for values by name. There are basically two types of scope in R:\n",
    "<ul>\n",
    "<li>local scope</li> \n",
    "<li>global scope</li>\n",
    "<ul>\n",
    "</div>"
   ]
  },
  {
   "cell_type": "code",
   "execution_count": null,
   "metadata": {},
   "outputs": [],
   "source": [
    "# If a name is not defined inside a function, R will look one level up.\n",
    "# The example below would make this point clearer.\n",
    "\n",
    "# The function below returns the sum of x and y.\n",
    "# There are two variables obviously, x and y but y is not defined within the function\n",
    "# so when the function is called, it will make use of the value defined within and \n",
    "# look one level up to find the name/varible y\n",
    "# x is said to be a local variable while in this case y is a global variable.\n",
    "# Any global variable may be called/used in a function but local variables CAN'T be \n",
    "# called outside a function.\n",
    "\n",
    "x <- 10\n",
    "fc <- function(x) {\n",
    "  x + y\n",
    "}\n",
    "\n",
    "# call the function fc\n",
    "fc(10)"
   ]
  },
  {
   "cell_type": "markdown",
   "metadata": {},
   "source": [
    "<div class=\"alert alert-info\"><i class=\"icon-lightbulb\"></i><strong>Discussion</strong><br>\n",
    "Given our earlier explanation what do you think the output would be?.Let's talk about the code below:<br>\n",
    "y <- 10<br>\n",
    "fz <- function(x) {<br>\n",
    "  y <- 5<br>\n",
    "  x + y<br>\n",
    "}"
   ]
  },
  {
   "cell_type": "markdown",
   "metadata": {},
   "source": [
    "<div class=\"alert alert-info\"><i class=\"icon-lightbulb\"></i><strong>Discussion</strong><br>\n",
    "How do we write a function that checks if a given number or list of number is an even or odd number."
   ]
  },
  {
   "cell_type": "markdown",
   "metadata": {},
   "source": [
    "<div class=\"alert alert-danger\"></i><i class=\"icon-attention-alt\"></i>**Try it out!**<br>Given the list below,<br>\n",
    "circle_rdaii = list(2,24,5,6,2,8,9,1,5,9,3,2,12,67,89,45,23,78,12)<br>write a function that computes the list of radii of different cirles.Your solution should be of the form shown below.<br>"
   ]
  },
  {
   "cell_type": "code",
   "execution_count": 65,
   "metadata": {},
   "outputs": [
    {
     "name": "stdout",
     "output_type": "stream",
     "text": [
      "[1] \"The area of a circle with radius 2 is 6.28318530717959\"\n",
      "[1] \"The area of a circle with radius 24 is 75.398223686155\"\n",
      "[1] \"The area of a circle with radius 5 is 15.707963267949\"\n",
      "[1] \"The area of a circle with radius 6 is 18.8495559215388\"\n",
      "[1] \"The area of a circle with radius 2 is 6.28318530717959\"\n",
      "[1] \"The area of a circle with radius 8 is 25.1327412287183\"\n",
      "[1] \"The area of a circle with radius 9 is 28.2743338823081\"\n",
      "[1] \"The area of a circle with radius 1 is 3.14159265358979\"\n",
      "[1] \"The area of a circle with radius 5 is 15.707963267949\"\n",
      "[1] \"The area of a circle with radius 9 is 28.2743338823081\"\n",
      "[1] \"The area of a circle with radius 3 is 9.42477796076938\"\n",
      "[1] \"The area of a circle with radius 2 is 6.28318530717959\"\n",
      "[1] \"The area of a circle with radius 12 is 37.6991118430775\"\n",
      "[1] \"The area of a circle with radius 67 is 210.486707790516\"\n",
      "[1] \"The area of a circle with radius 89 is 279.601746169492\"\n",
      "[1] \"The area of a circle with radius 45 is 141.371669411541\"\n",
      "[1] \"The area of a circle with radius 23 is 72.2566310325652\"\n",
      "[1] \"The area of a circle with radius 78 is 245.044226980004\"\n",
      "[1] \"The area of a circle with radius 12 is 37.6991118430775\"\n"
     ]
    }
   ],
   "source": []
  }
 ],
 "metadata": {
  "kernelspec": {
   "display_name": "R",
   "language": "R",
   "name": "ir"
  },
  "language_info": {
   "codemirror_mode": "r",
   "file_extension": ".r",
   "mimetype": "text/x-r-source",
   "name": "R",
   "pygments_lexer": "r",
   "version": "3.5.1"
  }
 },
 "nbformat": 4,
 "nbformat_minor": 2
}
